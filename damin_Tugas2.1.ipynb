{
  "nbformat": 4,
  "nbformat_minor": 0,
  "metadata": {
    "colab": {
      "name": "damin Tugas2.ipynb",
      "provenance": [],
      "collapsed_sections": [],
      "include_colab_link": true
    },
    "kernelspec": {
      "name": "python3",
      "display_name": "Python 3"
    }
  },
  "cells": [
    {
      "cell_type": "markdown",
      "metadata": {
        "id": "view-in-github",
        "colab_type": "text"
      },
      "source": [
        "<a href=\"https://colab.research.google.com/github/leadymunte/Damin-Tugas2/blob/master/damin_Tugas2.1.ipynb\" target=\"_parent\"><img src=\"https://colab.research.google.com/assets/colab-badge.svg\" alt=\"Open In Colab\"/></a>"
      ]
    },
    {
      "cell_type": "code",
      "metadata": {
        "id": "97kcZN1RrxPl",
        "colab_type": "code",
        "colab": {}
      },
      "source": [
        "import pandas as pd\n",
        "import numpy as np\n",
        "from sklearn.cluster import KMeans\n",
        "import seaborn as sns\n",
        "import matplotlib.pyplot as plt\n",
        "plt.style.use\n",
        "from matplotlib import style\n",
        "from google.colab import files\n",
        "from collections import Counter"
      ],
      "execution_count": 0,
      "outputs": []
    },
    {
      "cell_type": "code",
      "metadata": {
        "id": "ztznIbIgsm6p",
        "colab_type": "code",
        "outputId": "db03fd6b-98a8-441d-adaa-2920a72dd6b4",
        "colab": {
          "resources": {
            "http://localhost:8080/nbextensions/google.colab/files.js": {
              "data": "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",
              "ok": true,
              "headers": [
                [
                  "content-type",
                  "application/javascript"
                ]
              ],
              "status": 200,
              "status_text": ""
            }
          },
          "base_uri": "https://localhost:8080/",
          "height": 40
        }
      },
      "source": [
        "uploaded = files.upload()"
      ],
      "execution_count": 261,
      "outputs": [
        {
          "output_type": "display_data",
          "data": {
            "text/html": [
              "\n",
              "     <input type=\"file\" id=\"files-7c13735c-90b2-4683-a895-d671794c86d9\" name=\"files[]\" multiple disabled />\n",
              "     <output id=\"result-7c13735c-90b2-4683-a895-d671794c86d9\">\n",
              "      Upload widget is only available when the cell has been executed in the\n",
              "      current browser session. Please rerun this cell to enable.\n",
              "      </output>\n",
              "      <script src=\"/nbextensions/google.colab/files.js\"></script> "
            ],
            "text/plain": [
              "<IPython.core.display.HTML object>"
            ]
          },
          "metadata": {
            "tags": []
          }
        }
      ]
    },
    {
      "cell_type": "code",
      "metadata": {
        "id": "I7APJ7jbsjZz",
        "colab_type": "code",
        "colab": {}
      },
      "source": [
        "for fn in uploaded.keys():\n",
        "  print('User uploaded file \"{name}\" with length {length} bytes'.format(\n",
        "      name=fn, length=len(uploaded[fn])))"
      ],
      "execution_count": 0,
      "outputs": []
    },
    {
      "cell_type": "code",
      "metadata": {
        "id": "drWmomfQpg8q",
        "colab_type": "code",
        "colab": {
          "base_uri": "https://localhost:8080/",
          "height": 204
        },
        "outputId": "274b3882-833e-4b6e-9876-31495282c14e"
      },
      "source": [
        "dtrain=pd.read_csv(\"datasetBaru - Copy.csv\",sep='\\t',delimiter=';')\n",
        "dtrain.head()"
      ],
      "execution_count": 422,
      "outputs": [
        {
          "output_type": "execute_result",
          "data": {
            "text/html": [
              "<div>\n",
              "<style scoped>\n",
              "    .dataframe tbody tr th:only-of-type {\n",
              "        vertical-align: middle;\n",
              "    }\n",
              "\n",
              "    .dataframe tbody tr th {\n",
              "        vertical-align: top;\n",
              "    }\n",
              "\n",
              "    .dataframe thead th {\n",
              "        text-align: right;\n",
              "    }\n",
              "</style>\n",
              "<table border=\"1\" class=\"dataframe\">\n",
              "  <thead>\n",
              "    <tr style=\"text-align: right;\">\n",
              "      <th></th>\n",
              "      <th>latitude</th>\n",
              "      <th>longitude</th>\n",
              "      <th>bright_ti4</th>\n",
              "      <th>scan</th>\n",
              "      <th>track</th>\n",
              "    </tr>\n",
              "  </thead>\n",
              "  <tbody>\n",
              "    <tr>\n",
              "      <th>0</th>\n",
              "      <td>-724.685</td>\n",
              "      <td>11.234.071</td>\n",
              "      <td>304.05.00</td>\n",
              "      <td>0.38</td>\n",
              "      <td>0.58</td>\n",
              "    </tr>\n",
              "    <tr>\n",
              "      <th>1</th>\n",
              "      <td>-724.858</td>\n",
              "      <td>11.234.313</td>\n",
              "      <td>301.05.00</td>\n",
              "      <td>0.38</td>\n",
              "      <td>0.58</td>\n",
              "    </tr>\n",
              "    <tr>\n",
              "      <th>2</th>\n",
              "      <td>-730.268</td>\n",
              "      <td>11.236.498</td>\n",
              "      <td>303.04.00</td>\n",
              "      <td>0.37</td>\n",
              "      <td>0.58</td>\n",
              "    </tr>\n",
              "    <tr>\n",
              "      <th>3</th>\n",
              "      <td>-737.448</td>\n",
              "      <td>11.251.962</td>\n",
              "      <td>305.02.00</td>\n",
              "      <td>0.36</td>\n",
              "      <td>0.58</td>\n",
              "    </tr>\n",
              "    <tr>\n",
              "      <th>4</th>\n",
              "      <td>-737.333</td>\n",
              "      <td>11.219.071</td>\n",
              "      <td>304.06.00</td>\n",
              "      <td>0.38</td>\n",
              "      <td>0.59</td>\n",
              "    </tr>\n",
              "  </tbody>\n",
              "</table>\n",
              "</div>"
            ],
            "text/plain": [
              "   latitude   longitude bright_ti4  scan  track\n",
              "0  -724.685  11.234.071  304.05.00  0.38   0.58\n",
              "1  -724.858  11.234.313  301.05.00  0.38   0.58\n",
              "2  -730.268  11.236.498  303.04.00  0.37   0.58\n",
              "3  -737.448  11.251.962  305.02.00  0.36   0.58\n",
              "4  -737.333  11.219.071  304.06.00  0.38   0.59"
            ]
          },
          "metadata": {
            "tags": []
          },
          "execution_count": 422
        }
      ]
    },
    {
      "cell_type": "code",
      "metadata": {
        "id": "d_sZvnQPnqIY",
        "colab_type": "code",
        "colab": {
          "base_uri": "https://localhost:8080/",
          "height": 187
        },
        "outputId": "f87897e2-fce8-4a4d-eb72-df376a51efa4"
      },
      "source": [
        "dtrain.info"
      ],
      "execution_count": 346,
      "outputs": [
        {
          "output_type": "stream",
          "text": [
            "<class 'pandas.core.frame.DataFrame'>\n",
            "RangeIndex: 298 entries, 0 to 297\n",
            "Data columns (total 5 columns):\n",
            "latitude      298 non-null float64\n",
            "longitude     298 non-null object\n",
            "bright_ti4    298 non-null object\n",
            "scan          298 non-null float64\n",
            "track         298 non-null float64\n",
            "dtypes: float64(3), object(2)\n",
            "memory usage: 11.8+ KB\n"
          ],
          "name": "stdout"
        }
      ]
    },
    {
      "cell_type": "code",
      "metadata": {
        "id": "un5p2zGH3TlW",
        "colab_type": "code",
        "colab": {
          "base_uri": "https://localhost:8080/",
          "height": 297
        },
        "outputId": "2e44f31c-ebc1-45b4-92b7-6ddaa31ccbc9"
      },
      "source": [
        "dtrain.describe()"
      ],
      "execution_count": 354,
      "outputs": [
        {
          "output_type": "execute_result",
          "data": {
            "text/html": [
              "<div>\n",
              "<style scoped>\n",
              "    .dataframe tbody tr th:only-of-type {\n",
              "        vertical-align: middle;\n",
              "    }\n",
              "\n",
              "    .dataframe tbody tr th {\n",
              "        vertical-align: top;\n",
              "    }\n",
              "\n",
              "    .dataframe thead th {\n",
              "        text-align: right;\n",
              "    }\n",
              "</style>\n",
              "<table border=\"1\" class=\"dataframe\">\n",
              "  <thead>\n",
              "    <tr style=\"text-align: right;\">\n",
              "      <th></th>\n",
              "      <th>latitude</th>\n",
              "      <th>scan</th>\n",
              "      <th>track</th>\n",
              "    </tr>\n",
              "  </thead>\n",
              "  <tbody>\n",
              "    <tr>\n",
              "      <th>count</th>\n",
              "      <td>298.000000</td>\n",
              "      <td>298.000000</td>\n",
              "      <td>298.000000</td>\n",
              "    </tr>\n",
              "    <tr>\n",
              "      <th>mean</th>\n",
              "      <td>-380.995486</td>\n",
              "      <td>0.409027</td>\n",
              "      <td>0.372047</td>\n",
              "    </tr>\n",
              "    <tr>\n",
              "      <th>std</th>\n",
              "      <td>469.631420</td>\n",
              "      <td>0.111389</td>\n",
              "      <td>0.129922</td>\n",
              "    </tr>\n",
              "    <tr>\n",
              "      <th>min</th>\n",
              "      <td>-985.067000</td>\n",
              "      <td>0.040000</td>\n",
              "      <td>0.040000</td>\n",
              "    </tr>\n",
              "    <tr>\n",
              "      <th>25%</th>\n",
              "      <td>-811.757000</td>\n",
              "      <td>0.410000</td>\n",
              "      <td>0.370000</td>\n",
              "    </tr>\n",
              "    <tr>\n",
              "      <th>50%</th>\n",
              "      <td>-677.836500</td>\n",
              "      <td>0.440000</td>\n",
              "      <td>0.390000</td>\n",
              "    </tr>\n",
              "    <tr>\n",
              "      <th>75%</th>\n",
              "      <td>169.434500</td>\n",
              "      <td>0.450000</td>\n",
              "      <td>0.410000</td>\n",
              "    </tr>\n",
              "    <tr>\n",
              "      <th>max</th>\n",
              "      <td>488.711000</td>\n",
              "      <td>0.570000</td>\n",
              "      <td>0.590000</td>\n",
              "    </tr>\n",
              "  </tbody>\n",
              "</table>\n",
              "</div>"
            ],
            "text/plain": [
              "         latitude        scan       track\n",
              "count  298.000000  298.000000  298.000000\n",
              "mean  -380.995486    0.409027    0.372047\n",
              "std    469.631420    0.111389    0.129922\n",
              "min   -985.067000    0.040000    0.040000\n",
              "25%   -811.757000    0.410000    0.370000\n",
              "50%   -677.836500    0.440000    0.390000\n",
              "75%    169.434500    0.450000    0.410000\n",
              "max    488.711000    0.570000    0.590000"
            ]
          },
          "metadata": {
            "tags": []
          },
          "execution_count": 354
        }
      ]
    },
    {
      "cell_type": "code",
      "metadata": {
        "id": "_ZpLxBWkqE3i",
        "colab_type": "code",
        "colab": {
          "base_uri": "https://localhost:8080/",
          "height": 204
        },
        "outputId": "4b5813ce-a0dc-41fb-e0a8-114affc6888e"
      },
      "source": [
        "dtrain.head()"
      ],
      "execution_count": 355,
      "outputs": [
        {
          "output_type": "execute_result",
          "data": {
            "text/html": [
              "<div>\n",
              "<style scoped>\n",
              "    .dataframe tbody tr th:only-of-type {\n",
              "        vertical-align: middle;\n",
              "    }\n",
              "\n",
              "    .dataframe tbody tr th {\n",
              "        vertical-align: top;\n",
              "    }\n",
              "\n",
              "    .dataframe thead th {\n",
              "        text-align: right;\n",
              "    }\n",
              "</style>\n",
              "<table border=\"1\" class=\"dataframe\">\n",
              "  <thead>\n",
              "    <tr style=\"text-align: right;\">\n",
              "      <th></th>\n",
              "      <th>latitude</th>\n",
              "      <th>longitude</th>\n",
              "      <th>bright_ti4</th>\n",
              "      <th>scan</th>\n",
              "      <th>track</th>\n",
              "    </tr>\n",
              "  </thead>\n",
              "  <tbody>\n",
              "    <tr>\n",
              "      <th>0</th>\n",
              "      <td>-724.685</td>\n",
              "      <td>11.234.071</td>\n",
              "      <td>304.05.00</td>\n",
              "      <td>0.38</td>\n",
              "      <td>0.58</td>\n",
              "    </tr>\n",
              "    <tr>\n",
              "      <th>1</th>\n",
              "      <td>-724.858</td>\n",
              "      <td>11.234.313</td>\n",
              "      <td>301.05.00</td>\n",
              "      <td>0.38</td>\n",
              "      <td>0.58</td>\n",
              "    </tr>\n",
              "    <tr>\n",
              "      <th>2</th>\n",
              "      <td>-730.268</td>\n",
              "      <td>11.236.498</td>\n",
              "      <td>303.04.00</td>\n",
              "      <td>0.37</td>\n",
              "      <td>0.58</td>\n",
              "    </tr>\n",
              "    <tr>\n",
              "      <th>3</th>\n",
              "      <td>-737.448</td>\n",
              "      <td>11.251.962</td>\n",
              "      <td>305.02.00</td>\n",
              "      <td>0.36</td>\n",
              "      <td>0.58</td>\n",
              "    </tr>\n",
              "    <tr>\n",
              "      <th>4</th>\n",
              "      <td>-737.333</td>\n",
              "      <td>11.219.071</td>\n",
              "      <td>304.06.00</td>\n",
              "      <td>0.38</td>\n",
              "      <td>0.59</td>\n",
              "    </tr>\n",
              "  </tbody>\n",
              "</table>\n",
              "</div>"
            ],
            "text/plain": [
              "   latitude   longitude bright_ti4  scan  track\n",
              "0  -724.685  11.234.071  304.05.00  0.38   0.58\n",
              "1  -724.858  11.234.313  301.05.00  0.38   0.58\n",
              "2  -730.268  11.236.498  303.04.00  0.37   0.58\n",
              "3  -737.448  11.251.962  305.02.00  0.36   0.58\n",
              "4  -737.333  11.219.071  304.06.00  0.38   0.59"
            ]
          },
          "metadata": {
            "tags": []
          },
          "execution_count": 355
        }
      ]
    },
    {
      "cell_type": "code",
      "metadata": {
        "id": "JtCmPNNmD-0O",
        "colab_type": "code",
        "colab": {
          "base_uri": "https://localhost:8080/",
          "height": 34
        },
        "outputId": "5132d688-c0e9-406f-e199-d13b0be27207"
      },
      "source": [
        "print(dtrain.columns.values)"
      ],
      "execution_count": 349,
      "outputs": [
        {
          "output_type": "stream",
          "text": [
            "['latitude' 'longitude' 'bright_ti4' 'scan' 'track']\n"
          ],
          "name": "stdout"
        }
      ]
    },
    {
      "cell_type": "code",
      "metadata": {
        "id": "oCI6bLDJI8wt",
        "colab_type": "code",
        "colab": {
          "base_uri": "https://localhost:8080/",
          "height": 282
        },
        "outputId": "c33fe080-186e-4864-d806-cca2b529d4fc"
      },
      "source": [
        "dtrain.plot()"
      ],
      "execution_count": 380,
      "outputs": [
        {
          "output_type": "execute_result",
          "data": {
            "text/plain": [
              "<matplotlib.axes._subplots.AxesSubplot at 0x7f0f22f600b8>"
            ]
          },
          "metadata": {
            "tags": []
          },
          "execution_count": 380
        },
        {
          "output_type": "display_data",
          "data": {
            "image/png": "[encoded data removed]",
            "text/plain": [
              "<Figure size 432x288 with 1 Axes>"
            ]
          },
          "metadata": {
            "tags": []
          }
        }
      ]
    },
    {
      "cell_type": "code",
      "metadata": {
        "id": "vD3eeaFLsRuK",
        "colab_type": "code",
        "colab": {
          "base_uri": "https://localhost:8080/",
          "height": 255
        },
        "outputId": "b0ee2dd1-0d31-4898-9b27-0b833616b952"
      },
      "source": [
        "df = dtrain\n",
        "print(df)"
      ],
      "execution_count": 382,
      "outputs": [
        {
          "output_type": "stream",
          "text": [
            "     latitude   longitude bright_ti4  scan  track\n",
            "0    -724.685  11.234.071  304.05.00  0.38   0.58\n",
            "1    -724.858  11.234.313  301.05.00  0.38   0.58\n",
            "2    -730.268  11.236.498  303.04.00  0.37   0.58\n",
            "3    -737.448  11.251.962  305.02.00  0.36   0.58\n",
            "4    -737.333  11.219.071  304.06.00  0.38   0.59\n",
            "..        ...         ...        ...   ...    ...\n",
            "293  -711.318  10.936.131  331.06.00  0.04   0.45\n",
            "294  -707.731  10.958.936  339.08.00  0.39   0.44\n",
            "295  -691.757  10.943.207  343.08.00  0.04   0.44\n",
            "296  -759.341  10.956.709  330.06.00  0.04   0.44\n",
            "297  -686.108  11.079.722  333.05.00  0.05   0.41\n",
            "\n",
            "[298 rows x 5 columns]\n"
          ],
          "name": "stdout"
        }
      ]
    },
    {
      "cell_type": "code",
      "metadata": {
        "id": "wpkkeiaYvErM",
        "colab_type": "code",
        "colab": {
          "base_uri": "https://localhost:8080/",
          "height": 419
        },
        "outputId": "193b1cad-493c-4def-90ad-22217507281a"
      },
      "source": [
        "df = dtrain.drop(['longitude' , 'bright_ti4' , 'scan'] , axis=1)\n",
        "df"
      ],
      "execution_count": 426,
      "outputs": [
        {
          "output_type": "execute_result",
          "data": {
            "text/html": [
              "<div>\n",
              "<style scoped>\n",
              "    .dataframe tbody tr th:only-of-type {\n",
              "        vertical-align: middle;\n",
              "    }\n",
              "\n",
              "    .dataframe tbody tr th {\n",
              "        vertical-align: top;\n",
              "    }\n",
              "\n",
              "    .dataframe thead th {\n",
              "        text-align: right;\n",
              "    }\n",
              "</style>\n",
              "<table border=\"1\" class=\"dataframe\">\n",
              "  <thead>\n",
              "    <tr style=\"text-align: right;\">\n",
              "      <th></th>\n",
              "      <th>latitude</th>\n",
              "      <th>track</th>\n",
              "    </tr>\n",
              "  </thead>\n",
              "  <tbody>\n",
              "    <tr>\n",
              "      <th>0</th>\n",
              "      <td>-724.685</td>\n",
              "      <td>0.58</td>\n",
              "    </tr>\n",
              "    <tr>\n",
              "      <th>1</th>\n",
              "      <td>-724.858</td>\n",
              "      <td>0.58</td>\n",
              "    </tr>\n",
              "    <tr>\n",
              "      <th>2</th>\n",
              "      <td>-730.268</td>\n",
              "      <td>0.58</td>\n",
              "    </tr>\n",
              "    <tr>\n",
              "      <th>3</th>\n",
              "      <td>-737.448</td>\n",
              "      <td>0.58</td>\n",
              "    </tr>\n",
              "    <tr>\n",
              "      <th>4</th>\n",
              "      <td>-737.333</td>\n",
              "      <td>0.59</td>\n",
              "    </tr>\n",
              "    <tr>\n",
              "      <th>...</th>\n",
              "      <td>...</td>\n",
              "      <td>...</td>\n",
              "    </tr>\n",
              "    <tr>\n",
              "      <th>293</th>\n",
              "      <td>-711.318</td>\n",
              "      <td>0.45</td>\n",
              "    </tr>\n",
              "    <tr>\n",
              "      <th>294</th>\n",
              "      <td>-707.731</td>\n",
              "      <td>0.44</td>\n",
              "    </tr>\n",
              "    <tr>\n",
              "      <th>295</th>\n",
              "      <td>-691.757</td>\n",
              "      <td>0.44</td>\n",
              "    </tr>\n",
              "    <tr>\n",
              "      <th>296</th>\n",
              "      <td>-759.341</td>\n",
              "      <td>0.44</td>\n",
              "    </tr>\n",
              "    <tr>\n",
              "      <th>297</th>\n",
              "      <td>-686.108</td>\n",
              "      <td>0.41</td>\n",
              "    </tr>\n",
              "  </tbody>\n",
              "</table>\n",
              "<p>298 rows × 2 columns</p>\n",
              "</div>"
            ],
            "text/plain": [
              "     latitude  track\n",
              "0    -724.685   0.58\n",
              "1    -724.858   0.58\n",
              "2    -730.268   0.58\n",
              "3    -737.448   0.58\n",
              "4    -737.333   0.59\n",
              "..        ...    ...\n",
              "293  -711.318   0.45\n",
              "294  -707.731   0.44\n",
              "295  -691.757   0.44\n",
              "296  -759.341   0.44\n",
              "297  -686.108   0.41\n",
              "\n",
              "[298 rows x 2 columns]"
            ]
          },
          "metadata": {
            "tags": []
          },
          "execution_count": 426
        }
      ]
    },
    {
      "cell_type": "code",
      "metadata": {
        "id": "VKf8kw8LsLwa",
        "colab_type": "code",
        "colab": {
          "base_uri": "https://localhost:8080/",
          "height": 282
        },
        "outputId": "eb7b1b3b-34a2-42d6-a921-651478f6647b"
      },
      "source": [
        "#untuk melihat visualisasi data\n",
        "plt.scatter(df.latitude, df.track, s=15,c=\"c\", marker=\"o\", alpha = 1)"
      ],
      "execution_count": 487,
      "outputs": [
        {
          "output_type": "execute_result",
          "data": {
            "text/plain": [
              "<matplotlib.collections.PathCollection at 0x7f0f1febdac8>"
            ]
          },
          "metadata": {
            "tags": []
          },
          "execution_count": 487
        },
        {
          "output_type": "display_data",
          "data": {
            "image/png": "[encoded data removed]",
            "text/plain": [
              "<Figure size 432x288 with 1 Axes>"
            ]
          },
          "metadata": {
            "tags": []
          }
        }
      ]
    },
    {
      "cell_type": "code",
      "metadata": {
        "id": "8nWoYd31s14F",
        "colab_type": "code",
        "colab": {
          "base_uri": "https://localhost:8080/",
          "height": 204
        },
        "outputId": "49af77fa-90d5-4019-b603-3cdcea507694"
      },
      "source": [
        "#untuk membuat cluster\n",
        "\n",
        "df_x = df.iloc[:,0:2]\n",
        "df_x.head()"
      ],
      "execution_count": 489,
      "outputs": [
        {
          "output_type": "execute_result",
          "data": {
            "text/html": [
              "<div>\n",
              "<style scoped>\n",
              "    .dataframe tbody tr th:only-of-type {\n",
              "        vertical-align: middle;\n",
              "    }\n",
              "\n",
              "    .dataframe tbody tr th {\n",
              "        vertical-align: top;\n",
              "    }\n",
              "\n",
              "    .dataframe thead th {\n",
              "        text-align: right;\n",
              "    }\n",
              "</style>\n",
              "<table border=\"1\" class=\"dataframe\">\n",
              "  <thead>\n",
              "    <tr style=\"text-align: right;\">\n",
              "      <th></th>\n",
              "      <th>latitude</th>\n",
              "      <th>track</th>\n",
              "    </tr>\n",
              "  </thead>\n",
              "  <tbody>\n",
              "    <tr>\n",
              "      <th>0</th>\n",
              "      <td>-724.685</td>\n",
              "      <td>0.58</td>\n",
              "    </tr>\n",
              "    <tr>\n",
              "      <th>1</th>\n",
              "      <td>-724.858</td>\n",
              "      <td>0.58</td>\n",
              "    </tr>\n",
              "    <tr>\n",
              "      <th>2</th>\n",
              "      <td>-730.268</td>\n",
              "      <td>0.58</td>\n",
              "    </tr>\n",
              "    <tr>\n",
              "      <th>3</th>\n",
              "      <td>-737.448</td>\n",
              "      <td>0.58</td>\n",
              "    </tr>\n",
              "    <tr>\n",
              "      <th>4</th>\n",
              "      <td>-737.333</td>\n",
              "      <td>0.59</td>\n",
              "    </tr>\n",
              "  </tbody>\n",
              "</table>\n",
              "</div>"
            ],
            "text/plain": [
              "   latitude  track\n",
              "0  -724.685   0.58\n",
              "1  -724.858   0.58\n",
              "2  -730.268   0.58\n",
              "3  -737.448   0.58\n",
              "4  -737.333   0.59"
            ]
          },
          "metadata": {
            "tags": []
          },
          "execution_count": 489
        }
      ]
    },
    {
      "cell_type": "code",
      "metadata": {
        "id": "4JNpN4T3tjPD",
        "colab_type": "code",
        "colab": {
          "base_uri": "https://localhost:8080/",
          "height": 1000
        },
        "outputId": "d0499086-a41f-4b18-a75a-69a51dc45571"
      },
      "source": [
        "#mengubah data frame menjadi sebuah array terlebih dahulu sebelum menentukan nilai K\n",
        "x_array = np.array(df_x)\n",
        "print(x_array)"
      ],
      "execution_count": 490,
      "outputs": [
        {
          "output_type": "stream",
          "text": [
            "[[-7.24685e+02  5.80000e-01]\n",
            " [-7.24858e+02  5.80000e-01]\n",
            " [-7.30268e+02  5.80000e-01]\n",
            " [-7.37448e+02  5.80000e-01]\n",
            " [-7.37333e+02  5.90000e-01]\n",
            " [-8.43923e+02  3.70000e-01]\n",
            " [-7.78068e+02  5.10000e-01]\n",
            " [-9.55433e+02  3.60000e-01]\n",
            " [-8.11809e+02  5.60000e-01]\n",
            " [-8.11417e+02  5.60000e-01]\n",
            " [-8.11116e+02  5.60000e-01]\n",
            " [-7.59989e+02  5.80000e-01]\n",
            " [-7.60274e+02  5.80000e-01]\n",
            " [-8.11255e+02  5.60000e-01]\n",
            " [-8.11214e+02  5.60000e-01]\n",
            " [-8.11460e+01  5.60000e-01]\n",
            " [-8.29078e+02  5.80000e-01]\n",
            " [-8.11538e+02  5.60000e-01]\n",
            " [-8.11730e+01  5.60000e-01]\n",
            " [-8.11773e+02  5.60000e-01]\n",
            " [-8.34153e+02  4.70000e-01]\n",
            " [-8.34218e+02  4.70000e-01]\n",
            " [ 2.08472e+02  3.70000e-01]\n",
            " [ 2.08412e+02  3.70000e-01]\n",
            " [ 3.57782e+02  3.60000e-01]\n",
            " [ 2.19473e+02  3.80000e-01]\n",
            " [ 2.52647e+02  3.70000e-01]\n",
            " [ 3.17117e+02  3.60000e-01]\n",
            " [ 2.52705e+02  3.70000e-01]\n",
            " [ 2.52309e+02  3.70000e-01]\n",
            " [ 2.08459e+02  3.70000e-01]\n",
            " [ 2.08188e+02  3.70000e-01]\n",
            " [ 2.18775e+02  3.80000e-01]\n",
            " [ 3.04096e+02  3.60000e-01]\n",
            " [ 2.07844e+02  3.70000e-01]\n",
            " [ 2.54074e+02  3.60000e-01]\n",
            " [ 4.88711e+02  3.80000e-01]\n",
            " [ 2.07785e+02  3.70000e-01]\n",
            " [ 2.63014e+02  3.60000e-01]\n",
            " [ 2.53190e+01  3.60000e-01]\n",
            " [ 1.88751e+02  3.80000e-01]\n",
            " [ 2.08532e+02  3.70000e-01]\n",
            " [ 2.08069e+02  3.70000e-01]\n",
            " [ 2.08591e+02  3.70000e-01]\n",
            " [ 2.53135e+02  3.60000e-01]\n",
            " [ 2.19124e+02  3.80000e-01]\n",
            " [ 2.08248e+02  3.70000e-01]\n",
            " [ 2.27632e+02  3.70000e-01]\n",
            " [ 1.69891e+02  3.90000e-01]\n",
            " [ 1.69954e+02  3.90000e-01]\n",
            " [ 1.70018e+02  3.90000e-01]\n",
            " [ 1.70082e+02  3.90000e-01]\n",
            " [ 1.70145e+02  3.90000e-01]\n",
            " [ 1.70209e+02  3.90000e-01]\n",
            " [ 1.69113e+02  3.90000e-01]\n",
            " [ 1.70272e+02  3.90000e-01]\n",
            " [ 1.71468e+02  3.90000e-01]\n",
            " [ 1.71405e+02  3.90000e-01]\n",
            " [ 1.73017e+02  3.90000e-01]\n",
            " [ 1.69023e+02  3.90000e-01]\n",
            " [ 1.72791e+02  3.90000e-01]\n",
            " [ 1.72726e+02  3.90000e-01]\n",
            " [ 1.72935e+02  3.90000e-01]\n",
            " [ 1.72872e+02  3.90000e-01]\n",
            " [ 1.72578e+02  3.90000e-01]\n",
            " [ 1.73228e+02  3.90000e-01]\n",
            " [ 1.72452e+02  3.90000e-01]\n",
            " [ 1.72095e+02  3.90000e-01]\n",
            " [ 1.69087e+02  3.90000e-01]\n",
            " [ 1.69151e+02  3.90000e-01]\n",
            " [ 1.71049e+02  3.90000e-01]\n",
            " [ 1.73082e+02  3.90000e-01]\n",
            " [ 1.69789e+02  3.90000e-01]\n",
            " [ 1.86898e+02  3.80000e-01]\n",
            " [ 1.71761e+02  3.90000e-01]\n",
            " [ 1.71819e+02  3.90000e-01]\n",
            " [ 1.69470e+01  3.90000e-01]\n",
            " [ 1.69763e+02  3.90000e-01]\n",
            " [ 1.69380e+01  3.90000e-01]\n",
            " [ 1.69738e+02  3.90000e-01]\n",
            " [ 1.69598e+02  3.90000e-01]\n",
            " [ 1.68253e+02  3.90000e-01]\n",
            " [ 1.69979e+02  3.90000e-01]\n",
            " [ 1.70043e+02  3.90000e-01]\n",
            " [ 1.70336e+02  3.90000e-01]\n",
            " [ 1.70399e+02  3.90000e-01]\n",
            " [ 1.70756e+02  3.90000e-01]\n",
            " [ 1.69508e+02  3.90000e-01]\n",
            " [ 1.70692e+02  3.90000e-01]\n",
            " [ 1.69916e+02  3.90000e-01]\n",
            " [ 1.69661e+02  3.90000e-01]\n",
            " [ 1.70311e+02  3.90000e-01]\n",
            " [ 1.69444e+02  3.90000e-01]\n",
            " [ 1.69674e+02  3.90000e-01]\n",
            " [ 1.71112e+02  3.90000e-01]\n",
            " [ 1.68985e+02  3.90000e-01]\n",
            " [ 1.69406e+02  3.90000e-01]\n",
            " [ 1.69049e+02  3.90000e-01]\n",
            " [ 1.69827e+02  3.90000e-01]\n",
            " [ 1.71738e+02  3.90000e-01]\n",
            " [ 1.71698e+02  3.90000e-01]\n",
            " [ 1.70375e+02  3.90000e-01]\n",
            " [ 1.70629e+02  3.90000e-01]\n",
            " [ 1.70565e+02  3.90000e-01]\n",
            " [ 1.69623e+02  3.90000e-01]\n",
            " [ 1.69317e+02  3.90000e-01]\n",
            " [ 1.70502e+02  3.90000e-01]\n",
            " [ 1.70438e+02  3.90000e-01]\n",
            " [ 3.09948e+02  3.60000e-01]\n",
            " [ 1.31784e+02  3.90000e-01]\n",
            " [ 1.31429e+02  3.90000e-01]\n",
            " [ 1.16983e+02  3.90000e-01]\n",
            " [ 1.15979e+02  3.90000e-01]\n",
            " [ 1.32139e+02  3.90000e-01]\n",
            " [ 1.31847e+02  3.90000e-01]\n",
            " [-2.40374e+02  4.90000e-01]\n",
            " [ 1.16170e+01  3.90000e-01]\n",
            " [ 1.14875e+02  3.90000e-01]\n",
            " [ 1.16043e+02  3.90000e-01]\n",
            " [ 4.28060e-01  4.00000e-02]\n",
            " [-2.39818e+02  4.90000e-01]\n",
            " [ 1.31722e+02  3.90000e-01]\n",
            " [-2.39921e+02  4.90000e-01]\n",
            " [ 1.31492e+02  3.90000e-01]\n",
            " [ 1.31137e+02  3.90000e-01]\n",
            " [ 1.16462e+02  3.90000e-01]\n",
            " [ 1.15395e+02  3.90000e-01]\n",
            " [ 1.16755e+02  3.90000e-01]\n",
            " [ 1.14975e+02  3.90000e-01]\n",
            " [ 1.16107e+02  3.90000e-01]\n",
            " [ 1.31659e+02  3.90000e-01]\n",
            " [ 1.25976e+02  3.90000e-01]\n",
            " [ 1.15331e+02  3.90000e-01]\n",
            " [ 1.16272e+02  3.90000e-01]\n",
            " [ 1.16628e+02  3.90000e-01]\n",
            " [ 1.16691e+02  3.90000e-01]\n",
            " [ 1.16526e+02  3.90000e-01]\n",
            " [-5.99575e+02  5.90000e-01]\n",
            " [-6.01064e+02  5.90000e-01]\n",
            " [-4.66978e+02  5.60000e-01]\n",
            " [-4.66890e+01  5.60000e-01]\n",
            " [-4.66934e+02  5.60000e-01]\n",
            " [-8.30549e+02  3.80000e-01]\n",
            " [-8.30203e+02  3.80000e-01]\n",
            " [-8.29857e+02  3.80000e-01]\n",
            " [-8.29277e+02  3.80000e-01]\n",
            " [-8.28807e+02  3.80000e-01]\n",
            " [-8.27949e+02  3.80000e-01]\n",
            " [-8.27295e+02  3.80000e-01]\n",
            " [-8.30048e+02  3.80000e-01]\n",
            " [-8.29990e+01  3.80000e-01]\n",
            " [-8.33673e+02  3.80000e-01]\n",
            " [-8.34521e+02  3.80000e-01]\n",
            " [-8.34578e+02  3.80000e-01]\n",
            " [-8.32304e+02  3.80000e-01]\n",
            " [-8.32248e+02  3.80000e-01]\n",
            " [-7.85031e+02  3.60000e-01]\n",
            " [-7.85085e+02  3.60000e-01]\n",
            " [-8.29635e+02  3.80000e-01]\n",
            " [-8.29305e+02  3.80000e-01]\n",
            " [-7.51995e+02  3.60000e-01]\n",
            " [-7.52486e+02  3.60000e-01]\n",
            " [-7.45216e+02  3.60000e-01]\n",
            " [-8.05251e+02  3.60000e-01]\n",
            " [-7.32673e+02  3.60000e-01]\n",
            " [-7.30520e+01  3.60000e-01]\n",
            " [-8.44698e+02  3.60000e-01]\n",
            " [-6.01513e+02  4.50000e-01]\n",
            " [-6.01411e+02  4.50000e-01]\n",
            " [-8.45149e+02  4.00000e-02]\n",
            " [-8.82799e+02  3.60000e-01]\n",
            " [-8.45177e+02  4.00000e-02]\n",
            " [-8.20321e+02  3.60000e-01]\n",
            " [-8.82018e+02  3.60000e-01]\n",
            " [-8.45743e+02  4.00000e-02]\n",
            " [-8.60732e+02  5.20000e-01]\n",
            " [-8.50727e+02  4.00000e-02]\n",
            " [-8.59286e+02  4.00000e-02]\n",
            " [-8.82464e+02  3.60000e-01]\n",
            " [-8.60736e+02  5.20000e-01]\n",
            " [-8.56380e+01  4.00000e-02]\n",
            " [-8.49997e+02  4.00000e-02]\n",
            " [-8.44642e+02  4.00000e-02]\n",
            " [-8.18951e+02  3.80000e-01]\n",
            " [-8.49102e+02  5.20000e-01]\n",
            " [-8.56747e+02  4.00000e-02]\n",
            " [-8.67542e+02  4.00000e-02]\n",
            " [-8.44743e+02  4.00000e-02]\n",
            " [-8.19014e+02  3.80000e-01]\n",
            " [-8.56637e+02  3.60000e-01]\n",
            " [-9.64023e+02  4.10000e-01]\n",
            " [-9.53593e+02  4.10000e-01]\n",
            " [-9.62470e+01  4.10000e-01]\n",
            " [-8.56390e+01  4.00000e-02]\n",
            " [-9.63411e+02  4.10000e-01]\n",
            " [-9.55095e+02  4.10000e-01]\n",
            " [-8.57483e+02  3.80000e-01]\n",
            " [-8.90030e+01  3.70000e-01]\n",
            " [-8.53918e+02  3.70000e-01]\n",
            " [-8.93673e+02  3.80000e-01]\n",
            " [-8.87553e+02  3.70000e-01]\n",
            " [-9.53969e+02  4.10000e-01]\n",
            " [-9.64216e+02  4.10000e-01]\n",
            " [-8.33002e+02  4.00000e-02]\n",
            " [-9.72732e+02  4.10000e-01]\n",
            " [-9.64139e+02  4.10000e-01]\n",
            " [-8.54517e+02  3.70000e-01]\n",
            " [-8.65626e+02  4.40000e-01]\n",
            " [-8.70343e+02  4.60000e-01]\n",
            " [-8.69941e+02  4.60000e-01]\n",
            " [-9.66661e+02  4.20000e-01]\n",
            " [-9.61246e+02  4.20000e-01]\n",
            " [-9.50132e+02  4.30000e-01]\n",
            " [-9.50294e+02  4.30000e-01]\n",
            " [-9.48804e+02  4.20000e-01]\n",
            " [-9.46037e+02  4.20000e-01]\n",
            " [-8.76575e+02  3.70000e-01]\n",
            " [-8.45934e+02  4.40000e-01]\n",
            " [-9.85067e+02  4.30000e-01]\n",
            " [-8.50616e+02  4.00000e-02]\n",
            " [-8.63597e+02  3.80000e-01]\n",
            " [-9.74295e+02  5.50000e-01]\n",
            " [-8.41821e+02  3.80000e-01]\n",
            " [-8.44744e+02  3.80000e-01]\n",
            " [-9.42834e+02  5.60000e-01]\n",
            " [-7.26894e+02  3.80000e-01]\n",
            " [-7.23421e+02  3.80000e-01]\n",
            " [-6.95840e+01  3.80000e-01]\n",
            " [-6.93576e+02  3.90000e-01]\n",
            " [-7.14012e+02  3.90000e-01]\n",
            " [-7.37174e+02  3.70000e-01]\n",
            " [-7.29605e+02  3.70000e-01]\n",
            " [-6.87116e+02  4.00000e-02]\n",
            " [-7.43143e+02  3.90000e-01]\n",
            " [-7.44126e+02  3.90000e-01]\n",
            " [-7.35446e+02  3.90000e-01]\n",
            " [-7.34972e+02  3.90000e-01]\n",
            " [-7.34197e+02  3.90000e-01]\n",
            " [-7.30156e+02  3.90000e-01]\n",
            " [-7.13544e+02  3.90000e-01]\n",
            " [-7.21924e+02  3.80000e-01]\n",
            " [-7.36704e+02  3.90000e-01]\n",
            " [-7.35987e+02  3.90000e-01]\n",
            " [-7.32388e+02  3.90000e-01]\n",
            " [-7.40797e+02  4.00000e-02]\n",
            " [-7.35649e+02  4.00000e-02]\n",
            " [-6.90690e+01  4.00000e-02]\n",
            " [-7.34103e+02  4.00000e-02]\n",
            " [-7.49797e+02  4.60000e-01]\n",
            " [-6.92119e+02  4.40000e-01]\n",
            " [-6.63087e+02  4.80000e-01]\n",
            " [-6.60701e+02  4.80000e-01]\n",
            " [-6.60762e+02  4.80000e-01]\n",
            " [-6.57107e+02  4.80000e-01]\n",
            " [-7.61290e+01  3.90000e-01]\n",
            " [-6.42119e+02  5.00000e-02]\n",
            " [-8.11709e+02  3.70000e-01]\n",
            " [-7.78472e+02  3.70000e-01]\n",
            " [-7.58672e+02  3.80000e-01]\n",
            " [-8.11413e+02  3.70000e-01]\n",
            " [-7.89923e+02  4.00000e-02]\n",
            " [-7.89730e+01  4.00000e-02]\n",
            " [-7.86689e+02  4.00000e-02]\n",
            " [-7.86384e+02  4.00000e-02]\n",
            " [-7.77727e+02  4.00000e-02]\n",
            " [-7.77777e+02  4.00000e-02]\n",
            " [-7.77409e+02  4.00000e-02]\n",
            " [-7.91824e+02  4.00000e-02]\n",
            " [-6.93193e+02  4.60000e-01]\n",
            " [-6.89584e+02  4.60000e-01]\n",
            " [-7.58042e+02  4.10000e-01]\n",
            " [-7.49624e+02  4.00000e-02]\n",
            " [-7.82286e+02  4.10000e-01]\n",
            " [-7.79100e+00  3.90000e-01]\n",
            " [-6.83332e+02  4.80000e-01]\n",
            " [-6.83388e+02  4.80000e-01]\n",
            " [-6.72341e+02  4.80000e-01]\n",
            " [-6.68529e+02  4.80000e-01]\n",
            " [-8.07691e+02  3.90000e-01]\n",
            " [-8.11361e+02  3.70000e-01]\n",
            " [-5.63426e+02  4.50000e-01]\n",
            " [-7.67906e+02  3.90000e-01]\n",
            " [-7.47075e+02  3.80000e-01]\n",
            " [-7.61478e+02  4.00000e-02]\n",
            " [-7.61060e+01  4.00000e-02]\n",
            " [-7.21274e+02  4.00000e-02]\n",
            " [-3.90916e+02  4.60000e-01]\n",
            " [-3.90855e+02  4.60000e-01]\n",
            " [-3.90670e+01  4.60000e-01]\n",
            " [-3.90792e+02  4.60000e-01]\n",
            " [-6.95263e+02  4.10000e-01]\n",
            " [-6.93696e+02  4.10000e-01]\n",
            " [-3.90472e+02  4.60000e-01]\n",
            " [-7.11318e+02  4.50000e-01]\n",
            " [-7.07731e+02  4.40000e-01]\n",
            " [-6.91757e+02  4.40000e-01]\n",
            " [-7.59341e+02  4.40000e-01]\n",
            " [-6.86108e+02  4.10000e-01]]\n"
          ],
          "name": "stdout"
        }
      ]
    },
    {
      "cell_type": "code",
      "metadata": {
        "id": "sm7vexn0tw-S",
        "colab_type": "code",
        "colab": {
          "base_uri": "https://localhost:8080/",
          "height": 1000
        },
        "outputId": "4bea7346-346e-46ad-ad2a-ecee7d87825e"
      },
      "source": [
        "scaler = MinMaxScaler()\n",
        "x_scaled = scaler.fit_transform(x_array)\n",
        "x_scaled"
      ],
      "execution_count": 491,
      "outputs": [
        {
          "output_type": "execute_result",
          "data": {
            "text/plain": [
              "array([[0.17667654, 0.98181818],\n",
              "       [0.17655916, 0.98181818],\n",
              "       [0.17288832, 0.98181818],\n",
              "       [0.16801649, 0.98181818],\n",
              "       [0.16809452, 1.        ],\n",
              "       [0.09577019, 0.6       ],\n",
              "       [0.14045467, 0.85454545],\n",
              "       [0.02010751, 0.58181818],\n",
              "       [0.11756045, 0.94545455],\n",
              "       [0.11782643, 0.94545455],\n",
              "       [0.11803067, 0.94545455],\n",
              "       [0.15272178, 0.98181818],\n",
              "       [0.1525284 , 0.98181818],\n",
              "       [0.11793635, 0.94545455],\n",
              "       [0.11796417, 0.94545455],\n",
              "       [0.61333593, 0.94545455],\n",
              "       [0.10584294, 0.98181818],\n",
              "       [0.11774433, 0.94545455],\n",
              "       [0.61331761, 0.94545455],\n",
              "       [0.11758487, 0.94545455],\n",
              "       [0.10239941, 0.78181818],\n",
              "       [0.10235531, 0.78181818],\n",
              "       [0.80984992, 0.6       ],\n",
              "       [0.80980921, 0.6       ],\n",
              "       [0.91116098, 0.58181818],\n",
              "       [0.81731441, 0.61818182],\n",
              "       [0.83982391, 0.6       ],\n",
              "       [0.88356862, 0.58181818],\n",
              "       [0.83986326, 0.6       ],\n",
              "       [0.83959457, 0.6       ],\n",
              "       [0.8098411 , 0.6       ],\n",
              "       [0.80965722, 0.6       ],\n",
              "       [0.8168408 , 0.61818182],\n",
              "       [0.87473351, 0.58181818],\n",
              "       [0.80942381, 0.6       ],\n",
              "       [0.84079217, 0.58181818],\n",
              "       [1.        , 0.61818182],\n",
              "       [0.80938377, 0.6       ],\n",
              "       [0.84685821, 0.58181818],\n",
              "       [0.68557544, 0.58181818],\n",
              "       [0.79646867, 0.61818182],\n",
              "       [0.80989063, 0.6       ],\n",
              "       [0.80957648, 0.6       ],\n",
              "       [0.80993067, 0.6       ],\n",
              "       [0.84015503, 0.58181818],\n",
              "       [0.81707761, 0.61818182],\n",
              "       [0.80969793, 0.6       ],\n",
              "       [0.82285052, 0.6       ],\n",
              "       [0.78367162, 0.63636364],\n",
              "       [0.78371437, 0.63636364],\n",
              "       [0.7837578 , 0.63636364],\n",
              "       [0.78380122, 0.63636364],\n",
              "       [0.78384397, 0.63636364],\n",
              "       [0.7838874 , 0.63636364],\n",
              "       [0.78314373, 0.63636364],\n",
              "       [0.78393014, 0.63636364],\n",
              "       [0.78474166, 0.63636364],\n",
              "       [0.78469892, 0.63636364],\n",
              "       [0.7857927 , 0.63636364],\n",
              "       [0.78308266, 0.63636364],\n",
              "       [0.78563936, 0.63636364],\n",
              "       [0.78559525, 0.63636364],\n",
              "       [0.78573706, 0.63636364],\n",
              "       [0.78569432, 0.63636364],\n",
              "       [0.78549483, 0.63636364],\n",
              "       [0.78593587, 0.63636364],\n",
              "       [0.78540934, 0.63636364],\n",
              "       [0.7851671 , 0.63636364],\n",
              "       [0.78312609, 0.63636364],\n",
              "       [0.78316951, 0.63636364],\n",
              "       [0.78445736, 0.63636364],\n",
              "       [0.78583681, 0.63636364],\n",
              "       [0.78360242, 0.63636364],\n",
              "       [0.79521135, 0.61818182],\n",
              "       [0.78494047, 0.63636364],\n",
              "       [0.78497983, 0.63636364],\n",
              "       [0.6798948 , 0.63636364],\n",
              "       [0.78358477, 0.63636364],\n",
              "       [0.67988869, 0.63636364],\n",
              "       [0.78356781, 0.63636364],\n",
              "       [0.78347282, 0.63636364],\n",
              "       [0.7825602 , 0.63636364],\n",
              "       [0.78373134, 0.63636364],\n",
              "       [0.78377476, 0.63636364],\n",
              "       [0.78397357, 0.63636364],\n",
              "       [0.78401632, 0.63636364],\n",
              "       [0.78425855, 0.63636364],\n",
              "       [0.78341175, 0.63636364],\n",
              "       [0.78421513, 0.63636364],\n",
              "       [0.78368859, 0.63636364],\n",
              "       [0.78351556, 0.63636364],\n",
              "       [0.78395661, 0.63636364],\n",
              "       [0.78336832, 0.63636364],\n",
              "       [0.78352438, 0.63636364],\n",
              "       [0.78450011, 0.63636364],\n",
              "       [0.78305688, 0.63636364],\n",
              "       [0.78334254, 0.63636364],\n",
              "       [0.7831003 , 0.63636364],\n",
              "       [0.7836282 , 0.63636364],\n",
              "       [0.78492487, 0.63636364],\n",
              "       [0.78489773, 0.63636364],\n",
              "       [0.78400003, 0.63636364],\n",
              "       [0.78417238, 0.63636364],\n",
              "       [0.78412895, 0.63636364],\n",
              "       [0.78348978, 0.63636364],\n",
              "       [0.78328215, 0.63636364],\n",
              "       [0.78408621, 0.63636364],\n",
              "       [0.78404278, 0.63636364],\n",
              "       [0.87870426, 0.58181818],\n",
              "       [0.75781495, 0.63636364],\n",
              "       [0.75757407, 0.63636364],\n",
              "       [0.74777205, 0.63636364],\n",
              "       [0.74709081, 0.63636364],\n",
              "       [0.75805583, 0.63636364],\n",
              "       [0.7578577 , 0.63636364],\n",
              "       [0.50529523, 0.81818182],\n",
              "       [0.67627825, 0.63636364],\n",
              "       [0.74634171, 0.63636364],\n",
              "       [0.74713424, 0.63636364],\n",
              "       [0.66868623, 0.        ],\n",
              "       [0.5056725 , 0.81818182],\n",
              "       [0.75777288, 0.63636364],\n",
              "       [0.50560261, 0.81818182],\n",
              "       [0.75761682, 0.63636364],\n",
              "       [0.75737594, 0.63636364],\n",
              "       [0.74741854, 0.63636364],\n",
              "       [0.74669455, 0.63636364],\n",
              "       [0.74761735, 0.63636364],\n",
              "       [0.74640957, 0.63636364],\n",
              "       [0.74717766, 0.63636364],\n",
              "       [0.75773013, 0.63636364],\n",
              "       [0.75387406, 0.63636364],\n",
              "       [0.74665112, 0.63636364],\n",
              "       [0.74728962, 0.63636364],\n",
              "       [0.74753117, 0.63636364],\n",
              "       [0.74757392, 0.63636364],\n",
              "       [0.74746197, 0.63636364],\n",
              "       [0.26156721, 1.        ],\n",
              "       [0.26055688, 1.        ],\n",
              "       [0.35153802, 0.94545455],\n",
              "       [0.63671598, 0.94545455],\n",
              "       [0.35156788, 0.94545455],\n",
              "       [0.10484483, 0.61818182],\n",
              "       [0.1050796 , 0.61818182],\n",
              "       [0.10531437, 0.61818182],\n",
              "       [0.10570792, 0.61818182],\n",
              "       [0.10602682, 0.61818182],\n",
              "       [0.106609  , 0.61818182],\n",
              "       [0.10705276, 0.61818182],\n",
              "       [0.10518477, 0.61818182],\n",
              "       [0.61207862, 0.61818182],\n",
              "       [0.10272511, 0.61818182],\n",
              "       [0.10214971, 0.61818182],\n",
              "       [0.10211104, 0.61818182],\n",
              "       [0.10365401, 0.61818182],\n",
              "       [0.10369201, 0.61818182],\n",
              "       [0.13573008, 0.58181818],\n",
              "       [0.13569344, 0.58181818],\n",
              "       [0.105465  , 0.61818182],\n",
              "       [0.10568892, 0.61818182],\n",
              "       [0.15814594, 0.58181818],\n",
              "       [0.15781278, 0.58181818],\n",
              "       [0.16274568, 0.58181818],\n",
              "       [0.12201023, 0.58181818],\n",
              "       [0.17125646, 0.58181818],\n",
              "       [0.61882794, 0.58181818],\n",
              "       [0.09524433, 0.58181818],\n",
              "       [0.26025222, 0.74545455],\n",
              "       [0.26032143, 0.74545455],\n",
              "       [0.09493831, 0.        ],\n",
              "       [0.06939173, 0.58181818],\n",
              "       [0.09491932, 0.        ],\n",
              "       [0.11178481, 0.58181818],\n",
              "       [0.06992166, 0.58181818],\n",
              "       [0.09453527, 0.        ],\n",
              "       [0.08436481, 0.87272727],\n",
              "       [0.09115348, 0.        ],\n",
              "       [0.08534596, 0.        ],\n",
              "       [0.06961903, 0.58181818],\n",
              "       [0.0843621 , 0.87272727],\n",
              "       [0.61028798, 0.        ],\n",
              "       [0.09164881, 0.        ],\n",
              "       [0.09528233, 0.        ],\n",
              "       [0.1127144 , 0.61818182],\n",
              "       [0.09225609, 0.87272727],\n",
              "       [0.08706874, 0.        ],\n",
              "       [0.07974403, 0.        ],\n",
              "       [0.0952138 , 0.        ],\n",
              "       [0.11267165, 0.61818182],\n",
              "       [0.08714338, 0.58181818],\n",
              "       [0.01427895, 0.67272727],\n",
              "       [0.021356  , 0.67272727],\n",
              "       [0.60308947, 0.67272727],\n",
              "       [0.6102873 , 0.        ],\n",
              "       [0.01469421, 0.67272727],\n",
              "       [0.02033685, 0.67272727],\n",
              "       [0.08656935, 0.61818182],\n",
              "       [0.60800473, 0.6       ],\n",
              "       [0.0889883 , 0.6       ],\n",
              "       [0.06201341, 0.61818182],\n",
              "       [0.066166  , 0.6       ],\n",
              "       [0.02110087, 0.67272727],\n",
              "       [0.01414799, 0.67272727],\n",
              "       [0.1031804 , 0.        ],\n",
              "       [0.00836965, 0.67272727],\n",
              "       [0.01420024, 0.67272727],\n",
              "       [0.08858186, 0.6       ],\n",
              "       [0.08104409, 0.72727273],\n",
              "       [0.07784347, 0.76363636],\n",
              "       [0.07811624, 0.76363636],\n",
              "       [0.01248899, 0.69090909],\n",
              "       [0.01616322, 0.69090909],\n",
              "       [0.02370438, 0.70909091],\n",
              "       [0.02359446, 0.70909091],\n",
              "       [0.02460547, 0.69090909],\n",
              "       [0.02648296, 0.69090909],\n",
              "       [0.07361489, 0.6       ],\n",
              "       [0.09440567, 0.72727273],\n",
              "       [0.        , 0.70909091],\n",
              "       [0.0912288 , 0.        ],\n",
              "       [0.08242083, 0.61818182],\n",
              "       [0.00730911, 0.92727273],\n",
              "       [0.09719646, 0.61818182],\n",
              "       [0.09521312, 0.61818182],\n",
              "       [0.02865628, 0.94545455],\n",
              "       [0.17517767, 0.61818182],\n",
              "       [0.1775342 , 0.61818182],\n",
              "       [0.62118107, 0.61818182],\n",
              "       [0.19778488, 0.63636364],\n",
              "       [0.18391847, 0.63636364],\n",
              "       [0.1682024 , 0.6       ],\n",
              "       [0.17333818, 0.6       ],\n",
              "       [0.20216817, 0.        ],\n",
              "       [0.16415227, 0.63636364],\n",
              "       [0.16348527, 0.63636364],\n",
              "       [0.1693749 , 0.63636364],\n",
              "       [0.16969652, 0.63636364],\n",
              "       [0.17022238, 0.63636364],\n",
              "       [0.17296431, 0.63636364],\n",
              "       [0.18423602, 0.63636364],\n",
              "       [0.17854996, 0.61818182],\n",
              "       [0.16852131, 0.63636364],\n",
              "       [0.16900782, 0.63636364],\n",
              "       [0.17144984, 0.63636364],\n",
              "       [0.16574409, 0.        ],\n",
              "       [0.16923716, 0.        ],\n",
              "       [0.62153052, 0.        ],\n",
              "       [0.17028616, 0.        ],\n",
              "       [0.15963734, 0.76363636],\n",
              "       [0.19877349, 0.72727273],\n",
              "       [0.21847252, 0.8       ],\n",
              "       [0.22009149, 0.8       ],\n",
              "       [0.2200501 , 0.8       ],\n",
              "       [0.22253012, 0.8       ],\n",
              "       [0.61674011, 0.63636364],\n",
              "       [0.2326999 , 0.01818182],\n",
              "       [0.1176283 , 0.6       ],\n",
              "       [0.14018054, 0.6       ],\n",
              "       [0.1536154 , 0.61818182],\n",
              "       [0.11782914, 0.6       ],\n",
              "       [0.13241072, 0.        ],\n",
              "       [0.61481037, 0.        ],\n",
              "       [0.13460508, 0.        ],\n",
              "       [0.13481203, 0.        ],\n",
              "       [0.14068605, 0.        ],\n",
              "       [0.14065212, 0.        ],\n",
              "       [0.14090182, 0.        ],\n",
              "       [0.13112083, 0.        ],\n",
              "       [0.19804475, 0.76363636],\n",
              "       [0.20049356, 0.76363636],\n",
              "       [0.15404287, 0.67272727],\n",
              "       [0.15975473, 0.        ],\n",
              "       [0.13759264, 0.67272727],\n",
              "       [0.66310937, 0.63636364],\n",
              "       [0.20473572, 0.8       ],\n",
              "       [0.20469772, 0.8       ],\n",
              "       [0.21219342, 0.8       ],\n",
              "       [0.21477997, 0.8       ],\n",
              "       [0.12035463, 0.63636364],\n",
              "       [0.11786443, 0.6       ],\n",
              "       [0.28609533, 0.74545455],\n",
              "       [0.14734987, 0.63636364],\n",
              "       [0.16148429, 0.61818182],\n",
              "       [0.15171145, 0.        ],\n",
              "       [0.61675571, 0.        ],\n",
              "       [0.178991  , 0.        ],\n",
              "       [0.40314824, 0.76363636],\n",
              "       [0.40318963, 0.76363636],\n",
              "       [0.64188772, 0.76363636],\n",
              "       [0.40323237, 0.76363636],\n",
              "       [0.1966402 , 0.67272727],\n",
              "       [0.19770345, 0.67272727],\n",
              "       [0.4034495 , 0.76363636],\n",
              "       [0.18574643, 0.74545455],\n",
              "       [0.18818031, 0.72727273],\n",
              "       [0.19901912, 0.72727273],\n",
              "       [0.15316147, 0.72727273],\n",
              "       [0.20285213, 0.67272727]])"
            ]
          },
          "metadata": {
            "tags": []
          },
          "execution_count": 491
        }
      ]
    },
    {
      "cell_type": "code",
      "metadata": {
        "id": "SEDTzOis5cJa",
        "colab_type": "code",
        "colab": {
          "base_uri": "https://localhost:8080/",
          "height": 68
        },
        "outputId": "88c5f33b-3578-4800-d6d5-303c9e526652"
      },
      "source": [
        "#digunakan untuk mengelompokkan data menjadi 6 cluster\n",
        "kmeans = KMeans(n_clusters=6, random_state=125)\n",
        "#digunakan untuk menentukan nilai K dari data\n",
        "kmeans.fit(x_scaled) "
      ],
      "execution_count": 514,
      "outputs": [
        {
          "output_type": "execute_result",
          "data": {
            "text/plain": [
              "KMeans(algorithm='auto', copy_x=True, init='k-means++', max_iter=300,\n",
              "       n_clusters=6, n_init=10, n_jobs=None, precompute_distances='auto',\n",
              "       random_state=125, tol=0.0001, verbose=0)"
            ]
          },
          "metadata": {
            "tags": []
          },
          "execution_count": 514
        }
      ]
    },
    {
      "cell_type": "code",
      "metadata": {
        "id": "2G7KVwIDJlGd",
        "colab_type": "code",
        "colab": {}
      },
      "source": [
        "#menentukan pusat cluster\n",
        "centroids = kmeans.cluster_centers_\n",
        "\n",
        "labels = kmeans.labels_"
      ],
      "execution_count": 0,
      "outputs": []
    },
    {
      "cell_type": "code",
      "metadata": {
        "id": "7LexSHKMRVkG",
        "colab_type": "code",
        "colab": {
          "base_uri": "https://localhost:8080/",
          "height": 306
        },
        "outputId": "7052af62-bf98-4470-9eda-3b46560e334a"
      },
      "source": [
        "print(\"Centroids : \")\n",
        "print(centroids)\n",
        "print (\"Labels : \")\n",
        "print(labels)"
      ],
      "execution_count": 516,
      "outputs": [
        {
          "output_type": "stream",
          "text": [
            "Centroids : \n",
            "[[1.11941076e-01 6.38086124e-01]\n",
            " [7.76226347e-01 6.26656394e-01]\n",
            " [1.29260762e-01 6.73400673e-04]\n",
            " [1.71896558e-01 8.83370288e-01]\n",
            " [6.23726353e-01 0.00000000e+00]\n",
            " [5.12258846e-01 8.28099174e-01]]\n",
            "Labels : \n",
            "[3 3 3 3 3 0 3 0 3 3 3 3 3 3 3 5 3 3 5 3 3 3 1 1 1 1 1 1 1 1 1 1 1 1 1 1 1\n",
            " 1 1 1 1 1 1 1 1 1 1 1 1 1 1 1 1 1 1 1 1 1 1 1 1 1 1 1 1 1 1 1 1 1 1 1 1 1\n",
            " 1 1 1 1 1 1 1 1 1 1 1 1 1 1 1 1 1 1 1 1 1 1 1 1 1 1 1 1 1 1 1 1 1 1 1 1 1\n",
            " 1 1 1 1 5 1 1 1 4 5 1 5 1 1 1 1 1 1 1 1 1 1 1 1 1 1 3 3 3 5 3 0 0 0 0 0 0\n",
            " 0 0 1 0 0 0 0 0 0 0 0 0 0 0 0 0 0 1 0 3 3 2 0 2 0 0 2 3 2 2 0 3 4 2 2 0 3\n",
            " 2 2 2 0 0 0 0 1 4 0 0 0 1 0 0 0 0 0 2 0 0 0 0 0 0 0 0 0 0 0 0 0 0 0 2 0 3\n",
            " 0 0 3 0 0 1 0 0 0 0 2 0 0 0 0 0 0 0 0 0 0 0 2 2 4 2 3 0 3 3 3 3 1 2 0 0 0\n",
            " 0 2 4 2 2 2 2 2 2 3 3 0 2 0 1 3 3 3 3 0 0 3 0 0 2 4 2 5 5 5 5 0 0 5 0 0 0\n",
            " 0 0]\n"
          ],
          "name": "stdout"
        }
      ]
    },
    {
      "cell_type": "code",
      "metadata": {
        "id": "Qu0pVFpU4PDm",
        "colab_type": "code",
        "colab": {
          "base_uri": "https://localhost:8080/",
          "height": 282
        },
        "outputId": "1f0525ea-3196-4c68-c956-5bdbb08c2ebf"
      },
      "source": [
        "output= plt.scatter(x_scaled[:,0],x_scaled[:,1],s=100, c=labels, marker=\"o\",alpha=1)\n",
        "\n",
        "centers = centroids\n",
        "plt.scatter(centers[:,0],centers[:,1],c='red', s=150, alpha=1, marker=\"o\");\n",
        "plt.title(\"hasil Clustering\")\n",
        "#plt.colorbar(output)\n",
        "\n",
        "plt.show()"
      ],
      "execution_count": 517,
      "outputs": [
        {
          "output_type": "display_data",
          "data": {
            "image/png": "[encoded data removed]",
            "text/plain": [
              "<Figure size 432x288 with 1 Axes>"
            ]
          },
          "metadata": {
            "tags": []
          }
        }
      ]
    },
    {
      "cell_type": "code",
      "metadata": {
        "id": "3BPtfZ604cU6",
        "colab_type": "code",
        "colab": {}
      },
      "source": [
        ""
      ],
      "execution_count": 0,
      "outputs": []
    }
  ]
}