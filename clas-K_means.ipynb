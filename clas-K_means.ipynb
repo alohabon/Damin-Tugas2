{
  "nbformat": 4,
  "nbformat_minor": 0,
  "metadata": {
    "colab": {
      "name": "K-means.ipynb",
      "provenance": [],
      "collapsed_sections": [],
      "include_colab_link": true
    },
    "kernelspec": {
      "name": "python3",
      "display_name": "Python 3"
    }
  },
  "cells": [
    {
      "cell_type": "markdown",
      "metadata": {
        "id": "view-in-github",
        "colab_type": "text"
      },
      "source": [
        "<a href=\"https://colab.research.google.com/github/leadymunte/Damin-Tugas2/blob/master/clas-K_means.ipynb\" target=\"_parent\"><img src=\"https://colab.research.google.com/assets/colab-badge.svg\" alt=\"Open In Colab\"/></a>"
      ]
    },
    {
      "cell_type": "code",
      "metadata": {
        "id": "wdvoZd-VkAiN",
        "colab_type": "code",
        "colab": {}
      },
      "source": [
        "import pandas as pd\n",
        "import matplotlib.pyplot as plt\n",
        "%matplotlib inline \n",
        "import numpy as np \n",
        "from sklearn.cluster import KMeans\n",
        "from google.colab import files"
      ],
      "execution_count": 0,
      "outputs": []
    },
    {
      "cell_type": "code",
      "metadata": {
        "id": "vl7CyaxLkyay",
        "colab_type": "code",
        "outputId": "8a9ed86e-5f45-494f-946d-fc187cd02ea4",
        "colab": {
          "resources": {
            "http://localhost:8080/nbextensions/google.colab/files.js": {
              "data": "Ly8gQ29weXJpZ2h0IDIwMTcgR29vZ2xlIExMQwovLwovLyBMaWNlbnNlZCB1bmRlciB0aGUgQXBhY2hlIExpY2Vuc2UsIFZlcnNpb24gMi4wICh0aGUgIkxpY2Vuc2UiKTsKLy8geW91IG1heSBub3QgdXNlIHRoaXMgZmlsZSBleGNlcHQgaW4gY29tcGxpYW5jZSB3aXRoIHRoZSBMaWNlbnNlLgovLyBZb3UgbWF5IG9idGFpbiBhIGNvcHkgb2YgdGhlIExpY2Vuc2UgYXQKLy8KLy8gICAgICBodHRwOi8vd3d3LmFwYWNoZS5vcmcvbGljZW5zZXMvTElDRU5TRS0yLjAKLy8KLy8gVW5sZXNzIHJlcXVpcmVkIGJ5IGFwcGxpY2FibGUgbGF3IG9yIGFncmVlZCB0byBpbiB3cml0aW5nLCBzb2Z0d2FyZQovLyBkaXN0cmlidXRlZCB1bmRlciB0aGUgTGljZW5zZSBpcyBkaXN0cmlidXRlZCBvbiBhbiAiQVMgSVMiIEJBU0lTLAovLyBXSVRIT1VUIFdBUlJBTlRJRVMgT1IgQ09ORElUSU9OUyBPRiBBTlkgS0lORCwgZWl0aGVyIGV4cHJlc3Mgb3IgaW1wbGllZC4KLy8gU2VlIHRoZSBMaWNlbnNlIGZvciB0aGUgc3BlY2lmaWMgbGFuZ3VhZ2UgZ292ZXJuaW5nIHBlcm1pc3Npb25zIGFuZAovLyBsaW1pdGF0aW9ucyB1bmRlciB0aGUgTGljZW5zZS4KCi8qKgogKiBAZmlsZW92ZXJ2aWV3IEhlbHBlcnMgZm9yIGdvb2dsZS5jb2xhYiBQeXRob24gbW9kdWxlLgogKi8KKGZ1bmN0aW9uKHNjb3BlKSB7CmZ1bmN0aW9uIHNwYW4odGV4dCwgc3R5bGVBdHRyaWJ1dGVzID0ge30pIHsKICBjb25zdCBlbGVtZW50ID0gZG9jdW1lbnQuY3JlYXRlRWxlbWVudCgnc3BhbicpOwogIGVsZW1lbnQudGV4dENvbnRlbnQgPSB0ZXh0OwogIGZvciAoY29uc3Qga2V5IG9mIE9iamVjdC5rZXlzKHN0eWxlQXR0cmlidXRlcykpIHsKICAgIGVsZW1lbnQuc3R5bGVba2V5XSA9IHN0eWxlQXR0cmlidXRlc1trZXldOwogIH0KICByZXR1cm4gZWxlbWVudDsKfQoKLy8gTWF4IG51bWJlciBvZiBieXRlcyB3aGljaCB3aWxsIGJlIHVwbG9hZGVkIGF0IGEgdGltZS4KY29uc3QgTUFYX1BBWUxPQURfU0laRSA9IDEwMCAqIDEwMjQ7Ci8vIE1heCBhbW91bnQgb2YgdGltZSB0byBibG9jayB3YWl0aW5nIGZvciB0aGUgdXNlci4KY29uc3QgRklMRV9DSEFOR0VfVElNRU9VVF9NUyA9IDMwICogMTAwMDsKCmZ1bmN0aW9uIF91cGxvYWRGaWxlcyhpbnB1dElkLCBvdXRwdXRJZCkgewogIGNvbnN0IHN0ZXBzID0gdXBsb2FkRmlsZXNTdGVwKGlucHV0SWQsIG91dHB1dElkKTsKICBjb25zdCBvdXRwdXRFbGVtZW50ID0gZG9jdW1lbnQuZ2V0RWxlbWVudEJ5SWQob3V0cHV0SWQpOwogIC8vIENhY2hlIHN0ZXBzIG9uIHRoZSBvdXRwdXRFbGVtZW50IHRvIG1ha2UgaXQgYXZhaWxhYmxlIGZvciB0aGUgbmV4dCBjYWxsCiAgLy8gdG8gdXBsb2FkRmlsZXNDb250aW51ZSBmcm9tIFB5dGhvbi4KICBvdXRwdXRFbGVtZW50LnN0ZXBzID0gc3RlcHM7CgogIHJldHVybiBfdXBsb2FkRmlsZXNDb250aW51ZShvdXRwdXRJZCk7Cn0KCi8vIFRoaXMgaXMgcm91Z2hseSBhbiBhc3luYyBnZW5lcmF0b3IgKG5vdCBzdXBwb3J0ZWQgaW4gdGhlIGJyb3dzZXIgeWV0KSwKLy8gd2hlcmUgdGhlcmUgYXJlIG11bHRpcGxlIGFzeW5jaHJvbm91cyBzdGVwcyBhbmQgdGhlIFB5dGhvbiBzaWRlIGlzIGdvaW5nCi8vIHRvIHBvbGwgZm9yIGNvbXBsZXRpb24gb2YgZWFjaCBzdGVwLgovLyBUaGlzIHVzZXMgYSBQcm9taXNlIHRvIGJsb2NrIHRoZSBweXRob24gc2lkZSBvbiBjb21wbGV0aW9uIG9mIGVhY2ggc3RlcCwKLy8gdGhlbiBwYXNzZXMgdGhlIHJlc3VsdCBvZiB0aGUgcHJldmlvdXMgc3RlcCBhcyB0aGUgaW5wdXQgdG8gdGhlIG5leHQgc3RlcC4KZnVuY3Rpb24gX3VwbG9hZEZpbGVzQ29udGludWUob3V0cHV0SWQpIHsKICBjb25zdCBvdXRwdXRFbGVtZW50ID0gZG9jdW1lbnQuZ2V0RWxlbWVudEJ5SWQob3V0cHV0SWQpOwogIGNvbnN0IHN0ZXBzID0gb3V0cHV0RWxlbWVudC5zdGVwczsKCiAgY29uc3QgbmV4dCA9IHN0ZXBzLm5leHQob3V0cHV0RWxlbWVudC5sYXN0UHJvbWlzZVZhbHVlKTsKICByZXR1cm4gUHJvbWlzZS5yZXNvbHZlKG5leHQudmFsdWUucHJvbWlzZSkudGhlbigodmFsdWUpID0+IHsKICAgIC8vIENhY2hlIHRoZSBsYXN0IHByb21pc2UgdmFsdWUgdG8gbWFrZSBpdCBhdmFpbGFibGUgdG8gdGhlIG5leHQKICAgIC8vIHN0ZXAgb2YgdGhlIGdlbmVyYXRvci4KICAgIG91dHB1dEVsZW1lbnQubGFzdFByb21pc2VWYWx1ZSA9IHZhbHVlOwogICAgcmV0dXJuIG5leHQudmFsdWUucmVzcG9uc2U7CiAgfSk7Cn0KCi8qKgogKiBHZW5lcmF0b3IgZnVuY3Rpb24gd2hpY2ggaXMgY2FsbGVkIGJldHdlZW4gZWFjaCBhc3luYyBzdGVwIG9mIHRoZSB1cGxvYWQKICogcHJvY2Vzcy4KICogQHBhcmFtIHtzdHJpbmd9IGlucHV0SWQgRWxlbWVudCBJRCBvZiB0aGUgaW5wdXQgZmlsZSBwaWNrZXIgZWxlbWVudC4KICogQHBhcmFtIHtzdHJpbmd9IG91dHB1dElkIEVsZW1lbnQgSUQgb2YgdGhlIG91dHB1dCBkaXNwbGF5LgogKiBAcmV0dXJuIHshSXRlcmFibGU8IU9iamVjdD59IEl0ZXJhYmxlIG9mIG5leHQgc3RlcHMuCiAqLwpmdW5jdGlvbiogdXBsb2FkRmlsZXNTdGVwKGlucHV0SWQsIG91dHB1dElkKSB7CiAgY29uc3QgaW5wdXRFbGVtZW50ID0gZG9jdW1lbnQuZ2V0RWxlbWVudEJ5SWQoaW5wdXRJZCk7CiAgaW5wdXRFbGVtZW50LmRpc2FibGVkID0gZmFsc2U7CgogIGNvbnN0IG91dHB1dEVsZW1lbnQgPSBkb2N1bWVudC5nZXRFbGVtZW50QnlJZChvdXRwdXRJZCk7CiAgb3V0cHV0RWxlbWVudC5pbm5lckhUTUwgPSAnJzsKCiAgY29uc3QgcGlja2VkUHJvbWlzZSA9IG5ldyBQcm9taXNlKChyZXNvbHZlKSA9PiB7CiAgICBpbnB1dEVsZW1lbnQuYWRkRXZlbnRMaXN0ZW5lcignY2hhbmdlJywgKGUpID0+IHsKICAgICAgcmVzb2x2ZShlLnRhcmdldC5maWxlcyk7CiAgICB9KTsKICB9KTsKCiAgY29uc3QgY2FuY2VsID0gZG9jdW1lbnQuY3JlYXRlRWxlbWVudCgnYnV0dG9uJyk7CiAgaW5wdXRFbGVtZW50LnBhcmVudEVsZW1lbnQuYXBwZW5kQ2hpbGQoY2FuY2VsKTsKICBjYW5jZWwudGV4dENvbnRlbnQgPSAnQ2FuY2VsIHVwbG9hZCc7CiAgY29uc3QgY2FuY2VsUHJvbWlzZSA9IG5ldyBQcm9taXNlKChyZXNvbHZlKSA9PiB7CiAgICBjYW5jZWwub25jbGljayA9ICgpID0+IHsKICAgICAgcmVzb2x2ZShudWxsKTsKICAgIH07CiAgfSk7CgogIC8vIENhbmNlbCB1cGxvYWQgaWYgdXNlciBoYXNuJ3QgcGlja2VkIGFueXRoaW5nIGluIHRpbWVvdXQuCiAgY29uc3QgdGltZW91dFByb21pc2UgPSBuZXcgUHJvbWlzZSgocmVzb2x2ZSkgPT4gewogICAgc2V0VGltZW91dCgoKSA9PiB7CiAgICAgIHJlc29sdmUobnVsbCk7CiAgICB9LCBGSUxFX0NIQU5HRV9USU1FT1VUX01TKTsKICB9KTsKCiAgLy8gV2FpdCBmb3IgdGhlIHVzZXIgdG8gcGljayB0aGUgZmlsZXMuCiAgY29uc3QgZmlsZXMgPSB5aWVsZCB7CiAgICBwcm9taXNlOiBQcm9taXNlLnJhY2UoW3BpY2tlZFByb21pc2UsIHRpbWVvdXRQcm9taXNlLCBjYW5jZWxQcm9taXNlXSksCiAgICByZXNwb25zZTogewogICAgICBhY3Rpb246ICdzdGFydGluZycsCiAgICB9CiAgfTsKCiAgaWYgKCFmaWxlcykgewogICAgcmV0dXJuIHsKICAgICAgcmVzcG9uc2U6IHsKICAgICAgICBhY3Rpb246ICdjb21wbGV0ZScsCiAgICAgIH0KICAgIH07CiAgfQoKICBjYW5jZWwucmVtb3ZlKCk7CgogIC8vIERpc2FibGUgdGhlIGlucHV0IGVsZW1lbnQgc2luY2UgZnVydGhlciBwaWNrcyBhcmUgbm90IGFsbG93ZWQuCiAgaW5wdXRFbGVtZW50LmRpc2FibGVkID0gdHJ1ZTsKCiAgZm9yIChjb25zdCBmaWxlIG9mIGZpbGVzKSB7CiAgICBjb25zdCBsaSA9IGRvY3VtZW50LmNyZWF0ZUVsZW1lbnQoJ2xpJyk7CiAgICBsaS5hcHBlbmQoc3BhbihmaWxlLm5hbWUsIHtmb250V2VpZ2h0OiAnYm9sZCd9KSk7CiAgICBsaS5hcHBlbmQoc3BhbigKICAgICAgICBgKCR7ZmlsZS50eXBlIHx8ICduL2EnfSkgLSAke2ZpbGUuc2l6ZX0gYnl0ZXMsIGAgKwogICAgICAgIGBsYXN0IG1vZGlmaWVkOiAkewogICAgICAgICAgICBmaWxlLmxhc3RNb2RpZmllZERhdGUgPyBmaWxlLmxhc3RNb2RpZmllZERhdGUudG9Mb2NhbGVEYXRlU3RyaW5nKCkgOgogICAgICAgICAgICAgICAgICAgICAgICAgICAgICAgICAgICAnbi9hJ30gLSBgKSk7CiAgICBjb25zdCBwZXJjZW50ID0gc3BhbignMCUgZG9uZScpOwogICAgbGkuYXBwZW5kQ2hpbGQocGVyY2VudCk7CgogICAgb3V0cHV0RWxlbWVudC5hcHBlbmRDaGlsZChsaSk7CgogICAgY29uc3QgZmlsZURhdGFQcm9taXNlID0gbmV3IFByb21pc2UoKHJlc29sdmUpID0+IHsKICAgICAgY29uc3QgcmVhZGVyID0gbmV3IEZpbGVSZWFkZXIoKTsKICAgICAgcmVhZGVyLm9ubG9hZCA9IChlKSA9PiB7CiAgICAgICAgcmVzb2x2ZShlLnRhcmdldC5yZXN1bHQpOwogICAgICB9OwogICAgICByZWFkZXIucmVhZEFzQXJyYXlCdWZmZXIoZmlsZSk7CiAgICB9KTsKICAgIC8vIFdhaXQgZm9yIHRoZSBkYXRhIHRvIGJlIHJlYWR5LgogICAgbGV0IGZpbGVEYXRhID0geWllbGQgewogICAgICBwcm9taXNlOiBmaWxlRGF0YVByb21pc2UsCiAgICAgIHJlc3BvbnNlOiB7CiAgICAgICAgYWN0aW9uOiAnY29udGludWUnLAogICAgICB9CiAgICB9OwoKICAgIC8vIFVzZSBhIGNodW5rZWQgc2VuZGluZyB0byBhdm9pZCBtZXNzYWdlIHNpemUgbGltaXRzLiBTZWUgYi82MjExNTY2MC4KICAgIGxldCBwb3NpdGlvbiA9IDA7CiAgICB3aGlsZSAocG9zaXRpb24gPCBmaWxlRGF0YS5ieXRlTGVuZ3RoKSB7CiAgICAgIGNvbnN0IGxlbmd0aCA9IE1hdGgubWluKGZpbGVEYXRhLmJ5dGVMZW5ndGggLSBwb3NpdGlvbiwgTUFYX1BBWUxPQURfU0laRSk7CiAgICAgIGNvbnN0IGNodW5rID0gbmV3IFVpbnQ4QXJyYXkoZmlsZURhdGEsIHBvc2l0aW9uLCBsZW5ndGgpOwogICAgICBwb3NpdGlvbiArPSBsZW5ndGg7CgogICAgICBjb25zdCBiYXNlNjQgPSBidG9hKFN0cmluZy5mcm9tQ2hhckNvZGUuYXBwbHkobnVsbCwgY2h1bmspKTsKICAgICAgeWllbGQgewogICAgICAgIHJlc3BvbnNlOiB7CiAgICAgICAgICBhY3Rpb246ICdhcHBlbmQnLAogICAgICAgICAgZmlsZTogZmlsZS5uYW1lLAogICAgICAgICAgZGF0YTogYmFzZTY0LAogICAgICAgIH0sCiAgICAgIH07CiAgICAgIHBlcmNlbnQudGV4dENvbnRlbnQgPQogICAgICAgICAgYCR7TWF0aC5yb3VuZCgocG9zaXRpb24gLyBmaWxlRGF0YS5ieXRlTGVuZ3RoKSAqIDEwMCl9JSBkb25lYDsKICAgIH0KICB9CgogIC8vIEFsbCBkb25lLgogIHlpZWxkIHsKICAgIHJlc3BvbnNlOiB7CiAgICAgIGFjdGlvbjogJ2NvbXBsZXRlJywKICAgIH0KICB9Owp9CgpzY29wZS5nb29nbGUgPSBzY29wZS5nb29nbGUgfHwge307CnNjb3BlLmdvb2dsZS5jb2xhYiA9IHNjb3BlLmdvb2dsZS5jb2xhYiB8fCB7fTsKc2NvcGUuZ29vZ2xlLmNvbGFiLl9maWxlcyA9IHsKICBfdXBsb2FkRmlsZXMsCiAgX3VwbG9hZEZpbGVzQ29udGludWUsCn07Cn0pKHNlbGYpOwo=",
              "ok": true,
              "headers": [
                [
                  "content-type",
                  "application/javascript"
                ]
              ],
              "status": 200,
              "status_text": ""
            }
          },
          "base_uri": "https://localhost:8080/",
          "height": 74
        }
      },
      "source": [
        "uploaded = files.upload()"
      ],
      "execution_count": 0,
      "outputs": [
        {
          "output_type": "display_data",
          "data": {
            "text/html": [
              "\n",
              "     <input type=\"file\" id=\"files-c535bc92-9267-468b-8b14-4b3633c1bc33\" name=\"files[]\" multiple disabled />\n",
              "     <output id=\"result-c535bc92-9267-468b-8b14-4b3633c1bc33\">\n",
              "      Upload widget is only available when the cell has been executed in the\n",
              "      current browser session. Please rerun this cell to enable.\n",
              "      </output>\n",
              "      <script src=\"/nbextensions/google.colab/files.js\"></script> "
            ],
            "text/plain": [
              "<IPython.core.display.HTML object>"
            ]
          },
          "metadata": {
            "tags": []
          }
        },
        {
          "output_type": "stream",
          "text": [
            "Saving datasetNew - Copy.csv to datasetNew - Copy.csv\n"
          ],
          "name": "stdout"
        }
      ]
    },
    {
      "cell_type": "code",
      "metadata": {
        "id": "X1I-hLYyk4aT",
        "colab_type": "code",
        "outputId": "66cb667e-f802-4a29-8ced-4530490c3cb9",
        "colab": {
          "base_uri": "https://localhost:8080/",
          "height": 34
        }
      },
      "source": [
        "for fn in uploaded.keys():\n",
        "  print('User uploaded file \"{name}\" with length {length} bytes'.format(\n",
        "      name=fn, length=len(uploaded[fn])))"
      ],
      "execution_count": 0,
      "outputs": [
        {
          "output_type": "stream",
          "text": [
            "User uploaded file \"datasetNew - Copy.csv\" with length 12659 bytes\n"
          ],
          "name": "stdout"
        }
      ]
    },
    {
      "cell_type": "code",
      "metadata": {
        "id": "83w89llkk--e",
        "colab_type": "code",
        "outputId": "82740c0a-4cd8-4127-9feb-58639f42446b",
        "colab": {
          "base_uri": "https://localhost:8080/",
          "height": 419
        }
      },
      "source": [
        "data = pd.read_csv('datasetNew - Copy.csv',sep='\\t',delimiter=';')\n",
        "data"
      ],
      "execution_count": 0,
      "outputs": [
        {
          "output_type": "execute_result",
          "data": {
            "text/html": [
              "<div>\n",
              "<style scoped>\n",
              "    .dataframe tbody tr th:only-of-type {\n",
              "        vertical-align: middle;\n",
              "    }\n",
              "\n",
              "    .dataframe tbody tr th {\n",
              "        vertical-align: top;\n",
              "    }\n",
              "\n",
              "    .dataframe thead th {\n",
              "        text-align: right;\n",
              "    }\n",
              "</style>\n",
              "<table border=\"1\" class=\"dataframe\">\n",
              "  <thead>\n",
              "    <tr style=\"text-align: right;\">\n",
              "      <th></th>\n",
              "      <th>latitude</th>\n",
              "      <th>longitude</th>\n",
              "      <th>bright_ti4</th>\n",
              "      <th>scan</th>\n",
              "      <th>track</th>\n",
              "    </tr>\n",
              "  </thead>\n",
              "  <tbody>\n",
              "    <tr>\n",
              "      <th>0</th>\n",
              "      <td>-724.685</td>\n",
              "      <td>11.234.071</td>\n",
              "      <td>304.05.00</td>\n",
              "      <td>0.38</td>\n",
              "      <td>0.58</td>\n",
              "    </tr>\n",
              "    <tr>\n",
              "      <th>1</th>\n",
              "      <td>-724.858</td>\n",
              "      <td>11.234.313</td>\n",
              "      <td>301.05.00</td>\n",
              "      <td>0.38</td>\n",
              "      <td>0.58</td>\n",
              "    </tr>\n",
              "    <tr>\n",
              "      <th>2</th>\n",
              "      <td>-730.268</td>\n",
              "      <td>11.236.498</td>\n",
              "      <td>303.04.00</td>\n",
              "      <td>0.37</td>\n",
              "      <td>0.58</td>\n",
              "    </tr>\n",
              "    <tr>\n",
              "      <th>3</th>\n",
              "      <td>-737.448</td>\n",
              "      <td>11.251.962</td>\n",
              "      <td>305.02.00</td>\n",
              "      <td>0.36</td>\n",
              "      <td>0.58</td>\n",
              "    </tr>\n",
              "    <tr>\n",
              "      <th>4</th>\n",
              "      <td>-737.333</td>\n",
              "      <td>11.219.071</td>\n",
              "      <td>304.06.00</td>\n",
              "      <td>0.38</td>\n",
              "      <td>0.59</td>\n",
              "    </tr>\n",
              "    <tr>\n",
              "      <th>...</th>\n",
              "      <td>...</td>\n",
              "      <td>...</td>\n",
              "      <td>...</td>\n",
              "      <td>...</td>\n",
              "      <td>...</td>\n",
              "    </tr>\n",
              "    <tr>\n",
              "      <th>293</th>\n",
              "      <td>-711.318</td>\n",
              "      <td>10.936.131</td>\n",
              "      <td>331.06.00</td>\n",
              "      <td>0.04</td>\n",
              "      <td>0.45</td>\n",
              "    </tr>\n",
              "    <tr>\n",
              "      <th>294</th>\n",
              "      <td>-707.731</td>\n",
              "      <td>10.958.936</td>\n",
              "      <td>339.08.00</td>\n",
              "      <td>0.39</td>\n",
              "      <td>0.44</td>\n",
              "    </tr>\n",
              "    <tr>\n",
              "      <th>295</th>\n",
              "      <td>-691.757</td>\n",
              "      <td>10.943.207</td>\n",
              "      <td>343.08.00</td>\n",
              "      <td>0.04</td>\n",
              "      <td>0.44</td>\n",
              "    </tr>\n",
              "    <tr>\n",
              "      <th>296</th>\n",
              "      <td>-759.341</td>\n",
              "      <td>10.956.709</td>\n",
              "      <td>330.06.00</td>\n",
              "      <td>0.04</td>\n",
              "      <td>0.44</td>\n",
              "    </tr>\n",
              "    <tr>\n",
              "      <th>297</th>\n",
              "      <td>-686.108</td>\n",
              "      <td>11.079.722</td>\n",
              "      <td>333.05.00</td>\n",
              "      <td>0.05</td>\n",
              "      <td>0.41</td>\n",
              "    </tr>\n",
              "  </tbody>\n",
              "</table>\n",
              "<p>298 rows × 5 columns</p>\n",
              "</div>"
            ],
            "text/plain": [
              "     latitude   longitude bright_ti4  scan  track\n",
              "0    -724.685  11.234.071  304.05.00  0.38   0.58\n",
              "1    -724.858  11.234.313  301.05.00  0.38   0.58\n",
              "2    -730.268  11.236.498  303.04.00  0.37   0.58\n",
              "3    -737.448  11.251.962  305.02.00  0.36   0.58\n",
              "4    -737.333  11.219.071  304.06.00  0.38   0.59\n",
              "..        ...         ...        ...   ...    ...\n",
              "293  -711.318  10.936.131  331.06.00  0.04   0.45\n",
              "294  -707.731  10.958.936  339.08.00  0.39   0.44\n",
              "295  -691.757  10.943.207  343.08.00  0.04   0.44\n",
              "296  -759.341  10.956.709  330.06.00  0.04   0.44\n",
              "297  -686.108  11.079.722  333.05.00  0.05   0.41\n",
              "\n",
              "[298 rows x 5 columns]"
            ]
          },
          "metadata": {
            "tags": []
          },
          "execution_count": 4
        }
      ]
    },
    {
      "cell_type": "code",
      "metadata": {
        "id": "O4nHLpJ7fLSO",
        "colab_type": "code",
        "outputId": "21ca14df-080d-4c13-8e7f-cecb21231c70",
        "colab": {
          "base_uri": "https://localhost:8080/",
          "height": 282
        }
      },
      "source": [
        "data.plot()"
      ],
      "execution_count": 0,
      "outputs": [
        {
          "output_type": "execute_result",
          "data": {
            "text/plain": [
              "<matplotlib.axes._subplots.AxesSubplot at 0x7ff5bd0d80f0>"
            ]
          },
          "metadata": {
            "tags": []
          },
          "execution_count": 5
        },
        {
          "output_type": "display_data",
          "data": {
            "image/png": "[encoded data removed]",
            "text/plain": [
              "<Figure size 432x288 with 1 Axes>"
            ]
          },
          "metadata": {
            "tags": []
          }
        }
      ]
    },
    {
      "cell_type": "code",
      "metadata": {
        "id": "SyucW_XclDYt",
        "colab_type": "code",
        "outputId": "71f2bc87-35f7-487d-e585-9afbbfca9a93",
        "colab": {
          "base_uri": "https://localhost:8080/",
          "height": 1000
        }
      },
      "source": [
        "x = data.iloc[:, [0,4]].values\n",
        "x\n"
      ],
      "execution_count": 0,
      "outputs": [
        {
          "output_type": "execute_result",
          "data": {
            "text/plain": [
              "array([[-7.24685e+02,  5.80000e-01],\n",
              "       [-7.24858e+02,  5.80000e-01],\n",
              "       [-7.30268e+02,  5.80000e-01],\n",
              "       [-7.37448e+02,  5.80000e-01],\n",
              "       [-7.37333e+02,  5.90000e-01],\n",
              "       [-8.43923e+02,  3.70000e-01],\n",
              "       [-7.78068e+02,  5.10000e-01],\n",
              "       [-9.55433e+02,  3.60000e-01],\n",
              "       [-8.11809e+02,  5.60000e-01],\n",
              "       [-8.11417e+02,  5.60000e-01],\n",
              "       [-8.11116e+02,  5.60000e-01],\n",
              "       [-7.59989e+02,  5.80000e-01],\n",
              "       [-7.60274e+02,  5.80000e-01],\n",
              "       [-8.11255e+02,  5.60000e-01],\n",
              "       [-8.11214e+02,  5.60000e-01],\n",
              "       [-8.11460e+01,  5.60000e-01],\n",
              "       [-8.29078e+02,  5.80000e-01],\n",
              "       [-8.11538e+02,  5.60000e-01],\n",
              "       [-8.11730e+01,  5.60000e-01],\n",
              "       [-8.11773e+02,  5.60000e-01],\n",
              "       [-8.34153e+02,  4.70000e-01],\n",
              "       [-8.34218e+02,  4.70000e-01],\n",
              "       [ 2.08472e+02,  3.70000e-01],\n",
              "       [ 2.08412e+02,  3.70000e-01],\n",
              "       [ 3.57782e+02,  3.60000e-01],\n",
              "       [ 2.19473e+02,  3.80000e-01],\n",
              "       [ 2.52647e+02,  3.70000e-01],\n",
              "       [ 3.17117e+02,  3.60000e-01],\n",
              "       [ 2.52705e+02,  3.70000e-01],\n",
              "       [ 2.52309e+02,  3.70000e-01],\n",
              "       [ 2.08459e+02,  3.70000e-01],\n",
              "       [ 2.08188e+02,  3.70000e-01],\n",
              "       [ 2.18775e+02,  3.80000e-01],\n",
              "       [ 3.04096e+02,  3.60000e-01],\n",
              "       [ 2.07844e+02,  3.70000e-01],\n",
              "       [ 2.54074e+02,  3.60000e-01],\n",
              "       [ 4.88711e+02,  3.80000e-01],\n",
              "       [ 2.07785e+02,  3.70000e-01],\n",
              "       [ 2.63014e+02,  3.60000e-01],\n",
              "       [ 2.53190e+01,  3.60000e-01],\n",
              "       [ 1.88751e+02,  3.80000e-01],\n",
              "       [ 2.08532e+02,  3.70000e-01],\n",
              "       [ 2.08069e+02,  3.70000e-01],\n",
              "       [ 2.08591e+02,  3.70000e-01],\n",
              "       [ 2.53135e+02,  3.60000e-01],\n",
              "       [ 2.19124e+02,  3.80000e-01],\n",
              "       [ 2.08248e+02,  3.70000e-01],\n",
              "       [ 2.27632e+02,  3.70000e-01],\n",
              "       [ 1.69891e+02,  3.90000e-01],\n",
              "       [ 1.69954e+02,  3.90000e-01],\n",
              "       [ 1.70018e+02,  3.90000e-01],\n",
              "       [ 1.70082e+02,  3.90000e-01],\n",
              "       [ 1.70145e+02,  3.90000e-01],\n",
              "       [ 1.70209e+02,  3.90000e-01],\n",
              "       [ 1.69113e+02,  3.90000e-01],\n",
              "       [ 1.70272e+02,  3.90000e-01],\n",
              "       [ 1.71468e+02,  3.90000e-01],\n",
              "       [ 1.71405e+02,  3.90000e-01],\n",
              "       [ 1.73017e+02,  3.90000e-01],\n",
              "       [ 1.69023e+02,  3.90000e-01],\n",
              "       [ 1.72791e+02,  3.90000e-01],\n",
              "       [ 1.72726e+02,  3.90000e-01],\n",
              "       [ 1.72935e+02,  3.90000e-01],\n",
              "       [ 1.72872e+02,  3.90000e-01],\n",
              "       [ 1.72578e+02,  3.90000e-01],\n",
              "       [ 1.73228e+02,  3.90000e-01],\n",
              "       [ 1.72452e+02,  3.90000e-01],\n",
              "       [ 1.72095e+02,  3.90000e-01],\n",
              "       [ 1.69087e+02,  3.90000e-01],\n",
              "       [ 1.69151e+02,  3.90000e-01],\n",
              "       [ 1.71049e+02,  3.90000e-01],\n",
              "       [ 1.73082e+02,  3.90000e-01],\n",
              "       [ 1.69789e+02,  3.90000e-01],\n",
              "       [ 1.86898e+02,  3.80000e-01],\n",
              "       [ 1.71761e+02,  3.90000e-01],\n",
              "       [ 1.71819e+02,  3.90000e-01],\n",
              "       [ 1.69470e+01,  3.90000e-01],\n",
              "       [ 1.69763e+02,  3.90000e-01],\n",
              "       [ 1.69380e+01,  3.90000e-01],\n",
              "       [ 1.69738e+02,  3.90000e-01],\n",
              "       [ 1.69598e+02,  3.90000e-01],\n",
              "       [ 1.68253e+02,  3.90000e-01],\n",
              "       [ 1.69979e+02,  3.90000e-01],\n",
              "       [ 1.70043e+02,  3.90000e-01],\n",
              "       [ 1.70336e+02,  3.90000e-01],\n",
              "       [ 1.70399e+02,  3.90000e-01],\n",
              "       [ 1.70756e+02,  3.90000e-01],\n",
              "       [ 1.69508e+02,  3.90000e-01],\n",
              "       [ 1.70692e+02,  3.90000e-01],\n",
              "       [ 1.69916e+02,  3.90000e-01],\n",
              "       [ 1.69661e+02,  3.90000e-01],\n",
              "       [ 1.70311e+02,  3.90000e-01],\n",
              "       [ 1.69444e+02,  3.90000e-01],\n",
              "       [ 1.69674e+02,  3.90000e-01],\n",
              "       [ 1.71112e+02,  3.90000e-01],\n",
              "       [ 1.68985e+02,  3.90000e-01],\n",
              "       [ 1.69406e+02,  3.90000e-01],\n",
              "       [ 1.69049e+02,  3.90000e-01],\n",
              "       [ 1.69827e+02,  3.90000e-01],\n",
              "       [ 1.71738e+02,  3.90000e-01],\n",
              "       [ 1.71698e+02,  3.90000e-01],\n",
              "       [ 1.70375e+02,  3.90000e-01],\n",
              "       [ 1.70629e+02,  3.90000e-01],\n",
              "       [ 1.70565e+02,  3.90000e-01],\n",
              "       [ 1.69623e+02,  3.90000e-01],\n",
              "       [ 1.69317e+02,  3.90000e-01],\n",
              "       [ 1.70502e+02,  3.90000e-01],\n",
              "       [ 1.70438e+02,  3.90000e-01],\n",
              "       [ 3.09948e+02,  3.60000e-01],\n",
              "       [ 1.31784e+02,  3.90000e-01],\n",
              "       [ 1.31429e+02,  3.90000e-01],\n",
              "       [ 1.16983e+02,  3.90000e-01],\n",
              "       [ 1.15979e+02,  3.90000e-01],\n",
              "       [ 1.32139e+02,  3.90000e-01],\n",
              "       [ 1.31847e+02,  3.90000e-01],\n",
              "       [-2.40374e+02,  4.90000e-01],\n",
              "       [ 1.16170e+01,  3.90000e-01],\n",
              "       [ 1.14875e+02,  3.90000e-01],\n",
              "       [ 1.16043e+02,  3.90000e-01],\n",
              "       [ 4.28060e-01,  4.00000e-02],\n",
              "       [-2.39818e+02,  4.90000e-01],\n",
              "       [ 1.31722e+02,  3.90000e-01],\n",
              "       [-2.39921e+02,  4.90000e-01],\n",
              "       [ 1.31492e+02,  3.90000e-01],\n",
              "       [ 1.31137e+02,  3.90000e-01],\n",
              "       [ 1.16462e+02,  3.90000e-01],\n",
              "       [ 1.15395e+02,  3.90000e-01],\n",
              "       [ 1.16755e+02,  3.90000e-01],\n",
              "       [ 1.14975e+02,  3.90000e-01],\n",
              "       [ 1.16107e+02,  3.90000e-01],\n",
              "       [ 1.31659e+02,  3.90000e-01],\n",
              "       [ 1.25976e+02,  3.90000e-01],\n",
              "       [ 1.15331e+02,  3.90000e-01],\n",
              "       [ 1.16272e+02,  3.90000e-01],\n",
              "       [ 1.16628e+02,  3.90000e-01],\n",
              "       [ 1.16691e+02,  3.90000e-01],\n",
              "       [ 1.16526e+02,  3.90000e-01],\n",
              "       [-5.99575e+02,  5.90000e-01],\n",
              "       [-6.01064e+02,  5.90000e-01],\n",
              "       [-4.66978e+02,  5.60000e-01],\n",
              "       [-4.66890e+01,  5.60000e-01],\n",
              "       [-4.66934e+02,  5.60000e-01],\n",
              "       [-8.30549e+02,  3.80000e-01],\n",
              "       [-8.30203e+02,  3.80000e-01],\n",
              "       [-8.29857e+02,  3.80000e-01],\n",
              "       [-8.29277e+02,  3.80000e-01],\n",
              "       [-8.28807e+02,  3.80000e-01],\n",
              "       [-8.27949e+02,  3.80000e-01],\n",
              "       [-8.27295e+02,  3.80000e-01],\n",
              "       [-8.30048e+02,  3.80000e-01],\n",
              "       [-8.29990e+01,  3.80000e-01],\n",
              "       [-8.33673e+02,  3.80000e-01],\n",
              "       [-8.34521e+02,  3.80000e-01],\n",
              "       [-8.34578e+02,  3.80000e-01],\n",
              "       [-8.32304e+02,  3.80000e-01],\n",
              "       [-8.32248e+02,  3.80000e-01],\n",
              "       [-7.85031e+02,  3.60000e-01],\n",
              "       [-7.85085e+02,  3.60000e-01],\n",
              "       [-8.29635e+02,  3.80000e-01],\n",
              "       [-8.29305e+02,  3.80000e-01],\n",
              "       [-7.51995e+02,  3.60000e-01],\n",
              "       [-7.52486e+02,  3.60000e-01],\n",
              "       [-7.45216e+02,  3.60000e-01],\n",
              "       [-8.05251e+02,  3.60000e-01],\n",
              "       [-7.32673e+02,  3.60000e-01],\n",
              "       [-7.30520e+01,  3.60000e-01],\n",
              "       [-8.44698e+02,  3.60000e-01],\n",
              "       [-6.01513e+02,  4.50000e-01],\n",
              "       [-6.01411e+02,  4.50000e-01],\n",
              "       [-8.45149e+02,  4.00000e-02],\n",
              "       [-8.82799e+02,  3.60000e-01],\n",
              "       [-8.45177e+02,  4.00000e-02],\n",
              "       [-8.20321e+02,  3.60000e-01],\n",
              "       [-8.82018e+02,  3.60000e-01],\n",
              "       [-8.45743e+02,  4.00000e-02],\n",
              "       [-8.60732e+02,  5.20000e-01],\n",
              "       [-8.50727e+02,  4.00000e-02],\n",
              "       [-8.59286e+02,  4.00000e-02],\n",
              "       [-8.82464e+02,  3.60000e-01],\n",
              "       [-8.60736e+02,  5.20000e-01],\n",
              "       [-8.56380e+01,  4.00000e-02],\n",
              "       [-8.49997e+02,  4.00000e-02],\n",
              "       [-8.44642e+02,  4.00000e-02],\n",
              "       [-8.18951e+02,  3.80000e-01],\n",
              "       [-8.49102e+02,  5.20000e-01],\n",
              "       [-8.56747e+02,  4.00000e-02],\n",
              "       [-8.67542e+02,  4.00000e-02],\n",
              "       [-8.44743e+02,  4.00000e-02],\n",
              "       [-8.19014e+02,  3.80000e-01],\n",
              "       [-8.56637e+02,  3.60000e-01],\n",
              "       [-9.64023e+02,  4.10000e-01],\n",
              "       [-9.53593e+02,  4.10000e-01],\n",
              "       [-9.62470e+01,  4.10000e-01],\n",
              "       [-8.56390e+01,  4.00000e-02],\n",
              "       [-9.63411e+02,  4.10000e-01],\n",
              "       [-9.55095e+02,  4.10000e-01],\n",
              "       [-8.57483e+02,  3.80000e-01],\n",
              "       [-8.90030e+01,  3.70000e-01],\n",
              "       [-8.53918e+02,  3.70000e-01],\n",
              "       [-8.93673e+02,  3.80000e-01],\n",
              "       [-8.87553e+02,  3.70000e-01],\n",
              "       [-9.53969e+02,  4.10000e-01],\n",
              "       [-9.64216e+02,  4.10000e-01],\n",
              "       [-8.33002e+02,  4.00000e-02],\n",
              "       [-9.72732e+02,  4.10000e-01],\n",
              "       [-9.64139e+02,  4.10000e-01],\n",
              "       [-8.54517e+02,  3.70000e-01],\n",
              "       [-8.65626e+02,  4.40000e-01],\n",
              "       [-8.70343e+02,  4.60000e-01],\n",
              "       [-8.69941e+02,  4.60000e-01],\n",
              "       [-9.66661e+02,  4.20000e-01],\n",
              "       [-9.61246e+02,  4.20000e-01],\n",
              "       [-9.50132e+02,  4.30000e-01],\n",
              "       [-9.50294e+02,  4.30000e-01],\n",
              "       [-9.48804e+02,  4.20000e-01],\n",
              "       [-9.46037e+02,  4.20000e-01],\n",
              "       [-8.76575e+02,  3.70000e-01],\n",
              "       [-8.45934e+02,  4.40000e-01],\n",
              "       [-9.85067e+02,  4.30000e-01],\n",
              "       [-8.50616e+02,  4.00000e-02],\n",
              "       [-8.63597e+02,  3.80000e-01],\n",
              "       [-9.74295e+02,  5.50000e-01],\n",
              "       [-8.41821e+02,  3.80000e-01],\n",
              "       [-8.44744e+02,  3.80000e-01],\n",
              "       [-9.42834e+02,  5.60000e-01],\n",
              "       [-7.26894e+02,  3.80000e-01],\n",
              "       [-7.23421e+02,  3.80000e-01],\n",
              "       [-6.95840e+01,  3.80000e-01],\n",
              "       [-6.93576e+02,  3.90000e-01],\n",
              "       [-7.14012e+02,  3.90000e-01],\n",
              "       [-7.37174e+02,  3.70000e-01],\n",
              "       [-7.29605e+02,  3.70000e-01],\n",
              "       [-6.87116e+02,  4.00000e-02],\n",
              "       [-7.43143e+02,  3.90000e-01],\n",
              "       [-7.44126e+02,  3.90000e-01],\n",
              "       [-7.35446e+02,  3.90000e-01],\n",
              "       [-7.34972e+02,  3.90000e-01],\n",
              "       [-7.34197e+02,  3.90000e-01],\n",
              "       [-7.30156e+02,  3.90000e-01],\n",
              "       [-7.13544e+02,  3.90000e-01],\n",
              "       [-7.21924e+02,  3.80000e-01],\n",
              "       [-7.36704e+02,  3.90000e-01],\n",
              "       [-7.35987e+02,  3.90000e-01],\n",
              "       [-7.32388e+02,  3.90000e-01],\n",
              "       [-7.40797e+02,  4.00000e-02],\n",
              "       [-7.35649e+02,  4.00000e-02],\n",
              "       [-6.90690e+01,  4.00000e-02],\n",
              "       [-7.34103e+02,  4.00000e-02],\n",
              "       [-7.49797e+02,  4.60000e-01],\n",
              "       [-6.92119e+02,  4.40000e-01],\n",
              "       [-6.63087e+02,  4.80000e-01],\n",
              "       [-6.60701e+02,  4.80000e-01],\n",
              "       [-6.60762e+02,  4.80000e-01],\n",
              "       [-6.57107e+02,  4.80000e-01],\n",
              "       [-7.61290e+01,  3.90000e-01],\n",
              "       [-6.42119e+02,  5.00000e-02],\n",
              "       [-8.11709e+02,  3.70000e-01],\n",
              "       [-7.78472e+02,  3.70000e-01],\n",
              "       [-7.58672e+02,  3.80000e-01],\n",
              "       [-8.11413e+02,  3.70000e-01],\n",
              "       [-7.89923e+02,  4.00000e-02],\n",
              "       [-7.89730e+01,  4.00000e-02],\n",
              "       [-7.86689e+02,  4.00000e-02],\n",
              "       [-7.86384e+02,  4.00000e-02],\n",
              "       [-7.77727e+02,  4.00000e-02],\n",
              "       [-7.77777e+02,  4.00000e-02],\n",
              "       [-7.77409e+02,  4.00000e-02],\n",
              "       [-7.91824e+02,  4.00000e-02],\n",
              "       [-6.93193e+02,  4.60000e-01],\n",
              "       [-6.89584e+02,  4.60000e-01],\n",
              "       [-7.58042e+02,  4.10000e-01],\n",
              "       [-7.49624e+02,  4.00000e-02],\n",
              "       [-7.82286e+02,  4.10000e-01],\n",
              "       [-7.79100e+00,  3.90000e-01],\n",
              "       [-6.83332e+02,  4.80000e-01],\n",
              "       [-6.83388e+02,  4.80000e-01],\n",
              "       [-6.72341e+02,  4.80000e-01],\n",
              "       [-6.68529e+02,  4.80000e-01],\n",
              "       [-8.07691e+02,  3.90000e-01],\n",
              "       [-8.11361e+02,  3.70000e-01],\n",
              "       [-5.63426e+02,  4.50000e-01],\n",
              "       [-7.67906e+02,  3.90000e-01],\n",
              "       [-7.47075e+02,  3.80000e-01],\n",
              "       [-7.61478e+02,  4.00000e-02],\n",
              "       [-7.61060e+01,  4.00000e-02],\n",
              "       [-7.21274e+02,  4.00000e-02],\n",
              "       [-3.90916e+02,  4.60000e-01],\n",
              "       [-3.90855e+02,  4.60000e-01],\n",
              "       [-3.90670e+01,  4.60000e-01],\n",
              "       [-3.90792e+02,  4.60000e-01],\n",
              "       [-6.95263e+02,  4.10000e-01],\n",
              "       [-6.93696e+02,  4.10000e-01],\n",
              "       [-3.90472e+02,  4.60000e-01],\n",
              "       [-7.11318e+02,  4.50000e-01],\n",
              "       [-7.07731e+02,  4.40000e-01],\n",
              "       [-6.91757e+02,  4.40000e-01],\n",
              "       [-7.59341e+02,  4.40000e-01],\n",
              "       [-6.86108e+02,  4.10000e-01]])"
            ]
          },
          "metadata": {
            "tags": []
          },
          "execution_count": 6
        }
      ]
    },
    {
      "cell_type": "code",
      "metadata": {
        "id": "Bl9IsqSOlMXH",
        "colab_type": "code",
        "outputId": "ac606726-e227-415c-dff2-d5f26be4f1c5",
        "colab": {
          "base_uri": "https://localhost:8080/",
          "height": 282
        }
      },
      "source": [
        "plt.scatter(x[:,0],x[:,1], label='True Position')"
      ],
      "execution_count": 0,
      "outputs": [
        {
          "output_type": "execute_result",
          "data": {
            "text/plain": [
              "<matplotlib.collections.PathCollection at 0x7ff5bcb19f60>"
            ]
          },
          "metadata": {
            "tags": []
          },
          "execution_count": 7
        },
        {
          "output_type": "display_data",
          "data": {
            "image/png": "[encoded data removed]",
            "text/plain": [
              "<Figure size 432x288 with 1 Axes>"
            ]
          },
          "metadata": {
            "tags": []
          }
        }
      ]
    },
    {
      "cell_type": "code",
      "metadata": {
        "id": "2q8domEolaqm",
        "colab_type": "code",
        "outputId": "67386f4e-4464-4fbc-e737-21d626cdd588",
        "colab": {
          "base_uri": "https://localhost:8080/",
          "height": 68
        }
      },
      "source": [
        "kmeans = KMeans(n_clusters=3)\n",
        "kmeans.fit(x)\n",
        "centroid = kmeans.cluster_centers_\n",
        "centroid"
      ],
      "execution_count": 0,
      "outputs": [
        {
          "output_type": "execute_result",
          "data": {
            "text/plain": [
              "array([[-7.97694932e+02,  3.64409938e-01],\n",
              "       [ 1.71853518e+02,  3.81696429e-01],\n",
              "       [-1.74214600e+02,  3.78000000e-01]])"
            ]
          },
          "metadata": {
            "tags": []
          },
          "execution_count": 16
        }
      ]
    },
    {
      "cell_type": "code",
      "metadata": {
        "id": "-tsVDsWhlv5j",
        "colab_type": "code",
        "outputId": "e71c33dd-79fa-4a1b-e617-219394385d46",
        "colab": {
          "base_uri": "https://localhost:8080/",
          "height": 255
        }
      },
      "source": [
        "labels = kmeans.labels_\n",
        "labels"
      ],
      "execution_count": 0,
      "outputs": [
        {
          "output_type": "execute_result",
          "data": {
            "text/plain": [
              "array([0, 0, 0, 0, 0, 0, 0, 0, 0, 0, 0, 0, 0, 0, 0, 2, 0, 0, 2, 0, 0, 0,\n",
              "       1, 1, 1, 1, 1, 1, 1, 1, 1, 1, 1, 1, 1, 1, 1, 1, 1, 1, 1, 1, 1, 1,\n",
              "       1, 1, 1, 1, 1, 1, 1, 1, 1, 1, 1, 1, 1, 1, 1, 1, 1, 1, 1, 1, 1, 1,\n",
              "       1, 1, 1, 1, 1, 1, 1, 1, 1, 1, 1, 1, 1, 1, 1, 1, 1, 1, 1, 1, 1, 1,\n",
              "       1, 1, 1, 1, 1, 1, 1, 1, 1, 1, 1, 1, 1, 1, 1, 1, 1, 1, 1, 1, 1, 1,\n",
              "       1, 1, 1, 1, 1, 2, 1, 1, 1, 1, 2, 1, 2, 1, 1, 1, 1, 1, 1, 1, 1, 1,\n",
              "       1, 1, 1, 1, 1, 0, 0, 2, 2, 2, 0, 0, 0, 0, 0, 0, 0, 0, 2, 0, 0, 0,\n",
              "       0, 0, 0, 0, 0, 0, 0, 0, 0, 0, 0, 2, 0, 0, 0, 0, 0, 0, 0, 0, 0, 0,\n",
              "       0, 0, 0, 0, 2, 0, 0, 0, 0, 0, 0, 0, 0, 0, 0, 0, 2, 2, 0, 0, 0, 2,\n",
              "       0, 0, 0, 0, 0, 0, 0, 0, 0, 0, 0, 0, 0, 0, 0, 0, 0, 0, 0, 0, 0, 0,\n",
              "       0, 0, 0, 0, 0, 0, 0, 2, 0, 0, 0, 0, 0, 0, 0, 0, 0, 0, 0, 0, 0, 0,\n",
              "       0, 0, 0, 0, 2, 0, 0, 0, 0, 0, 0, 0, 2, 0, 0, 0, 0, 0, 0, 2, 0, 0,\n",
              "       0, 0, 0, 0, 0, 0, 0, 0, 0, 2, 0, 0, 0, 0, 0, 0, 0, 0, 0, 0, 2, 0,\n",
              "       2, 2, 2, 2, 0, 0, 2, 0, 0, 0, 0, 0], dtype=int32)"
            ]
          },
          "metadata": {
            "tags": []
          },
          "execution_count": 17
        }
      ]
    },
    {
      "cell_type": "code",
      "metadata": {
        "id": "35j-wFzDl0AD",
        "colab_type": "code",
        "outputId": "e975a53a-3c16-4fff-b7dc-804988de98a8",
        "colab": {
          "base_uri": "https://localhost:8080/",
          "height": 282
        }
      },
      "source": [
        "plt.scatter(x[:,0],x[:,1], c=labels,cmap='rainbow')"
      ],
      "execution_count": 0,
      "outputs": [
        {
          "output_type": "execute_result",
          "data": {
            "text/plain": [
              "<matplotlib.collections.PathCollection at 0x7ff5ba1f9cc0>"
            ]
          },
          "metadata": {
            "tags": []
          },
          "execution_count": 18
        },
        {
          "output_type": "display_data",
          "data": {
            "image/png": "[encoded data removed]",
            "text/plain": [
              "<Figure size 432x288 with 1 Axes>"
            ]
          },
          "metadata": {
            "tags": []
          }
        }
      ]
    },
    {
      "cell_type": "code",
      "metadata": {
        "id": "ktvHxukTmCG3",
        "colab_type": "code",
        "outputId": "35e44a95-b40d-4b64-ab7d-6fff9231392a",
        "colab": {
          "base_uri": "https://localhost:8080/",
          "height": 282
        }
      },
      "source": [
        "plt.scatter(x[:,0], x[:,1], c=labels, cmap='rainbow')\n",
        "plt.scatter(centroid[:,0] ,centroid[:,1], color='black')"
      ],
      "execution_count": 0,
      "outputs": [
        {
          "output_type": "execute_result",
          "data": {
            "text/plain": [
              "<matplotlib.collections.PathCollection at 0x7ff5ba151908>"
            ]
          },
          "metadata": {
            "tags": []
          },
          "execution_count": 20
        },
        {
          "output_type": "display_data",
          "data": {
            "image/png": "[encoded data removed]",
            "text/plain": [
              "<Figure size 432x288 with 1 Axes>"
            ]
          },
          "metadata": {
            "tags": []
          }
        }
      ]
    },
    {
      "cell_type": "code",
      "metadata": {
        "id": "PL3GOfgjmc5v",
        "colab_type": "code",
        "outputId": "4bf1ddb4-9072-4d5c-ad40-7cb8a4a91e46",
        "colab": {
          "base_uri": "https://localhost:8080/",
          "height": 68
        }
      },
      "source": [
        "centroid"
      ],
      "execution_count": 0,
      "outputs": [
        {
          "output_type": "execute_result",
          "data": {
            "text/plain": [
              "array([[-7.97694932e+02,  3.64409938e-01],\n",
              "       [ 1.71853518e+02,  3.81696429e-01],\n",
              "       [-1.74214600e+02,  3.78000000e-01]])"
            ]
          },
          "metadata": {
            "tags": []
          },
          "execution_count": 21
        }
      ]
    },
    {
      "cell_type": "code",
      "metadata": {
        "id": "ptmPHv3ZoFX_",
        "colab_type": "code",
        "outputId": "108858fe-9147-4c44-8ca9-1293fba4d17b",
        "colab": {
          "base_uri": "https://localhost:8080/",
          "height": 34
        }
      },
      "source": [
        "centroid[2,]"
      ],
      "execution_count": 0,
      "outputs": [
        {
          "output_type": "execute_result",
          "data": {
            "text/plain": [
              "array([-174.2146,    0.378 ])"
            ]
          },
          "metadata": {
            "tags": []
          },
          "execution_count": 22
        }
      ]
    },
    {
      "cell_type": "code",
      "metadata": {
        "id": "SdbduFxstN0A",
        "colab_type": "code",
        "colab": {}
      },
      "source": [
        "sumS = []\n",
        "i = 0\n",
        "j = 0\n",
        "for i in range(3):\n",
        "  for j in range(198):\n",
        "    s = ((labels[j]-centroid[i,0])**2)+((labels[j]-centroid[i,1])**2)\n",
        "    sumS.append(s)"
      ],
      "execution_count": 0,
      "outputs": []
    },
    {
      "cell_type": "code",
      "metadata": {
        "id": "5zTSaU98tpZ1",
        "colab_type": "code",
        "outputId": "08be28c8-4a37-4ef9-ac9a-ff369acea632",
        "colab": {
          "base_uri": "https://localhost:8080/",
          "height": 34
        }
      },
      "source": [
        "print('SSE =',sum(sumS))"
      ],
      "execution_count": 0,
      "outputs": [
        {
          "output_type": "stream",
          "text": [
            "SSE = 255353056.2309368\n"
          ],
          "name": "stdout"
        }
      ]
    },
    {
      "cell_type": "code",
      "metadata": {
        "id": "JxhgSHaS4guC",
        "colab_type": "code",
        "colab": {}
      },
      "source": [
        ""
      ],
      "execution_count": 0,
      "outputs": []
    }
  ]
}