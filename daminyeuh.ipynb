{
  "nbformat": 4,
  "nbformat_minor": 0,
  "metadata": {
    "colab": {
      "name": "daminyeuh.ipynb",
      "provenance": [],
      "collapsed_sections": [],
      "include_colab_link": true
    },
    "kernelspec": {
      "name": "python3",
      "display_name": "Python 3"
    }
  },
  "cells": [
    {
      "cell_type": "markdown",
      "metadata": {
        "id": "view-in-github",
        "colab_type": "text"
      },
      "source": [
        "<a href=\"https://colab.research.google.com/github/leadymunte/Damin-Tugas2/blob/master/daminyeuh.ipynb\" target=\"_parent\"><img src=\"https://colab.research.google.com/assets/colab-badge.svg\" alt=\"Open In Colab\"/></a>"
      ]
    },
    {
      "cell_type": "markdown",
      "metadata": {
        "id": "4Hx3tJsUEIIr",
        "colab_type": "text"
      },
      "source": [
        "**TF** - **IDF**\n",
        "\n"
      ]
    },
    {
      "cell_type": "code",
      "metadata": {
        "id": "ernhfzFT6G_4",
        "colab_type": "code",
        "outputId": "5c3c8762-76dd-41f0-c9ec-29744aafa92b",
        "colab": {
          "base_uri": "https://localhost:8080/",
          "height": 424
        }
      },
      "source": [
        "import pandas as pd\n",
        "import numpy as np\n",
        "import matplotlib.pyplot as plt\n",
        "\n",
        "data = pd.read_csv(\"DatasetDamin.csv\")\n",
        "data"
      ],
      "execution_count": 0,
      "outputs": [
        {
          "output_type": "execute_result",
          "data": {
            "text/html": [
              "<div>\n",
              "<style scoped>\n",
              "    .dataframe tbody tr th:only-of-type {\n",
              "        vertical-align: middle;\n",
              "    }\n",
              "\n",
              "    .dataframe tbody tr th {\n",
              "        vertical-align: top;\n",
              "    }\n",
              "\n",
              "    .dataframe thead th {\n",
              "        text-align: right;\n",
              "    }\n",
              "</style>\n",
              "<table border=\"1\" class=\"dataframe\">\n",
              "  <thead>\n",
              "    <tr style=\"text-align: right;\">\n",
              "      <th></th>\n",
              "      <th>Tweet</th>\n",
              "      <th>Label</th>\n",
              "    </tr>\n",
              "  </thead>\n",
              "  <tbody>\n",
              "    <tr>\n",
              "      <th>0</th>\n",
              "      <td>sayangnya dibuku buku sejarah yang masuk kurik...</td>\n",
              "      <td>negatif</td>\n",
              "    </tr>\n",
              "    <tr>\n",
              "      <th>1</th>\n",
              "      <td>pelajaran berganti kurikulum demi kurikulum Il...</td>\n",
              "      <td>positif</td>\n",
              "    </tr>\n",
              "    <tr>\n",
              "      <th>2</th>\n",
              "      <td>ganti lagi dong kurikulum pendidikan indonesia...</td>\n",
              "      <td>negatif</td>\n",
              "    </tr>\n",
              "    <tr>\n",
              "      <th>3</th>\n",
              "      <td>Masalah pendidikan itu tidak bisa hanya seoran...</td>\n",
              "      <td>negatif</td>\n",
              "    </tr>\n",
              "    <tr>\n",
              "      <th>4</th>\n",
              "      <td>pesannya untuk menteri pendidikan yang baru ke...</td>\n",
              "      <td>positif</td>\n",
              "    </tr>\n",
              "    <tr>\n",
              "      <th>...</th>\n",
              "      <td>...</td>\n",
              "      <td>...</td>\n",
              "    </tr>\n",
              "    <tr>\n",
              "      <th>168</th>\n",
              "      <td>kemendikbud mengajak seluruh penanggung jawab ...</td>\n",
              "      <td>positif</td>\n",
              "    </tr>\n",
              "    <tr>\n",
              "      <th>169</th>\n",
              "      <td>mendikbud memohon masukan dan diberikan waktu ...</td>\n",
              "      <td>positif</td>\n",
              "    </tr>\n",
              "    <tr>\n",
              "      <th>170</th>\n",
              "      <td>di hadapan para guru mendikbud menyampaikan ap...</td>\n",
              "      <td>positif</td>\n",
              "    </tr>\n",
              "    <tr>\n",
              "      <th>171</th>\n",
              "      <td>mendikbud nadiem makarim menghadiri puncak per...</td>\n",
              "      <td>positif</td>\n",
              "    </tr>\n",
              "    <tr>\n",
              "      <th>172</th>\n",
              "      <td>ujian nasional pada kemungkinan akan menjadi y...</td>\n",
              "      <td>positif</td>\n",
              "    </tr>\n",
              "  </tbody>\n",
              "</table>\n",
              "<p>173 rows × 2 columns</p>\n",
              "</div>"
            ],
            "text/plain": [
              "                                                 Tweet    Label\n",
              "0    sayangnya dibuku buku sejarah yang masuk kurik...  negatif\n",
              "1    pelajaran berganti kurikulum demi kurikulum Il...  positif\n",
              "2    ganti lagi dong kurikulum pendidikan indonesia...  negatif\n",
              "3    Masalah pendidikan itu tidak bisa hanya seoran...  negatif\n",
              "4    pesannya untuk menteri pendidikan yang baru ke...  positif\n",
              "..                                                 ...      ...\n",
              "168  kemendikbud mengajak seluruh penanggung jawab ...  positif\n",
              "169  mendikbud memohon masukan dan diberikan waktu ...  positif\n",
              "170  di hadapan para guru mendikbud menyampaikan ap...  positif\n",
              "171  mendikbud nadiem makarim menghadiri puncak per...  positif\n",
              "172  ujian nasional pada kemungkinan akan menjadi y...  positif\n",
              "\n",
              "[173 rows x 2 columns]"
            ]
          },
          "metadata": {
            "tags": []
          },
          "execution_count": 47
        }
      ]
    },
    {
      "cell_type": "code",
      "metadata": {
        "id": "l3cqetp96n49",
        "colab_type": "code",
        "colab": {}
      },
      "source": [
        "dataTrain = data['Tweet'][0:100]\n",
        "#print(dataTrain)\n",
        "classTrain = data['Label'][0:100]\n",
        "#print(classTrain)\n",
        "dataTest = data['Tweet'][101:172]\n",
        "#print(dataTest)\n",
        "classTest = data['Label'][101:172]\n",
        "#print(classTest)\n"
      ],
      "execution_count": 0,
      "outputs": []
    },
    {
      "cell_type": "code",
      "metadata": {
        "id": "M_TUu8aw7Ov1",
        "colab_type": "code",
        "outputId": "8f594e0c-61c5-4c09-8530-03331000d310",
        "colab": {
          "base_uri": "https://localhost:8080/",
          "height": 55
        }
      },
      "source": [
        "dataTrain_list = []\n",
        "for data in dataTrain:\n",
        "    dataTrain_list.append(' '.join(data))\n",
        "print(dataTrain_list)"
      ],
      "execution_count": 0,
      "outputs": [
        {
          "output_type": "stream",
          "text": [
            "['s a y a n g n y a   d i b u k u   b u k u   s e j a r a h   y a n g   m a s u k   k u r i k u l u m   i n d o n e s i a   t i d a k   p e r n a h   d i m u a t   m a t e r i   i n v e s t a s i   u t a n g   p i u t a n g   p e m b a n g u n a n', 'p e l a j a r a n   b e r g a n t i   k u r i k u l u m   d e m i   k u r i k u l u m   I l m u   p e n g e t a h u a n   p u n   s e m a k i n   m o d e r n   t a p i   a d a   y a n g   s u l i t   b e r u b a h   d a r i   d u n i a   p e n d i d i k a n   n a s i b   g u r u   y a n g   k u r a n g   d i p e r h a t i k a n   d i   p e l o s o k   n e g e r i   d a n   p e d a l a m a n   p a r a   g u r u   b e r b a k t i   t a n p a   p e r n a h   p e d u l i   p a d a   i m b a l a n', 'g a n t i   l a g i   d o n g   k u r i k u l u m   p e n d i d i k a n   i n d o n e s i a   p a s t i   b a k a l   k u l t u r   k a g e t   l a g i l a h   s u s a h   p e n y e s u a i a n   t a p i   t i d a k   m a s a l a h   s i i h   k a l a u   e m a n g   i t u   b a g u s   b u a t   k e d e p a n n y a', 'M a s a l a h   p e n d i d i k a n   i t u   t i d a k   b i s a   h a n y a   s e o r a n g   m e n t e r i   y a n g   m e l a k u k a n   k e b i j a k k a n   s e p e r t i   u j i a n   n a s i o n a l   a t a u   k u r i k u l u m   t e t a p i   h a r u s   d i b u a t   r e n c a n a   b e s a r   j a n g k a   p a n j a n g   m e l i b a t k a n   b e r b a g a i   u n s u r   p e n d i d i k   d a n   p e n e l i t i   d a n   d i   e v a l u a s i   u n t u k   w a k t u   t e r t e n t u', 'p e s a n n y a   u n t u k   m e n t e r i   p e n d i d i k a n   y a n g   b a r u   k e m a b a l i k a n   l a g i   k u r i k u l u m   p e n d i d i k a n   m o r a l   p a n c a s i l a   u n t u k   m e m p e r k u a t   m o r a l   a n a k   b a n g s a   s e b a g a i   p e n e r u s   t o n g g a k   p e m b a n g u n a n   n e g a r a', 'k u r i k u l u m   p e n d i d i k a n   d i b u a t   s e d e m i k i a n   r u p a   s e h i n g g a   p e n d i d i k   b a h a g i a   d a n   b i s a   m e m b a h a g i a k a n   m u r i d   y a n g   d i d i d i k n y a', 'b i r o k r a s i   y a n g   b e r b e l i t   d a n   k u r i k u l u m   y a n g   t e r s e n d a t   t o l o l   b e n e r i n   d u l u   t e r u t a m a   p e r g u r u a n   t i n g g i', 'e m p a t   t a h u n   k u l i a h   d i   s a n a   b a r u   s a d a r   a j a   s e k a r a n g   m u n g k i n   k a r e n a     k a l i   y a   h a r u s   b e l a j a r   b a n y a k   d a r i   p r o d i   s e b e l a h   o h   i y a   s t r u k t u r   k u r i k u l u m   s a n g a t   m e m b a n t u   k a r e n a   b i s a   d i g u n a k a n   s e b a g a i   a r a h a n   b e l a j a r   b a g i   y a n g   m a u   o t o d i d a k   k a l a u   b a c a   b u k u   s u m b e r   c u m a   m e m b u a n g   w a k t u', 'a d a   s i s w a   y a n g   n y o n t e k   t e r u s   a k u   l a p o r i n   w a k i l   k e p a l a   k u r i k u l u m   l a n g s u n g   t u r u n   t a n g a n   j a d i   a k u n y a   t e g a n g', 'b u k a n n y a   s a m a   y a   m a t e m a t i k a   d a s a r   s a m a   l o g i k a   d a s a r   j a d i   u n t u k   a p a   d i r u b a h   k u r i k u l u m n y a', 'j a d i i k a n   l o g i k a   d a s a r   s e b a g a i   m a t a   p e l a j a r a n   d i   s e k o l a h   d a s a r   p a k   m e n d i k b u d   y a n g   s e t u j u   m o h o n   d i   p o s t   u l a n g', 'U n t u k   a p a   m u r i d   d i j e j a l k a n   s e m u a   p e l a j a r a n   k a l a u   g u r u n y a   s e n d i r i   h a n y a   m e n g u a s a i   s a t u   p e l a j a r a n', 'h e b o h n y a   m a s a l a h   k u r i k u l u m   p e n d i d i k a n   y a n g   m a u   d i g a n t i   m e m b u t u h k a n   b i a y a   m e n c a p a i   m i l y a r a n   r u p i a h   l e b i h   b i j a k   j i k a   k u r i k u l u m   y a n g   a d a   d i m a k s i m a l k a n   h i n g g a   p o l a   y a n g   d i h a r a p k a n   b i s a   m e n y e n t u h   k e   t u j u a n', 'n a d i e m   p e n y e d e r h a n a a n   k u r i k u l u m   b a r u   u n t u k   l a t i h   k o m p e t e n s i   g u r u   d a n   s i s w a   b u k a n   m e n g h a f a l   i n f o r m a s i', 'p e m e r i n t a h   p e r l u   m e m p e r b a r u i   k u r i k u l u m   d e n g a n   m e m a s u k k a n   k u r i k u l u m   d i g i t a l i s a s i', 'p e r a n   t e k n o l o g i   a k a n   s a n g a t   b e s a r   d i   d a l a m   s e m u a n y a   k u a l i t a s   e f i s i e n s i   d a n   a d m i n i s t r a s i   p e n d i d i k a n   s e b e s a r   i t u   p e r a n   t e k n o l o g i   s a n g a t   p e n t i n g   m e n d i k b u d n a d i e m   n a d i e m m a k a r i m   k u r i k u l u m  ', 'd i   n e g a r a   n e g a r a   m a j u   k u l t u r   s a i n s   s u d a h   s a n g a t   k u a t   p e s a w a t   b u a t a n   r u m a h   m u d a h   k i t a   t e m u i   p e n g e t a h u a n   s a i n s   d i   s m a   s e b e n a r n y a   c u k u p   u n t u k   m e m p e l a j a r i   b a g a i m a n a   p e s a w a t   b i s a   t e r b a n g', 'p e r m a i n a n   t r a d i s i o n a l   b a k a l   m a s u k   k u r i k u l u m   s d', 'a u d i e n s i   d e n g a n   a t a s e   p e n d i d i k a n   d a n   w a k i l   d u t a   b e s a r   u n t u k   i n d i a   t e n t a n g   h a s i l   k e m a m p u a n   k o d i n g   k e l a s   s i n g k a t   d a n   r e k o m e n d a s i   t e n t a n g   k u r i k u l u m   i n f o r m a t i k a   u n t u k   i n d o n e s i a', 'd i a n g g a p   b e r d a m p a k   n e g a t i f   o l a h r a g a   e l e k t r o n i k   d i s a r a n k a n   t i d a k   m a s u k   k u r i k u l u m', 's m a   n e g e r i   s a l a h   s a t u   s e k o l a h   p e r c o n t o h a n   i m p l e m e n t a s i   k u r i k u l u m   p a r a   s i s w a   d e n g a n   k r e a t i f   m e n g h i a s   s e k o l a h   d e n g a n   m o r a l   b e r t e m a   k e b a n g s a a n', 'i m p l e m e n t a s i   k u r i k u l u m   b e r m u a t a n   K e m a r i t i m a n   d i   p r o v i n s i   b e r t u j u a n   m e m b e r i k a n   p e m a h a m a n   m e n g e n a i   k e k a y a a n   d a n   p o t e n s i   k e m a r i t i m a n   i n d o n e s i a   k e p a d a   s i s w a   s e j a k   d i n i', 'l u p a   d i a   s y a r a t   t e r b e n t u k n y a   n e g a r a   a d a   s a l a h   s a t u n y a   r a k y a t   h a h h a h a h h a   k u r i k u l u m', 'k a t a n y a   o l a h r a g a   e l e k t r o n i k   m a u   d i m a s u k i n   k e   k u r i k u l u m   k a l o   j a d i   n i h   m u n g k i n   b e b e r a p a   t a h u n   k e m u d i a n   a d a   a j a   t u h   y a n g   b u a t   p e t i s i   o n l i n e   b u a t   n g i l a n g i n n y a', 'm a s u k   k u r i k u l u m   s e k o l a h   k u r i k u l u m   m e n g e n a i   p e m a h a m a n   d a n   k e c a k a p a n   b e n c a n a   a l a m   p e n t i n g   b a g i   s i s w a   l a n t a r a n   i n d o n e s i a   b e r a d a   p a d a   l i n g k a r a n   g u n u n g   b e r a p i', 's e k o l a h   t u n a s   m u l i a   t e r a p k a n   k u r i k u l u m   m o n t e s s o r i   d a n   c a m b r i d g e', 'b e s o k   p e m b a g i a n   r a p o r   s e c a r a   s e r e m p a k   d i   k a b u p a t e n   s e n e n   p e n t i n g n y a   s o s i a l i s a s i   s i s t e m   p e n i l a i a n   k u r i k u l u m   k e p a d a   w a l i   w a l i   m u r i d   a g a r   m e r e k a   m e n g e r t i   p e r k e m b a n g a n   a n a k   a n a k   m e r e k a', 'd e n g a n   p e n a n d a t a n g a n a n   i n i   k e m e n t e r i a n   t e r k a i t   b e r k o m i t m e n   m e n g i m p l e m e n t a s i k a n   m e n y i s i p k a n   a t a u   i n s e r s i   p e n d i d i k a n   a n t i k o r u p s i   p a d a   k u r i k u l u m   d i   i n d o n e s i a   d i   s e t i a p   j e n j a n g   p e n d i d i k a n', 'b u k a n   h a n y a   i n i   b u n g   t a p i   p e r m a s a l a h a n n y a   p e m e r i n t a h a n   t e r l a l u   m e n e k a n   s i s w a   u n t u k   m e m p e l a j a r i   s e h a r i   b e r b a g a i   m a t a   k u l i a h   t i d a k   p a h a m   t i d a k   l u l u s   u b a h   d o n g   k u r i k u l u m n y a', 'h a p u s   a t a u   t i d a k   u j i a n   n a s i o n a l   s e l a m a   i n i   m e n j a d i   b a r o m e t e r   l u l u s   t i d a k n y a   s i s w a   s e k o l a h     k i n i   w a c a n a   p e n g h a p u s a n   u j i a n   n a s i o n a l   s e d a n g   d i k a j i     m e n u r u t   k a m u   u j i a n   n a s i o n a l   s e b a i k n y a   d i h a p u s   a t a u   d i p e r t a h a n k a n   u j i a n   n a s i o n a l   p e n d i d i k a n', 'p e n d i d i k a n   y a n g   b a i k   j i k a   j a n g a n   s e d i h   s a a t   n i l a i   k a m u   p a s p a s a n   t a p i   s e d i h   l a h   k a l a u   n i l a i   b a g u s   y a n g   k a m u   d a p a t   b u k a n   d a r i   k e j u j u r a n   k a m u', 'p e n d i d i k a n   k a r a k t e r   h a r u s   d i u t a m a k a n   n i l a i   b i s a   d i r u b a h   n a m u n   k a r a k t e r   a k a n   s a n g a t   s u l i t   p e n d i d i k a n', 'm e n g a j a r   p e r t a m a   k a l i   s a n g a t   b e r k e s a n   d a n   b a n y a k   s e k a l i   m e n d a p a t k a n   i l m u   d a r i   g u r u   p e m b i m b i n g   r e k a n   r e k a n   w a r g a   l i n g k u n g a n   s d   d a n   j u g a   d a r i   m u r i d - m u r i d   p e n d i d i k a n   p e n d i d i k', 'd u n i a   m e n j a d i   i n d a h   k e t i k a   k i t a   m a u   b e r b a g i   y u k   b e r b a g i   d e n g a n   y a n g   m e m b u t u h k a n   p e n d i d i k a n', 's e l a m a t   d a t a n g   d o n a t u r   t e r i m a k a s i h   a t a s   k e p e d u l i a n   s a h a b a a t   p a d a   p e n d i d i k a n   a n a k   i n d o n e s i a   m a r i   s a h a b a t   b e r s a m a   k i t a   c e g a h   p u t u s   s e k o l a h', 'b a n y a k   p e r m a s a l a h a n   b e s a r   y a n g   m e n y a n g k u t   n i l a i   n i l a i   m e n d a s a r   k e m a n u s i a a n   y a n g   b e l u m   t e r s e l e s a i k a n   b a n g s a   i n i   p e n d i d i k a n', 'p e n d i d i k a n   l a l u   l i n t a s   s e j a k   u s i a   d i n i   p e l o p o r   k e s e l a m a t a n   b e r l a l u l i n t a s   k u n j u n g a n   t k   s a k i n a h   d a n   p a u d   j a n a t i   m a j a l e n g k a', 'p e r m a s a l a h a n   d a l a m   p e m b e l a j a r a n   t i d a k   h a n y a   b i s a   d t a n y a k a n   k e   g u r u ,   b i s a   j u g a   k e p a d a   m u r i d   k u r t i l a s   p e n d i d i k a n', 'd i   i n d o n e s i a   o r a n g   y a n g   b i s a   m e n d a p a t k a n   p e n d i d i k a n   a d a l a h   o r a n g   y a n g   m a m p u   t a p i   i n g a t   k e b e r k a h a n   i l m u   i t u   d i   d a p a t k a n   d e n g a n   k i t a   m e m p u n y a i   h u b u n g a n   b a i k   d e n g a n   a l l a h   d a n   m a h l u k n y a   b u k a n   d e n g a n   k i t a   m a m p u', 's i s w a   d i   i n d o n e s i a   m e n g i k u t i   b i m b e l   m e n a n d a k a n   b a h w a   a d a   r a s a   k e t i d a k   p e r c a y a a n   p a d a   p e n d i d i k a n   d i   s e k o l a h', 'm e n g a p a   p e m i k i r a n   o r a n g   o r a n g   y a n g   a d a   d i   i n d u s t r i   h i b u r a n   i n d o n e s i a   a p a k a h   h a n y a   m e m e n t i n g k a n   u a n g   t a n p a   a d a n y a   p e n d i d i k a n   d a n   e d u k a s i   a t a u k a h   h a n y a   i k u t   i k u t a n   t r e n   y a n g   s e d a n g   n a i k   n a i k n y a   k a l a u   b e g i t u   k e l a k   d i   m a s a   d e p a n   a p a   y g   h a r u s   k i t a   t o n t o n   d a r i   i n d u s t r i   h i b u r a n   i n d o n e s i a', 'd a n   k e m b a l i   k u   b e r h a r a p   s e m o g a   a d a   s e o r a n g   y a n g   m a m p u   m e n g u b a h   d u n i a   p e n d i d i k a n   I n d o n e s i a   m e n j a d i   l e b i h   b a i k   l a g i   d i   j a m a n n y a   s i   b o c a h   s e k o l a h   n a n t i', 'w a j a h   p e n d i d i k a n   i n d o n e s i a   d a r i   s u d u t   l a i n   m a s i h   s a m a   s u r a m n y a   d u l u   d a n   k i n i', 'd a n   m e m a n g   t u j u a n   a k h i r   m e r e k a   a d a l a h   b u k a n   i n g i n   m e m a j u k k a n   p e n d i d i k a n   i n d o n e s i a   t a p i   m e n y i n g k i r k a n   i s l a m   d a r i   n e g e r i   i n i   b e r k e d o k   m e m a j u k k a n   p e n d i d i k a n   u n t u k   m e n y i n g k i r k a n   i s l a m   d a r i   i n d o n e s i a', 'p a h l a w a n k u   t e r l a m b a t   d a t a n g   d i a   d a t a n g   s e t e l a h   a k u   t e l a h   t u m b u h   d e w a s a   t e t a p i   t i d a k   a p a   k a r e n a   t i d a k   a d a   k a t a   t e r l a m b a t   u n t u k   n e g a r a k u   i n d o n e s i a   s e l a m a t   b e r j u a n g   s e m o g a   s u a t u   s a a t   e n g k a u   d i k e n a n g   s e b a g a i   p a h l a w a n   r e v o l u s i   p e n d i d i k a n   d i   i n d o n e s i a', 'b e r s i n a r l a h   g u r u   p a h l a w a n   p e n d i d i k a n   y a n g   b e r p e r a n   p e n t i n g   m e w u j u d k a n   m a s a   d e p a n   b a n g s a   t e t a p l a h   b e r s e m a n g a t   m e n d i d i k   d a n   m e n c e t a k   g e n e r a s i   y a n g   c e r d a s   b e r w a w a s a n   b e r k a r a k t e r   d a n   r e l i g i u s   u n t u k   m e w u j u d k a n   s u m b e r   d a y a   m a n u s i a   i n d o n e s i a   u n g g u l   s e l a m a t   h a r i   g u r u   n a s i o n a l   k e   t a h u n', 'a n g g u n   b a n d u n g   p e m e r i n t a h   k o t a   b a n d u n g   m e n j a d i   b a g i a n   b e s a r   k e m a j u a n   p e n d i d i k a n   d i   i n d o n e s i a', 'm a s a l a h   u t a m a   p e n d i d i k a n   i n d o n e s i a   a d a l a h   g a j i   g u r u   g a j i   n a i k a n   t e r l e b i h   d a h u l u   b a r u   n u n t u t   p r o f e s i o n a l i s m e   g u r u   p n s     j u t a   p e r   b u l a n   h o n o r e r   j u t a   p e r b u l a n   k a l a u   g a j i   s e g i t u   m a s i h   a d a   y a n g   n g e l u h   t e n t a n g   a d m i n i s t r a s i   t e r l a l u', 'd u n i a   p e n d i d i k a n   i n d o n e s i a   a d a l a h   d u n i a   y a n g   l u a r   b i a s a   s u s a h', 'k a r e n a n y a   p e n d i d i k a n   s e r i n g   k a l i   d i s a l a h k a n   u n t u k   b a n y a k   m a s a l a h   b a n g s a   s e m e n t a r a   p e n d i d i k   s e r i n g   m e r a s a   k e s e p i a n   s a a t   b e r u s a h a   k o n s i s t e n   d a l a m   p e r j u a n g a n   s e t i a p   k i t a   d i m i n t a   b e r l a r i   m a r a t o n   b e r s a m a a n   s e l a l u   t e r a s a   m e m b e r a t k a n', 'p e r u b a h a n   p e n d i d i k a n   d i   i n d o n e s i a   h a n y a   a k a n   t e r j a d i   b i l a   k i t a   m a u   m e l a k u k a n   r e f l e k s i   a t a s   a s u m s i   d a n   m e l e p a s k a n   i k a t a n   b e r l e b i h a n   p a d a   m a s a   l a m p a u', 'p e r u b a h a n   p e n d i d i k a n   d i   I n d o n e s i a   h a n y a   a k a n   t e r j a d i   b i l a   k i t a   m a m p u   m e m b e l a   k e p e n t i n g a n   a n a k   d i   s e t i a p   k e b i j a k a n   d a n   m e l i h a t   p e n d i d i k a n   l e b i h   d a r i   s e k a d a r   s e k o l a h', 'b e g i t u   b a n y a k   k e g a g a l a n   p a h a m   y a n g   b i s a   k i t a   a t a s i   d e n g a n   k e g e m a r a n   b e l a j a r   k a r e n a   k i t a   s e m u a   m u r i d   b e g i t u   b a n y a k   p e r a n   y a n g   k i t a   b i s a   a m b i l   d a n   t e l a d a n   y a n g   b i s a   k i t a   l a k u k a n   k a r e n a   k i t a   s e m u a   g u r u', 's e l a m a t   h a r i   g u r u   n a s i o n a l   u n t u k   p a r a   g u r u   y a n g   t e l a h   i k h l a s   m e n g a m b i l   p e r a n   p e n t i n g   d a l a m   p e r u b a h a n   p e n d i d i k a n', 't e r i m a   k a s i h   u n t u k   s e m u a   g u r u   y a n g   t e l a h   s e c a r a   s a d a r   m e m i l i h   d a n   m e n j a l a n i   p r o f e s i   i n i   d e n g a n   p e n u h   d e d i k a s i   t e r u s   s e m a n g a t   d a l a m   m e n g e m b a n g k a n   p e n d i d i k a n   m a n u s i a   i n d o n e s i a', 'g u r u   b a k t i m u   t i a d a   t a r a   k a u   r e l a   m e n g a b d i   d i   s e l u r u h   p e l o s o k   n u s a n t a r a   k a u   b e r j u a n g   a g a r   a n a k   i n d o n e s i a   m e m p e r o l e h   p e n d i d i k a n   s e t a r a   k a r e n a   p e n d i d i k a n   a d a l a h   i n d e k s   k e m a j u a n   s u a t u   n e g a r a', 's e m o g a   b e n a r   b e n a r   p i l i h a n   t e p a t   u n t u k   m e n g u b a h   s i s t e m   p e n d i d i k a n   i n d o n e s i a   m e n u j u   l e b i h   b a i k', 'd a n   n a n t i   c i t i I n d o n e s i a   c i t i b a n k I n d o n e s i a   t i d a k   a k a n   j a l a n   s e n d i r i a n   k o k   k a r e n a   k e r j a   s a m a   d e n g a n   b e b e r a p a   m i t r a   s e k a l i g u s   t e r m a s u k   p r e s t a s i   a n a k   m u d a   i n d o n e s i a   y a n g   m e m a n g   b e r g e r a k   d i   b i d a n g   p e n d i d i k a n', 's e m o g a   d e n g a n   a d a n y a   p r o g r a m   i n i   d a p a t   m e n y e m a n g a t i   p a r a   g u r u   d a n   p e n d i d i k a n   i n d o n e s i a   b i s a   m e n j a d i   I e b i h   b a i k   b r i   a p r e s i s i   g u r u', 'j a n g a n   d e h   k a l o   o r i e n t a s i n y a   k e r j a   k a l o   n g a m b i l   p e n d i d i k a n   j a d i   g u r u   g a j i   k e c i l   t a p i   k a l o   m a u   h i j r a h   s a n g a t   d i s a r a n k a n   u n i v e r s i t a s   p e s a n t r e n   i n d o n e s i a   g i t u', 'k a u   a d a l a h   p a h l a w a n   t a n p a   j a s a   k a u   s e l a l u   s e m a n g a t   d a n   t a k   p e r n a h   b e r p u t u s   a s a   b a k t i m u   b a g i   p e n d i d i k a n   s u n g g u h   l u a r   b i a s a   k a u   s u n g g u h   b e r j a s a   b a g i   n u s a   d a n   b a n g s a   s e l a m a t   h a r i   g u r u   n a s i o n a l', 'h a s i l   t e r t i n g g i   d a r i   p e n d i d i k a n   a d a l a h   t o l e r a n s i   k a r e n a   s e m a k i n   s e o r a n g   p a h a m   p e r b e d a a n   d i a   a k a n   p a h a m   m a k n a   k e b e r s a m a a n   k a l a u   a n d a   a n d a   s a l i n g   m e n g e j e k   a n t a r   u m a t   b e r a g a m a   m u n g k i n   a n d a   p e n d i d i k a n   m o r a l n y a   k u r a n g', 'p e r i n g a t i   h a r i   g u r u   p e n g a j a r   d i   s m p n   1   c i d a h u   g a n t i k a n   t u g a s   s i s w a', 'k e m a r i n   h a r i   g u r u   s i s w a   l i b u r   s e k a r a n g   h a r i   d o s e n   m a h a s i s w a   l i b u r', 'r i b u a n   g u r u   d a n   s i s w a   d i   j e p a r a   p e r i n g a t i   h a r i   g u r u', 's e m a n g a t   g u r u   d i f a b e l   m e n g a j a r   s i s w a   s l b   g u n a k a n   s k a t e b o a r d', 'k a l a u   d i   s e k o l a h k u   g u r u   p e n j a s   y a n g   d i g o d a i n   s i s w a   y a n g   s u k a   m e n g g o d a   g u r u   b k', 'y a n g   k e t i g a   b a p a k   w i n a r d i   a l m a r h u m   b e l i a u   g u r u   m a t e m a t i k a   y a n g   b e r h a s i l   b i k i n   s i s w a   y a n g   b e n c i   m a t e m a t i k a   j a d i   s u k a   s a m a   m a t e m a t i k a   l u c u   r a m a h   d a n   y a n g   p a s t i   s a b a r   a p a l a g i   m e n g h a d a p i   m u r i d   y a n g   d a y a   i n g a t n y a   r e n d a h   m a c a m   a k u   i n i   r u m u s   p a l i n g   d i i n g a t   p a k   r t', 'd i m a n a   m a n a   s a m a   s a j a   y a   b i a s a n y a   g u r u   o l a h r a g a   y a n g   p a l i n g   g e n i t   g o d a i n   m u r i d   p e r e m p u a n   y a n g   c a n t i k   t i d a k   t a h u   m a l u   p u l a   d i   d e p a n   s i s w a   y a n g   l a i n', 'y a n g   k e d u a   b a p a k   s u s   h a n d o k o   a l m a r h u m   b e l i a u   g u r u   s d   y a n g   p a l i n g   r a m a h   p a d a   s i s w a   d i   k e l a s   b e l i a u   a k u   p e r t a m a   k a l i n y a   m e n d a p a t   n i l a i   b u l a t   p a d a   p e l a j a r a n   p p k n   c u k u p   m e m b a n g g a k a n   k a r e n a   s i s a n y a   n i l a i k u   h a n y a   b e r k u t a t   d i   a n g k a   d o r e m i', 'p a g i   p a g i   m a s i h   d a l a m   m o m e n   m e m p e r i n g a t i   h a r i   g u r u   t i b a   t i b a   t e r i n g a t   b a p a k   i b u   g u r u   y a n g   a k h i r n y a   b i s a   m e r u b a h   c a r a   p a n d a n g k u   p a d a   d i r i   s e n d i r i   m e r e k a   p e g i a t   s i s w a   k a l a u   k e b a n y a k a n   g u r u   m e n g a n g g a p   a k u   s i s w a   n a k a l   k u r a n g   a j a r   b o d o h   s u s a h   d i a t u r   m e r e k a   i n i   b e r b e d a', 'c o n t o h n y a   s a j a   p e n i l a i a n   y a n g   t i d a k   s e s u a i   d e n g a n   k o m p e t e n s i   s i s w a   p e n i l a i a n   o b j e k t i f   m a s i h   b a n y a k   s e k a l i   g u r u   g u r u   y a n g   m e n g a n d a l k a n   p e n i l a i a n   s u b j e k t i f n y a   j a d i   b a n y a k   s i s w a   y a n g   h a r u s n y a   b i s a   m e m i l i k i   s e g u d a n g   p r e s t a s i   t e t a p i   h a r u s   t e r t a h a n   o l e h   s e s u a t u   y a n g   d i r e k a y a s a', 's e w a k t u   s m a   a d a   g u r u   y a n g   m a s u k   k a t e g o r i   s e r a m   y a n g   s a t u   b a p a k   g u r u   y a n g   m e n g a j a r   p p k n   s a t u   l a g i   a l m a r h u m a h   i b u   g u r u   y a n g   m e n g a j a r   a k u n t a n s i   b a p a k   g u r u   s u k a n y a   m e m u k u l   t a n g a n   s i s w a   p a k a i   p e n g g a r i s   y a n g   i b u   s u k a n y a   m e n a r i k   t a l i   b h   s i s w i   y a n g   t i d a k   p a k a i   k a u s   d a l a m   d a n   g u n t i n g   r a m b u t   s i s w a   y a n g   g o n d r o n g', 'h a k   s e t i a p   s i s w a   u n t u k   m e n d a p a t k a n   g u r u   t e r b a i k   b a g i   m e r e k a   y a n g   m e n j a d i   k e w a j i b a n   b a g i   n e g a r a   u n t u k   m e m e n u h i n y a   s a y a   b e r h a r a p   d e n g a n   p e r e k r u t a n   c p n s   y a n g   t r a n s p a r a n   d a n   b e r m u t u   a k a n   m e n g h a s i l k a n   g u r u   g u r u   h e b a t   d a n   m e r a t a   d i   s e m u a   s e k o l a h', 'b i c a r a   g u r u   a d a l a h   b i c a r a   m e n d i d i k   k i t a   d a l a m   d i l e m a   n e g a r a   y a n g   p e n d i d i k a n n y a   b a g u s   s i s w a   d i   k e l a s   h a n y a   o r a n g   s a r a n a   p r a s a r a n a   l e n g k a p   d a n   g a j i   g u r u   t e r m a s u k   d a l a m   b e s a r   g a j i   p r o f e s i   t e t a p i   k i t a   k a n   t i d a k   b i s a   d i s a m a i k a n   d e n g a n   n e g a r a   i t u   b a n y a k   k e n d a l a n y a', 'p e n d i d i k a n   a d a l a h   k u n c i   s u k s e s   d a l a m   k e h i d u p a n   d a n   g u r u   m e m b u a t   d a m p a k   y a n g   l a n g g e n g   d a l a m   k e h i d u p a n   s i s w a   m e r e k a', 'b a g a i   p e l i t a   p a d a   k e g e l a p a n   g u r u   h a r u s   m e n u n t u n   s i s w a   k e m b a l i   k e   j a l a n   y a n g   b e n a r   t a n p a   p e r l u   m e l a b e l i   s i s w a   d e n g a n   k e g a g a l a n', 's e m o g a   a d a   h a r a p a n   b a r u   p a d a   p e n d i d i k a n   d i   i n d o n e s i a   t i d a k   h a n y a   k e p a d a   s i s w a   t e r k h u s u s   p a d a   k e s e j a h t e r a a n   p a r a   g u r u', 'm e n c o n t e k   s u d a h   m e n j a d i   t r a d i s i   s i s w a   d i   s e k o l a h', 'p e m e r i n t a h   s e h a r u s n y a   b e r a n i   m e n g u n t u n g k a n   p r o f e s i   g u r u   m e n j a d i   p r o f e s i   y a n g   b e r g e n g s i   s e h i n g g a   s i s w a   s i s w i   y a n g   b e r p r e s t a s i   d a n   b e r a s a l   d a r i   s e k o l a h   f a v o r i t   b e r a n i   u n t u k   m e n g a m b i l   p r o f e s i   g u r u   s e b a g a i   p e n d i d i k a n   l a n j u t a n n y a', 'p e n d i d i k a n   y a n g   m e n g k e r d i l k a n   s i s w a', 'b e b e r a p a   s i s w a   d i   s o l o   m e n g u n g k a p k a n   k e s a n   t e n t a n g   g u r u   g u r u n y a', 't e t a p i   b a n y a k   j u g a   s i s w a   y a n g   t i d a k   s u k a   s u a t u   p e l a j a r a n   t i d a k   h a n y a   k i m i a   b u k a n   k a r e n a   p e l a j a r a n n y a   s u l i t   t e t a p i   m e m a n g   k a r e n a   g u r u   m a t a   p e l a j a r a n n y a   a g a k   g i m a n a   o l e h   k a r e n a   i t u   s i s w a n y a   j u g a   j a d i   m a l a s   d u l u a n   m e n g h a d a p i   p e l a j a r a n n y a   m e n u r u t   k a m u   c a r a   m e n g a t a s i n y a   b a g a i m a n a', 'u l a n g a n   m e n d a d a k   s e r i n g   m e m b u a t   s i s w a   m e n d a d a k   s a k i t   p e r u t', 's e l a m a t   h a r i   g u r u   m b a   r u r   j a d i   g u r u   y a n g   b e r b a k t i   t a n p a   p a n d a n g   g a j i   g u r u   y a n g   s e l a l u   l a p a n g   d a d a   s a m a   s i s w a   g u r u   d e n g a n   h a t i   s a m a   s i s w i   j a d i   g u r u   y a n g   b i j a k s a n a   s a m a   s e m u a', 's e l a m a t   h a r i   g u r u   j a d i   i n g a t   k e t i k a   a d i k   k e l a s   s m a   l a g i   s t u d y   t o u r   k e   u n i v e r s i t a s   g a j a h   m a d a   a l u m n i   s m a   i k u t   m e n y a m b u t   s e m u a   r o m b o n g a n   g u r u   d a n   s i s w a   s i s w i   b u   t u t i   g u r u   b i o l o g i   y a n g   t e r k e n a l   s e r a m   l a n g s u n g   t e r k e j u t   d a n   p e l u k   k a n g e n   s a m a   s a y a   s a y a   l e b i h   k a g e t   b u   t e r i m a   k a s i h   b u   t u t i', 't e t a p   s e m a n g a t   m e n g h a d a p i   s i s w a   y a n g   i z i n   k e   t o i l e t   t e t a p i   b e l o k   k e   k a n t i n', 's e l a m a t   h a r i   g u r u   d a r i   b u d a k   k o r p o r a t   y a n g   p e r n a h   b e k e r j a   d i   i n s t a n s i   p e n d i d i k a n   s e l a m a   h a m p i r   t a h u n   d a n   j u g a   m e n g a j a r   s i s w a   s e l a m a   b u l a n  ', 's e d a n g k a n   r e f l e k s i   d i r i   d a r i   a s p e k   s i s w a   k i t a   b e r k a c a   a p a k a h   s u d a h   b a i k   b e r s i k a p   b e r p r i l a k u   b e r t u t u r   k a t a   p a d a   g u r u   a p a l a g i   d i   j a m a n   s e k a r a n g   i n i   s e l a i n   i t u   a p a k a h   k i t a   s u d a h   m a k s i m a l   m e n g g a l i   p o t e n s i   d i r i   b e r d a s a r k a n   a r a h a n   g u r u', 'i n g a t   s e k a l i   s a a t   m a s a   s m k   p e r n a h   b o l o s   p e l a j a r a n   h a m p i r   k e l a s   k e   r u m a h   t e m a n   s a y a   m a i n   k a r t u   j u j u r   k e l a s   i s i n y a   s i s w a   k a l a u   t i d a k   s a l a h   y a n g   m a s u k   h a n y a   o r a n g   s e l e b i h n y a   p e r g i   k e   r u m a h   t e m a n   s a y a   m a i n   k a r t u   h e b a t   s e k a l i', 'm a k n a   h a r i   g u r u   u n t u k k u   s e h a r u s n y a   s e b a g a i   w a k t u   y a n g   t e p a t   u n t u k   m e r e f l e k s i k a n   d i r i   b a i k   d i r i   s e o r a n g   g u r u   m a u p u n   d i r i   s e o r a n g   s i s w a   k a r e n a   m a s i n g   m a s i n g   i n d i v i d u   p u n y a   p e r a n a n a n   p e n t i n g   d a l a m   k e s u k s e s a n   b e l a j a r   m e n g a j a r   s e h i n g g a   h a s i l n y a   a d a l a h   s u m b e r   d a y a   m a n u s i a   y a n g   u n g g u l', 'j a n g a n   m e m b a t a s i   i n o v a s i   h a n y a   k a r e n a   b a t a s a n   w a k t u   b e r i   k e s e m p a t a n   g u r u   d a n   s i s w a   u n t u k   m e n g g a l i   i l m u   l e b i h   d a l a m', 'u p a c a r a   p e r i n g a t a n   h a r i   g u r u   d a n   h u t   p e r s a t u a n   g u r u   r e p u b l i k   i n d o n e i s a   k e   d i h a d i r i   r a t u s a n   s i s w a', 'h a r i   g u r u   n a s i o n a l   m a n t a n   g e d u n g   t a m a n   s i s w a   d i r e s m i k a n   j a d i   m u s e u m   p e n d i d i k a n', 'g u r u k u   k a u   a d a l a h   m a l a i k a t   t a n p a   s a y a p   y a n g   s i g a p   d a l a m   s e n y a p   m e m p e r j u a n g k a n   p r e s t a s i   a n a k   m a n u s i a   k a u   b e r j u a n g   m e m b e n t u k   i n t e l e k t u a l   d a n   m o r a l   a n a k   n a m u n   s e r i n g   k a l i   d a l a m   p e r j u a n g a n m u   m e n d a p a t   p e r t e n t a n g a n   d a r i   o k n u m   o r a n g   t u a   s i s w a', 'p e s a n   p e n t i n g   c u c u   m b a h   m o e n   u n t u k   n a d i e m   m a k a r i m   d i   h a r i   g u r u', 'k e s e j a h t e r a a n   g u r u   b e l u m   m e n j a d i   p e r h a t i a n   u t a m a   n a d i e m   m a k a r i m', 't e r s e n t u h   s e k a l i   m e n d e n g a r   p i d a t o n y a   n a d i e m   m a k a r i m   u n t u k   g u r u   g u r u   i n d o n e s i a   a p a l a g i   i n g e t   g u r u   g u r u   s a y a   d u l u   y a n g   s a n g a t   t e r k a i t   s a m a   p e s a n   p i d a t o n y a', 't e k s   p i d a t o   n a d i e m   m a k a r i m   v i r a l   p e m e r h a t i   p e n d i d i k a n   i n i   a r t i n y a   p i l i h a n   j o k o w i   t e p a t  ', 'p e r u b a h a n   i t u   s u l i t   d a n   p e n u h   k e t i d a k n y a m a n a n   n a d i e m   m a k a r i m']\n"
          ],
          "name": "stdout"
        }
      ]
    },
    {
      "cell_type": "code",
      "metadata": {
        "id": "vk7n4Ca47SxZ",
        "colab_type": "code",
        "outputId": "276711ab-1bb5-43bc-8f14-c77790001c80",
        "colab": {
          "base_uri": "https://localhost:8080/",
          "height": 55
        }
      },
      "source": [
        "dataTest_list = []\n",
        "for data in dataTest:\n",
        "    dataTest_list.append(' '.join(data))\n",
        "print(dataTest_list)"
      ],
      "execution_count": 0,
      "outputs": [
        {
          "output_type": "stream",
          "text": [
            "['h a r i   g u r u   a d a l a h   h a r i   u n t u k   m e n u n j u k k a n   p e n g h a r g a a n   t e r h a d a p   g u r u   m e n t e r i   p e n d i d i k a n   d a n   b u d a y a   n a d i e m   m a k a r i m   m e n g u n g k a p k a n   l e w a t   p i d a t o n y a   p a d a   u p a c a r a   b e n d e r a   p e r i n g a t a n   h a r i   g u r u   n a s i o n a l   t a h u n   b a h w a   g u r u   m e m p u n y a i   t u g a s   y a n g   t e r m u l i a   s e k a l i g u s   t e r s u l i t   s e l a m a t   h a r i   g u r u   n a s i o n a l', 't a n g g a p i   p i d a t o   m e n t e r i   p e n d i d i k a n   d a n   b u d a y a   n a d i e m   m a k a r i m   r i d w a n   k a m i l   p e m e r i n t a h   p r o v i n s i   d a n   d i n a s   p e n d i d i k a n   j a w a   b a r a t   a k a n   t e r j e m a h k a n', 's e l a m a t   h a r i   g u r u   t u g a s   a n d a   a d a l a h   y a n g   t e r m u l i a   s e k a l i g u s   t e r s u l i t   n a d i e m   m a k a r i m', 'i s i   p i d a t o   h a r i   g u r u   n a d i e m   m a k a r i m   a j a k   g u r u   l a k u k a n   p e r u b a h a n', 'h a r i   g u r u   n a s i o n a l   n a d i e m   m a k a r i m   a j a k   g u r u   l a k u k a n   p e r u b a h a n   k e c i l   m u l a i   d a r i   k e l a s', 'm e n o n t o n   p i d a t o   p a k   n a d i e m   y a n g   l e w a t   v i d e o   s a y a   m e n j a d i   o p t i m i s   d a n   s e m a n g a t   p i d a t o   y a n g   m e n g a n d u n g   h a r a p a n   d a n   k e b a n g k i t a n   j i k a   b e r h a s i l   t e l a h   l a h i r   c a l o n   p e m i m p i n   m a s a   d e p a n   i n d o n e s i a   s e m o g a   p a k   m e n t e r i   s e l a l u   s e h a t   d a n   d i b e r k a t i   t u h a n   a m i n', 's e m o g a   p e n d i d i k a n   d i   i n d o n e s i a   m a k i n   b e r k e m b a n g   u n t u k   g e n e r a s i   m i l e n i a l   y a n g   m a k i n   l u a r b i a s a', 's e l a m a t   h a r i   g u r u   m a r i   k i t a   s u k s e s k a n   c i t a   c i t a   p e n d i d i k a n   n a s i o n a l   i n d o n e s i a', 't i d a k   p e r l u   s e o r a n g   m e n t e r i   p e n d i d i k a n   i t u   m a n t a n   r e k t o r   t i d a k   h a r u s   j u g a   m e n t e r i   p e n d i d i k a n   b e r g e l a r   p r o f e s o r   p a k   n a d i e m   i n i   b u k a n   l u l u s a n   p e n d i d i k a n   t a p i   r a s a n y a   m e n g e r t i   s e k a l i   k e a d a a n   p e n d i d i k a n   i n d o n e s i a   k h u s u s n y a   k e a d a a n   t e n a g a   p e n d i d i k   d i   i n d o n e s i a   i n i', 'p e r l u   d i k e t a h u i   n i h   b a h w a s a n n y a   p e n g a w a s a n   p e m a n f a a t a n   d a n a   b a n t u a n   o p e r a s i o n a l   s e k o l a h   h a r u s   l e b i h   d i p e r k e t a t   l a g i   a g a r   t e p a t   s e s u a i   d e n g a n   p e r a t u r a n   y a n g   b e r l a k u   d a l a m   m e n o p a n g   m u t u   p e n d i d i k a n   d i   i n d o n e s i a', 'k e m a r i n   s e m p a t   h e b o h   p i d a t o n y a   m e n d i k b u d   p a k   n a d i e m   m a k a r i m   s a n a   i n g i n   k a s i h   t i p s   s u k s e s   l a n g s u n g   d a r i   m e n d i k b u d   p a k   n a d i e m', 'm e n d i k b u d   n a d i e m   m a k a r i m   i n g i n   p a n g k a s   w a k t u   p e n d i d i k a n   s d   s m p   s m a   b a g a i m a n a k a h   f a k t a n y a', 'k a d e s   t e r p e n c i l   d i   k a b u p a t e n   k u n i n g a n   m e m i n t a   n a d i e m   m a k a r i m   b a n g u n   s m p   s a t a p', 'p e s a n n y a   u n t u k   m e n t e r i   p e n d i d i k a n   y a n g   b a r u   k e m b a l i k a n   l a g i   k u r i k u l u m   p m p   p e n d i d i k a n   m o r a l   p a n c a s i l a   u n t u k   m e m p e r k u a t   m o r a l   a n a k   b a n g s a   s e b a g a i   p e n e r u s   t o n g g a k   p e m b a n g u n a n   n e g a r a   n a d i e m   m a k a r i m', 's u r a t   c i n t a   u n t u k   b a p a k   b a p a k   p e n d i d i k a n   a d a l a h   h a k   s e m u a   b a n g s a   b u k a n   d a n   p e n d i d i k a n   a d a l a h   u n t u k   m e m a n u s i a k a n   m a n u s i a   b u k a n', 'k e n a p a   s a a t   p a k   n a d i e m   m e n j a d i   m e n d i k b u d   a k u   j a d i   i n g i n   m e n g a j a r   l a g i', 'd a n   p i d a t o   p a k   n a d i e m   i n i   s a n g a t   m e w a k i l i   k e c e m a s a n   d a n   k e t a k u t a n k u   s e l a m a   i n i   t i d a k   d a p a t   b e r k a t a   i n i   h a n y a   s o a l   k e c e m a s a n k u   y a n g   s e k o l a h   t a h u n   d a l a m   f o k u s   p e n d i d i k a n   t e t a p i   m e r a s a   b e l u m   m a m p u   u n t u k   m e n g i m p l e m e n t a s i k a n   d i   l a p a n g a n', 'k e s a d a r a n   r a k y a t   u n t u k   p e n d i d i k a n   s u d a h   t i n g g i   n a m u n   p e r l i n d u n g a n   n e g a r a   s a n g a t   m i n i m a l   p a d a   k o m e r s i a l i s a s i   p e n d i d i d i k a n   a k a n   k e h a d i r a n   o k n u m   k e j a h a t a n   d i   d a l a m n y a', 'f a d l i   z o n   k r i t i k   p i d a t o   n a d i e m   y a n g   t a k   a n g k a t   i s u   k e s e j a h t e r a a n   g u r u', 'p i d a t o   n a d i e m   s e s u a i   p r e d i k s i   a k a n   d a p a t   b a n y a k   t e p u k   t a n g a n   d a r i   p e s e r t a   u p a c a r a   m o m e n   l a n g k a   d i   t e n g a h   s a m b u t a n   u p a c a r a   a d a   a n t u s i a s m e', 's e l a m a t   h a r i   g u r u   n a s i o n a l   j o k o w i   n a d i e m   m a k a r i m   s e m o g a   g u r u   i n d o n e s i a   s e m a k i n   s e j a h t e r a   d a n   k u a l i t a s   p e n d i d i k a n n y a   l e b i h   m a j u  ', 'm e n u r u t   d i a   k e m u n c u l a n   g u r u   p e n g g e r a k   i n i   h a r u s   d i m u l a i   d e n g a n   k e s a d a r a n   m a s i n g   m a s i n g   s o a l   p e r a n   g u r u   u n t u k   s e k o l a h   d a n   l i n g k u n g a n n y a   s e l a n j u t n y a   n a d i e m   m e n u t u r k a n   k e m e n d i k b u d   t e n t u n y a   a k a n   m e m b a n t u   p a r a   g u r u   i n i   u n t u k   m e n y a d a r i   p e r a n n y a', 't i d a k   p e r l u   s e o r a n g   m e n t e r i   p e n d i d i k a n   i t u   m a n t a n   r e k t o r   t i d a k   h a r u s   j u g a   m e n t e r i   p e n d i d i k a n   b e r g e l a r   p r o f e s o r   p a k   n a d i e m   i n i   b u k a n   l u l u s a n   p e n d i d i k a n   t e t a p i   r a s a n y a   m e n g e r t i   s e k a l i   k e a d a a n   p e n d i d i k a n   i n d o n e s i a   k h u s u s n y a   k e a d a a n   t e n a g a   p e n d i d i k   d i   i n d o n e s i a   i n i', 'p e r u b a h a n   a d a l a h   h a l   y a n g   s u l i t   d a n   p e n u h   k e t i d a k n y a m a n a n   m e n g u t i p   d a r i   i s i   p i d a t o   h a r i   g u r u   n a d i e m   a n w a r   m a k a r i m   b e n a r   b e n a r   b e n a r', 's e l a m a t   h a r i   g u r u   n a s i o n a l   s e m o g a   k e h i d u p a n   g u r u   j a u h   l e b i h   b a i k   d a n   s e j a h t e r a   t e r u t a m a   y a n g   m a s i h   b e r s t a t u s   h o n o r e r   d a n   s e m o g a   p i d a t o   p a k   n a d i e m   y a n g   s e d a n g   v i r a l   m e n j a d i k a n   a k s i   b a g i n y a   d a l a m   m e n j a l a n k a n   k e b i j a k a n   k e   d e p a n n y a', 'y a n g   m e m b u a t   h a t i   s a k i t   a d a l a h   p i d a t o   a b a n g   n a d i e m   i t u   y a n g   i n i   a n d a   i n g i n   s e t i a p   m u r i d   t e r i n s p i r a s i   t e t a p i   a n d a   t i d a k   d i b e r i   k e p e r c a y a a n   u n t u k   b e r i n o v a s i   d a n   m e m a n g   b e n a r   b a n g   s e t i a p   s a y a   b e r i n o v a s i   t i d a k', 's u r a t   c i n t a   u n t u k   k e m e n d i k b u d   b a p a k   n a d i e m   m a k a r i m   b a p a k   p e n d i d i k a n   a d a l a h   h a k   s e m u a   b a n g s a   b u k a n   d a n   p e n d i d i k a n   a d a l a h   u n t u k   m e m a n u s i a k a n   m a n u s i a   b u k a n', 's e l a m a t   h a r i   g u r u   n a s i o n a l   n o v e m b e r   s e m o g a   g u r u   g u r u   s e n a n t i a s a   s e b a g a i   o r a n g   t e r h o r m a t   d a n   m e n j a d i   g u r u   g u r u   t e r b a i k   y a n g   d a t a n g   k e p a d a   k i t a   d e n g a n   i l m u   i l m u   t e r b a i k', 'y a   a l l a h   p a n j a n g k a n   u s i a   g u r u   k a m i   b e r i l a h   m e r e k a   s e m u a   k e k u a t a n   d a n   k e s e h a t a n   y a n g   s e m p u r n a   j a g a l a h   m e r e k a   b a h a g i a k a n   k e h i d u p a n   m e r e k a   d i   d u n i a   m a u p u n   a k h i r a t   a a m i i n   s e l a m a t   h a r i   g u r u', 's e l a m a t   h a r i   g u r u   h a m p i r   t a h u n   l e b i h   s u d a h   m e n g a b d i   j a d i   g u r u   t e r i m a   k a s i h   u n t u k   s e m u a n y a   d a n   t e t a p l a h   m e n e b a r   k e b a i k a n   d i m a n a   p u n   b e r a d a', 's e l a m a t   h a r i   g u r u   n a s i o n a l   s e m o g a   m a s i h   b a n y a k   s i n a r   h a r a p a n   b a g i   p e n d i d i k   p e n d i d i k   d i   n e g a r a   i n i   u n t u k   s e t i d a k n y a   k e s e j a h t e r a a n   h i d u p   k e d e p a n   l e b i h   d i p e r h a t i k a n   d e d i k a s i n y a   d i a p r e s i a s i   l e b i h   o l e h   m a s y a r a k a t   y a n g   l e b i h   l u a s', 's e l a m a t   h a r i   g u r u   k e c u a l i   g u r u   p k n   y a n g   g e n i t   s a m a   g u r u   p e d o   y a n g   d u l u   m e n g g o d a   a k u   w a k t u   s d', 's e b u a h   p e n g i n g a t   b a h w a s a n y a   a d a   s e s e o r a n g   y a n g   s e m a k i n   d e k a t   d e n g a n   m i m p i   m i m p i n y a   s a t u   h a l   y a n g   m e l a t a r   b e l a k a n g i   i a   m u n c u l   d a r i   s o s o k   s e o r a n g   g u r u   t a n p a   u c a p   t a n p a   t i n g k a h   t a n p a   p e r i n t a h   k e l a k   s a y a   y a n g   a k a n   m e n e m u i n y a   n a n t i   s e l a m a t   h a r i   g u r u', 's e l a m a t   h a r i   g u r u   u n t u k   s e m u a   p e j u a n g   b a n g s a   y a n g   t e r k a d a n g   t e r l u p a k a n   j a s a n y a', 'b u a t   a p a   k a l a u   m a s i h   m e r a y a k a n   h a r i   g u r u   k a l a u   m a s i h   a d a   y a n g   h o n o r e r', 's e l a m a t   h a r i   g u r u   b u a t   g u r u   g u r u k u   t e r c i n t a   s e m o g a   p a n j a n g   u m u r   s e h a t   s e l a l u   r e j e k i n y a   l a n c a r   t e r u t a m a   s a m a   g u r u   y a n g   c e r i t a   d a r i   j a m   p e l a j a r a n   a w a l   s a m p a i   j a m   p e l a j a r a n   s e l e s a i   g u r u k u   s a y a n g', 's e l a m a t   h a r i   g u r u   n a s i o n a l   p a h l a w a n   t a n p a   t a n d a   j a s a', 'm o d e l   a k u   s e b a g a i   g u r u   s e k a r a n g   d a r i   p a k   s e n e n   d a n   b u   m e n a   a k u   m e n c o b a   b e r s a b a r   u n t u k   m e n g a j a r   a n a k   a n a k   d a n   m e n j a d i   b i j a k s a n a   s a a t   m e n j a d i   w a l i   k e l a s   t e r m a k a s i h   y a n g   p e r n a h   m e n j a d i   g u r u   a k u   d i k e h i d u p a n   i n i   k h u s u s n y a   m e r e k a   s e l a m a t   h a r i   g u r u', 's e l a m a t   h a r i   g u r u   b u a t   i b u k u   y a n g   s u d a h   m e n g a b d i   j a d i   g u r u   d a r i   s e b e l u m   n i k a h   d i m u l a i   d i   j a k a r t a   t e r u s   k a r e n a   n i k a h   j a d i   p i n d a h   k e   b a n d u n g   t e t e p   j a d i   g u r u   T K   s a m p a i   s e k a r a n g   m u n g k i n   l e b i h   d a r i   t a h u n', 's e l a m a t   h a r i   g u r u   p e p a t a h   m e n g a t a k a n   g u r u   t e r b a i k   a d a l a h   g u r u   t e r b a i k', 'c e r i t a   h a r i   g u r u   t a d i   w a k t u   k e l a s   s e l e s a i   b u   d o s e n n y a   m a u   p a m i t   l a l u   s p o n t a n   a d a   y a n g   b i l a n g   s e l a m a t   h a r i   g u r u   b u   t i b a   t i b a   s a j a   m e n y a n y i   l a g u   i n i   i b u n y a   t e r l i h a t   s e n a n g', 's e d i h   y a   d i u c a p k a n   s e l a m a t   h a r i   g u r u   s a m a   m u r i d k u   w a k t u   m e n g a j a r   d i   s m k   t a h u n   l a l u', 'm e n u r u t   s a y a   m e n j a d i   g u r u   y a n g   b e r d e d i k a s i   s e u t u h n y a   u n t u k   p e n d i d i k a n   m e r u p a k a n   b e n t u k   n y a t a   d a r i   e m p a t i   n a s i o n a l i s m e   d a n   p e l a y a n a n   s e l a m a t   h a r i   g u r u   s u d a h   m e n j a d i   k e w a j i b a n   o r a n g   t e r d i d i k   u n t u k   m e n d i d i k', 's e l a m a t   h a r i   g u r u   j a d i   k a n g e n   m a s a   m a s a   S M A   o h   i y a   y a n g   b u a t   s p a n d u k   s e b e s a r   g i t u   s a y a   s a m a', 's e l a m a t   h a r i   g u r u   d i m a n a   a n a k   g u r u   p e r n a h   d i p a c a r i n', 's e l a m a t   h a r i   g u r u   t e r u t a m a   b a g i   g u r u k u   y a n g   t i a p   p e r t e m u a n   m a s u k   s e t e l a h   a b s e n   d i b u b a r k a n', 's e l a m a t   h a r i   g u r u   u n t u k   a k u   s o a l n y a   a k u   g a k   a d a   y a n g   b e r i   s e l a m a t', 's e l a m a t   h a r i   g u r u   k e c u a l i   g u r u   p e n j a s   y a n g   o l a h r a g a   h a n y a   a b s e n   s a j a', 'k e t u a   k o m i s i   x   d p r   r i   s y a i f u l   h u d a   b e r h a r a p   p e r i n g a t a n   h a r i   g u r u   m e n j a d i   m o m e n   p e r b a i k a n   p e n g e l o l a a n   m a n a j e m e n   p e n d i d i k a n   d i   i n d o n e s i a', 'b e r h u b u n g   h a r i   g u r u   a d a   s a t u   n a s i h a t   y a n g   s e l a l u   d i p e g a n g   n a s i h a t n y a   a d a l a h   j a n g a n   p a k s a   m a n u s i a   u n t u k   b i s a   s e m u a   h a l   t a p i   b e r i k a n   s e m u a   h a l   u n t u k   j a d i   p i l i h a n   y a n g   m e r a s a   m u a k   d i j e j a l i   s e m u a   h a l   t a d i   a d a l a h   m e r e k a   y a n g   p u t u s   a s a   d e n g a n   d i r i n y a   s e n d i r i', 'n o v e m b e r   s e l a m a t   h a r i   g u r u   n a s i o n a l   t e r i m a   k a s i h   b a p a k   d a n   i b u   g u r u   a t a s   j a s a   j a s a   y a n g   t e l a h   d i b e r i k a n   s e l a m a   i n i', 'm o m e n t u m   h a r i   g u r u   n a s i o n a l   j a d i l a h   g u r u   i d o l a   b a g i   s i s w a', 's o m b o n g   s e k a l i   m e n g u c a p k a n   s e l a m a t   h a r i   g u r u   t e t a p i   k e t e m u   g u r u   d i j a l a n   l a n g s u n g   p a n i k   m e n g h i n d a r   p u r a   p u r a   t i d a k   k e n a l   p u r a   p u r a   m e n i n g g a l', 'd a r i   s e k i a n   p a p a r a n   s o a l   r i w a y a t   p e n d i d i k a n   s a y a   i n t i n y a   s e m o g a   d i   h a r i   g u r u   i n i   k u a l i t a s   g u r u   k i a n   m e m b a i k   s e r t a   k e s e j a h t e r a a n   g u r u   p u n   l e b i h   m e n i n g k a t   s e r t a   m e n d a p a t k a n   p e r h a t i a n   l e b i h   d a r i   p e m e r i n t a h   s e m o g a   k u a l i t a s   p e n d i d i k a n   d i   n e g e r i   i n i   j a u h   l e b i h   m e l e s a t   d a r i   s e b e l u m n y a', 'b a h w a   h a r i   g u r u   m e m p u n y a i   m a k n a   s e b a g a i   b e n t u k   p e n g h o r m a t a n   k e p a d a   g u r u   a t a s   j a s a   j a s a   y a n g   t e l a h   d i l a k u k a n n y a   s e l a m a   i a   m e n g a j a r   b a h w a   p a d a   s e t i a p   t a n g g a l   n o v e m b e r   d i p e r i n g a t i   s e b a g a i   h a r i   u l a n g   t a h u n   g u r u   s a t u   i n d o n e s i a   s e r i u s   i n i', 't i a d a   k a t a   y a n g   p a n t a s   d i s e m a t k a n   u n t u k   m e m b a l a s   j a s a m u   s e l a i n   b e r h a r a p   k e p a d a   t u h a n   u n t u k   m e m b a l a s n y a   t e r i m a   k a s i h   s u d a h   m e n j a d i   s e t i t i k   t e r a n g   d i   d a l a m   g e l a p   s e l a m a t   h a r i   g u r u', 'h a r i   g u r u   n a s i o n a l   p e r u b a h a n   d i m u l a i   d a r i   g u r u', 's e l a m a t   h a r i   g u r u   b a g i   p a r a   g u r u   d a n   c a l o n   g u r u   s e r t a   o r a n g   t u a   y a n g   j a d i   g u r u   p e r t a m a   u n t u k   a n a k n y a', 's e l a m a t   m a l a m   m b a k   s i t a   s e l a m a t   h a r i   g u r u   m b a k   t e n t u   d o s e n   b a h k a n   m e m i l i k i   p e r a n   u n t u k   m e n d i d i k   p a r a   c a l o n   g u r u   n a n t i n y a   s e m a n g a t   s e l a l u   m b a k', 's e l a m a t   h a r i   g u r u   d a n   s e b u a h   c a t a t a n   g u r u   t e r b a i k   a d a l a h   p e n g a l a m a n', 's u d a h   d u a   k a l i   p e r a y a a n   h a r i   g u r u   t e l a h   s a y a   l e w a t i   s e t e l a h   l u l u s   k u l i a h   w a k t u   b e r l a l u   d e n g a n   s a n g a t   c e p a t   r u p a n y a', 's e m o g a   g u r u   i n d o n e s i a   l e b i h   m a j u   a n a k   i n d o n e s i a   u n g g u l   d a l a m   s e g a l a   h a l   k e m e n d i k b u d   g u r u   s e b a g a i   p i l a r   p e r t a m a   d a l a m   p e n d i d i k a n', 'i n i   j u g a   y a n g   s a y a   p i k i r k a n   k e t i k a   m e m b a c a   p i d a t o   m a s   m e n t e r i   k e m d i k b u d   t a n p a   m e n g u r a n g i   r a s a   h o r m a t   s a y a   a t a s   k e i n g i n a n   m a s   m e n t e r i d a l a m   m e n g u b a h   c a r a   p a n d a n g   p e n d i d i k a n   d i   i n d o n e s i a   a d a   b a n y a k   s e k a l i   t a n t a n g a n   y a n g   h a r u s   d i b e r e s k a n   t e r u t a m a   b i r o k r a s i   d i   l e v e l   b a w a h', 'p a k   m e n t e r i   n a d i e m   m a k a r i m   k e m e n d i k b u d   k a t a   b e r s a h a j a   m o t i v a t o r   g u r u   s e   i n d o n e s i a   b i l a   k i t a   m e m u l a i   d e n g a n   p e n d i d i k a n   a n a k   b a n g s a   b e r k u a l i t a s   b e r d a y a g u n a   m e n j a d i   p i l a r   b a n g s a   p e r b a i k i l a h   h a r g a i l a h   n a s i b   k e h i d u p a n   p a r a   g u r u   y a n g   l a y a k   m a a f   t i d a k   h a n y a   s e b a t a s   k a t a   k a t a', 'k e m e n d i k b u d   a k a n   m e l a k u k a n   i n o v a s i   d a n   t e r o b o s a n   y a n g   d i p e r l u k a n   u n t u k   m e m p e r c e p a t   p r o s e s   d a n   m e l a k u k a n   l o m p a t a n   d i   b i d a n g   p e n d i d i k a n   s a l a h   s a t u   y a n g   s e d a n g   d i k a j i   k e m e n d i k b u d   a d a l a h   p e m b e n a h a n   s i s t e m   a s e s m e n', 'm e n a n g g a p i   h a s i l   s t u d i   t e r s e b u t   m e n d i k b u d   n a d i e m   A n w a r   m a k a r i m   m e n y a m p a i k a n   p e n i l a i a n   y a n g   d i l a k u k a n   p i s a   m e r u p a k a n   m a s u k a n   b e r h a r g a   u n t u k   m e n g e v a l u a s i   d a n   m e m b e n a h i   s i s t e m   p e n d i d i k a n   d i   i n d o n e s i a', 'k e m e n d i k b u d   t e l a h   m e n g i k u t i   d a n   m e m p e l a j a r i   d e n g a n   s a k s a m a   h a s i l   s t u d i   P r o g r a m m e   f o r   I n t e r n a t i o n a l   S t u d e n t   A s s e s s m e n t   p i s a   y a n g   d i r i l i s   p a d a   h a r i   i n i   s e l a s a   d e s e m b e r', 'k e m e n d i k b u d   m e n g a j a k   s e l u r u h   p e n a n g g u n g   j a w a b   b i d a n g   p e n d i d i k a n   u n t u k   m e n g u b a h   p a r a d i g m a   k e p e m i m p i n a n   d a r i   s e m u l a   p a r a d i g m a   r e g u l a t o r   a t a u   p e n g a w a s   m e n j a d i   p a r a d i g m a   p e l a y a n   a p a   y a n g   b i s a   s a y a   l a k u k a n   u n t u k   a n d a   s e h i n g g a   a n d a   b i s a   b e r t u g a s   d e n g a n   l e b i h   b a i k   g u r u   p e n g g e r a k', 'm e n d i k b u d   m e m o h o n   m a s u k a n   d a n   d i b e r i k a n   w a k t u   o l e h   p a r a   g u r u   u n t u k   b e r g e r a k   m e n y e d e r h a n a k a n   b e r b a g a i   m a c a m   a t u r a n   a d m i n i s t r a s i   k u r i k u l u m   d a n   a s e s m e n   m e r d e k a   b e l a j a r   g u r u   p e n g g e r a k', 'd i   h a d a p a n   p a r a   g u r u   m e n d i k b u d   m e n y a m p a i k a n   a p r e s i a s i   k e p a d a   p g r i   y a n g   s u d a h   b e r p u l u h   p u l u h   t a h u n   m e m p e r j u a n g k a n   h a k   k u a l i t a s   d a n   k e s e j a h t e r a a n   g u r u   g u r u   s e l u r u h   i n d o n e s i a   m e r d e k a   b e l a j a r   g u r u   p e n g g e r a k', 'm e n d i k b u d   n a d i e m   m a k a r i m   m e n g h a d i r i   p u n c a k   p e r i n g a t a n   h a r i   g u r u   n a s i o n a l   d i   s t a d i o n   w i b a w a   m u k t i   k a b u p a t e n   b e k a s i   j a w a   b a r a t   a c a r a   t e r s e b u t   j u g a   d i h a d i r i   a n t a r a   l a i n   g u b e r n u r   j a w a   b a r a t   r i d w a n   k a m i l   d a n   k e t u a   u m u m   p g r i   u n i f a h   r a s y i d i   g u r u   p e n g g e r e a k']\n"
          ],
          "name": "stdout"
        }
      ]
    },
    {
      "cell_type": "code",
      "metadata": {
        "id": "2o68t5aS7Vr2",
        "colab_type": "code",
        "outputId": "c5616744-aeb9-49ab-91ad-2e0a384f7cf3",
        "colab": {
          "base_uri": "https://localhost:8080/",
          "height": 954
        }
      },
      "source": [
        "from sklearn.feature_extraction.text import TfidfVectorizer \n",
        " \n",
        "# settings that you use for count vectorizer will go here\n",
        "tfidf_vectorizer=TfidfVectorizer(use_idf=True)\n",
        " \n",
        "# just send in all your docs here\n",
        "tfidf_vectorizer_vectors=tfidf_vectorizer.fit_transform(dataTrain)\n",
        "tfidf_vectorizer_vectors.shape\n",
        "print(tfidf_vectorizer_vectors)\n"
      ],
      "execution_count": 0,
      "outputs": [
        {
          "output_type": "stream",
          "text": [
            "  (0, 622)\t0.2678478584978516\n",
            "  (0, 681)\t0.2918936379840764\n",
            "  (0, 909)\t0.2918936379840764\n",
            "  (0, 296)\t0.2918936379840764\n",
            "  (0, 455)\t0.2918936379840764\n",
            "  (0, 202)\t0.2918936379840764\n",
            "  (0, 667)\t0.226741326956803\n",
            "  (0, 873)\t0.1649787493184039\n",
            "  (0, 283)\t0.1333054205230989\n",
            "  (0, 401)\t0.14210734858805663\n",
            "  (0, 452)\t0.21759954587464614\n",
            "  (0, 919)\t0.1046702876960814\n",
            "  (0, 758)\t0.2918936379840764\n",
            "  (0, 144)\t0.2678478584978516\n",
            "  (0, 183)\t0.2918936379840764\n",
            "  (0, 739)\t0.2918936379840764\n",
            "  (1, 276)\t0.20716382556819582\n",
            "  (1, 595)\t0.13174940927967393\n",
            "  (1, 612)\t0.20716382556819582\n",
            "  (1, 831)\t0.1544355494577548\n",
            "  (1, 78)\t0.19009796657401198\n",
            "  (1, 607)\t0.16092368792684297\n",
            "  (1, 611)\t0.20716382556819582\n",
            "  (1, 165)\t0.08214030711991216\n",
            "  (1, 575)\t0.1779895469210268\n",
            "  :\t:\n",
            "  (97, 219)\t0.21179228800407995\n",
            "  (97, 904)\t0.12641339428027853\n",
            "  (97, 245)\t0.3667940242442466\n",
            "  (97, 283)\t0.11257779722558006\n",
            "  (97, 919)\t0.08839513335281628\n",
            "  (98, 314)\t0.3285070397818901\n",
            "  (98, 32)\t0.3285070397818901\n",
            "  (98, 625)\t0.3285070397818901\n",
            "  (98, 910)\t0.3285070397818901\n",
            "  (98, 678)\t0.3285070397818901\n",
            "  (98, 836)\t0.3285070397818901\n",
            "  (98, 436)\t0.25518241037805844\n",
            "  (98, 842)\t0.2822443494214122\n",
            "  (98, 680)\t0.30144510073853636\n",
            "  (98, 291)\t0.20891972001758052\n",
            "  (98, 562)\t0.24489393865125345\n",
            "  (98, 631)\t0.11501814716013886\n",
            "  (99, 379)\t0.4487754688914828\n",
            "  (99, 436)\t0.34860624583968264\n",
            "  (99, 643)\t0.4118059890551993\n",
            "  (99, 671)\t0.3652299527452244\n",
            "  (99, 562)\t0.33455110191814214\n",
            "  (99, 299)\t0.3116367660033991\n",
            "  (99, 165)\t0.17793914908418348\n",
            "  (99, 818)\t0.3652299527452244\n"
          ],
          "name": "stdout"
        }
      ]
    },
    {
      "cell_type": "code",
      "metadata": {
        "id": "B8cdpLSD72uA",
        "colab_type": "code",
        "outputId": "f3760f33-5e4f-461d-b358-231b6b45a2d1",
        "colab": {
          "base_uri": "https://localhost:8080/",
          "height": 237
        }
      },
      "source": [
        "from sklearn import  svm\n",
        "from sklearn.linear_model import SGDClassifier\n",
        "\n",
        "clf = SGDClassifier(loss='hinge', penalty='l2', alpha=0.0001, random_state=1, max_iter=1, tol=None)\n",
        "clf = clf.fit(tfidf_vectorizer_vectors, classTrain)\n",
        "\n",
        "dataTest_vectors = tfidf_vectorizer.transform(dataTest)\n",
        "svm = clf.predict(dataTest_vectors)\n",
        "print('Akurasi = ',np.mean(svm == classTest))\n",
        "print(svm)"
      ],
      "execution_count": 0,
      "outputs": [
        {
          "output_type": "stream",
          "text": [
            "Akurasi =  0.8450704225352113\n",
            "['positif' 'positif' 'positif' 'positif' 'positif' 'positif' 'positif'\n",
            " 'positif' 'positif' 'positif' 'positif' 'positif' 'positif' 'positif'\n",
            " 'positif' 'positif' 'positif' 'positif' 'positif' 'negatif' 'positif'\n",
            " 'positif' 'negatif' 'negatif' 'positif' 'negatif' 'positif' 'positif'\n",
            " 'positif' 'positif' 'positif' 'positif' 'positif' 'positif' 'negatif'\n",
            " 'positif' 'positif' 'positif' 'positif' 'positif' 'positif' 'positif'\n",
            " 'positif' 'positif' 'positif' 'positif' 'positif' 'negatif' 'positif'\n",
            " 'positif' 'positif' 'positif' 'positif' 'positif' 'positif' 'positif'\n",
            " 'positif' 'positif' 'positif' 'positif' 'positif' 'positif' 'positif'\n",
            " 'positif' 'negatif' 'negatif' 'positif' 'positif' 'positif' 'positif'\n",
            " 'positif']\n"
          ],
          "name": "stdout"
        }
      ]
    },
    {
      "cell_type": "markdown",
      "metadata": {
        "id": "0u-lbnESEwRJ",
        "colab_type": "text"
      },
      "source": [
        "**SVM DETECTION**"
      ]
    },
    {
      "cell_type": "code",
      "metadata": {
        "id": "QYiJuxvdFBq0",
        "colab_type": "code",
        "outputId": "3f5007d7-17e4-49fe-8d98-05b9e0f3f3d6",
        "colab": {
          "base_uri": "https://localhost:8080/",
          "height": 424
        }
      },
      "source": [
        "import pandas as pd\n",
        "import numpy as np\n",
        "import matplotlib.pyplot as plt\n",
        "\n",
        "data = pd.read_csv(\"DatasetDamin.csv\")\n",
        "data"
      ],
      "execution_count": 0,
      "outputs": [
        {
          "output_type": "execute_result",
          "data": {
            "text/html": [
              "<div>\n",
              "<style scoped>\n",
              "    .dataframe tbody tr th:only-of-type {\n",
              "        vertical-align: middle;\n",
              "    }\n",
              "\n",
              "    .dataframe tbody tr th {\n",
              "        vertical-align: top;\n",
              "    }\n",
              "\n",
              "    .dataframe thead th {\n",
              "        text-align: right;\n",
              "    }\n",
              "</style>\n",
              "<table border=\"1\" class=\"dataframe\">\n",
              "  <thead>\n",
              "    <tr style=\"text-align: right;\">\n",
              "      <th></th>\n",
              "      <th>Tweet</th>\n",
              "      <th>Label</th>\n",
              "    </tr>\n",
              "  </thead>\n",
              "  <tbody>\n",
              "    <tr>\n",
              "      <th>0</th>\n",
              "      <td>sayangnya dibuku buku sejarah yang masuk kurik...</td>\n",
              "      <td>negatif</td>\n",
              "    </tr>\n",
              "    <tr>\n",
              "      <th>1</th>\n",
              "      <td>pelajaran berganti kurikulum demi kurikulum Il...</td>\n",
              "      <td>positif</td>\n",
              "    </tr>\n",
              "    <tr>\n",
              "      <th>2</th>\n",
              "      <td>ganti lagi dong kurikulum pendidikan indonesia...</td>\n",
              "      <td>negatif</td>\n",
              "    </tr>\n",
              "    <tr>\n",
              "      <th>3</th>\n",
              "      <td>Masalah pendidikan itu tidak bisa hanya seoran...</td>\n",
              "      <td>negatif</td>\n",
              "    </tr>\n",
              "    <tr>\n",
              "      <th>4</th>\n",
              "      <td>pesannya untuk menteri pendidikan yang baru ke...</td>\n",
              "      <td>positif</td>\n",
              "    </tr>\n",
              "    <tr>\n",
              "      <th>...</th>\n",
              "      <td>...</td>\n",
              "      <td>...</td>\n",
              "    </tr>\n",
              "    <tr>\n",
              "      <th>168</th>\n",
              "      <td>kemendikbud mengajak seluruh penanggung jawab ...</td>\n",
              "      <td>positif</td>\n",
              "    </tr>\n",
              "    <tr>\n",
              "      <th>169</th>\n",
              "      <td>mendikbud memohon masukan dan diberikan waktu ...</td>\n",
              "      <td>positif</td>\n",
              "    </tr>\n",
              "    <tr>\n",
              "      <th>170</th>\n",
              "      <td>di hadapan para guru mendikbud menyampaikan ap...</td>\n",
              "      <td>positif</td>\n",
              "    </tr>\n",
              "    <tr>\n",
              "      <th>171</th>\n",
              "      <td>mendikbud nadiem makarim menghadiri puncak per...</td>\n",
              "      <td>positif</td>\n",
              "    </tr>\n",
              "    <tr>\n",
              "      <th>172</th>\n",
              "      <td>ujian nasional pada kemungkinan akan menjadi y...</td>\n",
              "      <td>positif</td>\n",
              "    </tr>\n",
              "  </tbody>\n",
              "</table>\n",
              "<p>173 rows × 2 columns</p>\n",
              "</div>"
            ],
            "text/plain": [
              "                                                 Tweet    Label\n",
              "0    sayangnya dibuku buku sejarah yang masuk kurik...  negatif\n",
              "1    pelajaran berganti kurikulum demi kurikulum Il...  positif\n",
              "2    ganti lagi dong kurikulum pendidikan indonesia...  negatif\n",
              "3    Masalah pendidikan itu tidak bisa hanya seoran...  negatif\n",
              "4    pesannya untuk menteri pendidikan yang baru ke...  positif\n",
              "..                                                 ...      ...\n",
              "168  kemendikbud mengajak seluruh penanggung jawab ...  positif\n",
              "169  mendikbud memohon masukan dan diberikan waktu ...  positif\n",
              "170  di hadapan para guru mendikbud menyampaikan ap...  positif\n",
              "171  mendikbud nadiem makarim menghadiri puncak per...  positif\n",
              "172  ujian nasional pada kemungkinan akan menjadi y...  positif\n",
              "\n",
              "[173 rows x 2 columns]"
            ]
          },
          "metadata": {
            "tags": []
          },
          "execution_count": 71
        }
      ]
    },
    {
      "cell_type": "code",
      "metadata": {
        "id": "KTvQDsawFLxq",
        "colab_type": "code",
        "outputId": "fc0be468-2456-44a6-eccb-d3a9cd3d1732",
        "colab": {
          "base_uri": "https://localhost:8080/",
          "height": 954
        }
      },
      "source": [
        "from sklearn import model_selection, svm\n",
        "\n",
        "Train_X, Test_X, Train_Y, Test_Y = model_selection.train_test_split(data['Tweet'],data['Label'],test_size=0.5)\n",
        "\n",
        "from sklearn.preprocessing import LabelEncoder\n",
        "\n",
        "Encoder = LabelEncoder()\n",
        "Train_Y = Encoder.fit_transform(Train_Y)\n",
        "Test_Y = Encoder.fit_transform(Test_Y)\n",
        "\n",
        "from sklearn.feature_extraction.text import TfidfVectorizer \n",
        "\n",
        "tfidf_vectorizer=TfidfVectorizer(use_idf=True)\n",
        "\n",
        "Tfidf_vect = TfidfVectorizer(max_features=50)\n",
        "Tfidf_vect.fit(data['Tweet'])\n",
        "\n",
        "Train_X_Tfidf=Tfidf_vect.transform(Train_X)\n",
        "\n",
        "print(Train_X_Tfidf)"
      ],
      "execution_count": 0,
      "outputs": [
        {
          "output_type": "stream",
          "text": [
            "  (0, 42)\t0.6970180568742369\n",
            "  (0, 24)\t0.58932072806858\n",
            "  (0, 9)\t0.40849346122059493\n",
            "  (1, 43)\t0.37124276423024294\n",
            "  (1, 36)\t0.2850062901968051\n",
            "  (1, 31)\t0.47541586423033405\n",
            "  (1, 23)\t0.5186516071464968\n",
            "  (1, 16)\t0.3603736909336871\n",
            "  (1, 15)\t0.31283134920622657\n",
            "  (1, 13)\t0.2412422865794194\n",
            "  (2, 48)\t0.3803231167583569\n",
            "  (2, 44)\t0.5579412628680644\n",
            "  (2, 36)\t0.3065965038701444\n",
            "  (2, 25)\t0.5475069972082338\n",
            "  (2, 16)\t0.38767324626678357\n",
            "  (3, 48)\t0.3239125501274206\n",
            "  (3, 43)\t0.34013067632132854\n",
            "  (3, 25)\t0.4662992594031658\n",
            "  (3, 19)\t0.45795155668352033\n",
            "  (3, 15)\t0.2866144437876144\n",
            "  (3, 13)\t0.4420498390679596\n",
            "  (3, 9)\t0.2732787143168195\n",
            "  (4, 49)\t0.17991848660997073\n",
            "  (4, 48)\t0.24997174436271327\n",
            "  (4, 43)\t0.26248769440352215\n",
            "  :\t:\n",
            "  (81, 11)\t0.35081758993577183\n",
            "  (82, 49)\t0.16093494367101796\n",
            "  (82, 48)\t0.22359674848515507\n",
            "  (82, 40)\t0.33457851831416713\n",
            "  (82, 39)\t0.3492306591674181\n",
            "  (82, 38)\t0.34162253814957705\n",
            "  (82, 30)\t0.2530772133194995\n",
            "  (82, 26)\t0.29161698415759674\n",
            "  (82, 16)\t0.22791798215887152\n",
            "  (82, 13)\t0.6102937761756984\n",
            "  (83, 43)\t0.42577549403311427\n",
            "  (83, 15)\t0.3587838877708586\n",
            "  (83, 13)\t0.5533578760141278\n",
            "  (83, 4)\t0.619503358836753\n",
            "  (84, 46)\t0.38987148330488397\n",
            "  (84, 22)\t0.5973862782368615\n",
            "  (84, 15)\t0.33843764183590885\n",
            "  (84, 13)\t0.5219775498089125\n",
            "  (84, 9)\t0.32269065862524454\n",
            "  (85, 46)\t0.2850556776326306\n",
            "  (85, 42)\t0.4025812449033376\n",
            "  (85, 33)\t0.3953742239072947\n",
            "  (85, 24)\t0.6807555988352171\n",
            "  (85, 16)\t0.2850556776326306\n",
            "  (85, 9)\t0.2359362207781834\n"
          ],
          "name": "stdout"
        }
      ]
    },
    {
      "cell_type": "code",
      "metadata": {
        "id": "r-nbNyoxFnlW",
        "colab_type": "code",
        "outputId": "7e92ffa5-752b-42d1-e5ce-10b42c6c6867",
        "colab": {
          "base_uri": "https://localhost:8080/",
          "height": 954
        }
      },
      "source": [
        "Test_X_Tfidf=Tfidf_vect.transform(Test_X)\n",
        "print(Test_X_Tfidf)"
      ],
      "execution_count": 0,
      "outputs": [
        {
          "output_type": "stream",
          "text": [
            "  (0, 46)\t0.4443642661590306\n",
            "  (0, 15)\t0.38574145787780034\n",
            "  (0, 13)\t0.5949349485787861\n",
            "  (0, 12)\t0.40561591973935246\n",
            "  (0, 9)\t0.3677935008245953\n",
            "  (1, 49)\t0.11230724339692913\n",
            "  (1, 47)\t0.4011084380670491\n",
            "  (1, 46)\t0.15905085441964803\n",
            "  (1, 21)\t0.7151961780333453\n",
            "  (1, 19)\t0.22060465046763197\n",
            "  (1, 18)\t0.2437079962010039\n",
            "  (1, 14)\t0.22060465046763197\n",
            "  (1, 13)\t0.1064722335950621\n",
            "  (1, 7)\t0.24947950148186468\n",
            "  (1, 5)\t0.2437079962010039\n",
            "  (2, 49)\t0.3640932629247958\n",
            "  (2, 36)\t0.40779533115431194\n",
            "  (2, 16)\t0.5156332112253569\n",
            "  (2, 1)\t0.6597434768627479\n",
            "  (3, 49)\t0.3323322570249911\n",
            "  (3, 47)\t0.5934669416800777\n",
            "  (3, 24)\t0.5619947605202391\n",
            "  (3, 16)\t0.4706528967523409\n",
            "  (4, 46)\t0.2285171288513752\n",
            "  (4, 33)\t0.31695486025566993\n",
            "  :\t:\n",
            "  (82, 2)\t0.2564206474786314\n",
            "  (83, 46)\t0.5740224222792261\n",
            "  (83, 15)\t0.4982944464424846\n",
            "  (83, 13)\t0.384263571904252\n",
            "  (83, 12)\t0.5239679481348583\n",
            "  (84, 49)\t0.5551507161872593\n",
            "  (84, 36)\t0.3108926931654016\n",
            "  (84, 17)\t0.4820144284097736\n",
            "  (84, 5)\t0.6023416858046068\n",
            "  (85, 49)\t0.27710605185088816\n",
            "  (85, 40)\t0.5760944772422057\n",
            "  (85, 37)\t0.30066164295863224\n",
            "  (85, 36)\t0.15518352807689517\n",
            "  (85, 28)\t0.3077819274266758\n",
            "  (85, 17)\t0.24059973498573384\n",
            "  (85, 16)\t0.19622044392972868\n",
            "  (85, 12)\t0.35822023460246893\n",
            "  (85, 5)\t0.30066164295863224\n",
            "  (85, 0)\t0.25885993977201155\n",
            "  (86, 36)\t0.3403107001394239\n",
            "  (86, 27)\t0.5676685433921271\n",
            "  (86, 16)\t0.43030286450444866\n",
            "  (86, 15)\t0.3735351082967957\n",
            "  (86, 13)\t0.2880544544907664\n",
            "  (86, 12)\t0.39278066542368145\n"
          ],
          "name": "stdout"
        }
      ]
    },
    {
      "cell_type": "code",
      "metadata": {
        "id": "zHghoLGZFybp",
        "colab_type": "code",
        "outputId": "f583e0bf-76c7-4a9e-ff71-de0ce3feeaf3",
        "colab": {
          "base_uri": "https://localhost:8080/",
          "height": 35
        }
      },
      "source": [
        "from sklearn.metrics import accuracy_score\n",
        "import itertools\n",
        "\n",
        "SVM = svm.SVC(C=1.0, kernel='linear', degree=3, gamma='auto')\n",
        "\n",
        "SVM.fit(Train_X_Tfidf,Train_Y)\n",
        "\n",
        "predictions_SVM = SVM.predict(Test_X_Tfidf)\n",
        "\n",
        "print(\"SVM Accuracy Score -> \",accuracy_score(predictions_SVM, Test_Y)*100)"
      ],
      "execution_count": 0,
      "outputs": [
        {
          "output_type": "stream",
          "text": [
            "SVM Accuracy Score ->  78.16091954022988\n"
          ],
          "name": "stdout"
        }
      ]
    },
    {
      "cell_type": "code",
      "metadata": {
        "id": "EGztAqNwGSTT",
        "colab_type": "code",
        "outputId": "0ea0b068-d26b-492f-9183-7b283753b161",
        "colab": {
          "base_uri": "https://localhost:8080/",
          "height": 182
        }
      },
      "source": [
        "from sklearn.linear_model import SGDClassifier\n",
        "yhat = SVM.predict(Test_X_Tfidf)\n",
        "\n",
        "from sklearn.metrics import f1_score\n",
        "f1_score(Test_Y, yhat, average='weighted')\n",
        "\n",
        "from sklearn.metrics import classification_report, confusion_matrix\n",
        "import itertools\n",
        "\n",
        "def plot_confusion_matrix(cm, classes,\n",
        "                          normalize=False,\n",
        "                          title='Confusion matrix',\n",
        "                          cmap=plt.cm.Blues):\n",
        "    \"\"\"\n",
        "    This function prints and plots the confusion matrix.\n",
        "    Normalization can be applied by setting `normalize=True`.\n",
        "    \"\"\"\n",
        "    if normalize:\n",
        "        cm = cm.astype('float') / cm.sum(axis=1)[:, np.newaxis]\n",
        "        print(\"Normalized confusion matrix\")\n",
        "    else:\n",
        "        print('Confusion matrix, without normalization')\n",
        "\n",
        "    print(cm)\n",
        "\n",
        "    plt.imshow(cm, interpolation='nearest', cmap=cmap)\n",
        "    plt.title(title)\n",
        "    plt.colorbar()\n",
        "    tick_marks = np.arange(len(classes))\n",
        "    plt.xticks(tick_marks, classes, rotation=45)\n",
        "    plt.yticks(tick_marks, classes)\n",
        "\n",
        "    fmt = '.2f' if normalize else 'd'\n",
        "    thresh = cm.max() / 2.\n",
        "    for i, j in itertools.product(range(cm.shape[0]), range(cm.shape[1])):\n",
        "        plt.text(j, i, format(cm[i, j], fmt),\n",
        "                 horizontalalignment=\"center\",\n",
        "                 color=\"white\" if cm[i, j] > thresh else \"black\")\n",
        "\n",
        "    plt.tight_layout()\n",
        "    plt.ylabel('True label')\n",
        "    plt.xlabel('Predicted label')\n",
        "\n",
        "cnf_matrix = confusion_matrix(Test_Y, yhat)\n",
        "print (classification_report(Test_Y, yhat))\n"
      ],
      "execution_count": 0,
      "outputs": [
        {
          "output_type": "stream",
          "text": [
            "              precision    recall  f1-score   support\n",
            "\n",
            "           0       0.80      0.32      0.46        25\n",
            "           1       0.78      0.97      0.86        62\n",
            "\n",
            "    accuracy                           0.78        87\n",
            "   macro avg       0.79      0.64      0.66        87\n",
            "weighted avg       0.79      0.78      0.75        87\n",
            "\n"
          ],
          "name": "stdout"
        }
      ]
    },
    {
      "cell_type": "code",
      "metadata": {
        "id": "8oX7lgobGvq4",
        "colab_type": "code",
        "outputId": "3de60423-a464-46a6-c145-2d8bd2778a99",
        "colab": {
          "base_uri": "https://localhost:8080/",
          "height": 54
        }
      },
      "source": [
        "print (cnf_matrix)"
      ],
      "execution_count": 0,
      "outputs": [
        {
          "output_type": "stream",
          "text": [
            "[[ 8 17]\n",
            " [ 2 60]]\n"
          ],
          "name": "stdout"
        }
      ]
    },
    {
      "cell_type": "code",
      "metadata": {
        "id": "ly0zTpvsG1h8",
        "colab_type": "code",
        "outputId": "02ce6dbb-e402-454b-e37b-6af9486651fc",
        "colab": {
          "base_uri": "https://localhost:8080/",
          "height": 352
        }
      },
      "source": [
        "plot_confusion_matrix(cnf_matrix, classes=['Positif','Negatif'],normalize= False,  title='Confusion matrix')"
      ],
      "execution_count": 0,
      "outputs": [
        {
          "output_type": "stream",
          "text": [
            "Confusion matrix, without normalization\n",
            "[[ 8 17]\n",
            " [ 2 60]]\n"
          ],
          "name": "stdout"
        },
        {
          "output_type": "display_data",
          "data": {
            "image/png": "[encoded data removed]",
            "text/plain": [
              "<Figure size 432x288 with 2 Axes>"
            ]
          },
          "metadata": {
            "tags": []
          }
        }
      ]
    },
    {
      "cell_type": "code",
      "metadata": {
        "id": "lgEyeEOzHY9D",
        "colab_type": "code",
        "outputId": "6426aefb-0bfc-45f5-eea2-bad17b04f6dd",
        "colab": {
          "base_uri": "https://localhost:8080/",
          "height": 35
        }
      },
      "source": [
        "from sklearn.model_selection import cross_val_score\n",
        "\n",
        "scores = cross_val_score(SVM, Train_X_Tfidf, Train_Y, cv=2)\n",
        "scores\n",
        "np.mean(scores)"
      ],
      "execution_count": 0,
      "outputs": [
        {
          "output_type": "execute_result",
          "data": {
            "text/plain": [
              "0.7558139534883721"
            ]
          },
          "metadata": {
            "tags": []
          },
          "execution_count": 46
        }
      ]
    }
  ]
}